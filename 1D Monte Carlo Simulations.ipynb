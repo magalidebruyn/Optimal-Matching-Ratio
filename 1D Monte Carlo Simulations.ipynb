{
 "cells": [
  {
   "cell_type": "markdown",
   "metadata": {
    "collapsed": false
   },
   "source": [
    "## M = ?: Monogamy vs. polygamy? "
   ]
  },
  {
   "cell_type": "markdown",
   "metadata": {
    "collapsed": false
   },
   "source": [
    "#### cases we have right now: \n",
    "1. #[1:1 < NO < 1:2 == 0 < 0.41 < 0.82]\n",
    "2. [1:1 < 1:2 < NO == 1 < 0.82 < 0.9\n",
    "3. [NO < 1:1 < 1:2 == 0.90 < 0.978 = 0.98]\n",
    "4. [1:2 < NO < 1:1 == 0.5 < 0.54 = 0.78]"
   ]
  },
  {
   "cell_type": "markdown",
   "metadata": {
    "collapsed": false
   },
   "source": [
    "---"
   ]
  },
  {
   "cell_type": "markdown",
   "metadata": {
    "collapsed": false
   },
   "source": [
    "Usually have many more control units than treated units\n",
    "\n",
    "Explain 1:1 vs. M:1\n",
    "\n",
    "Why would you ever want to go the extra mile of matching with multiple people?\n",
    "\n",
    "Explain\n",
    "\n",
    "Bigger sample size\n",
    "\n",
    "Bias-variance tradeoff\n",
    "\n",
    "Matching can happen with not only people but also countries, etc. \n",
    "\n",
    "Give 1-2 successful policy examples?\n",
    "\n",
    "Discuss norm\n",
    "\n",
    "\n",
    "<br> \n",
    "What is our hypothesis?\n",
    "\n",
    "M =1 can provide better matching on covariates if the matches are far\n",
    "\n",
    "Higher M -> reduce variance \n",
    "\n",
    "If distribution is scarce and scattered, any single match = bad, multiple matches = much better\n",
    "\n",
    "Equal terribleness but in different directions = better match\n",
    "\n",
    "Reduce variance of matched controls\n",
    "\n",
    "When include more dimensions i.e. covariates, problem even more pronounced: higher likelihood of having bad matches\n",
    "\n",
    "Vini’s drawing with circle \n",
    "- Include in our paper\n"
   ]
  },
  {
   "cell_type": "markdown",
   "metadata": {
    "collapsed": false
   },
   "source": [
    "## Data (self-constructed) exploration"
   ]
  },
  {
   "cell_type": "code",
   "execution_count": 52,
   "metadata": {
    "collapsed": false
   },
   "outputs": [
   ],
   "source": [
    "# Load relevant libraries\n",
    "library(Matching)"
   ]
  },
  {
   "cell_type": "markdown",
   "metadata": {
    "collapsed": false
   },
   "source": [
    "### Dataset 1A (with ties)"
   ]
  },
  {
   "cell_type": "code",
   "execution_count": 78,
   "metadata": {
    "collapsed": false
   },
   "outputs": [
   ],
   "source": [
    "# STEP 1. DATA SIMULATING/WRANGLING\n",
    "age <- c(18, 20, 22, 25, 28)\n",
    "tr <- c(0,1,0, 1, 0)\n",
    "data <- cbind(age, tr)\n"
   ]
  },
  {
   "cell_type": "raw",
   "metadata": {
    "collapsed": false
   },
   "source": [
    "plot_data(age, tr)"
   ]
  },
  {
   "cell_type": "code",
   "execution_count": 79,
   "metadata": {
    "collapsed": false
   },
   "outputs": [
    {
     "name": "stdout",
     "output_type": "stream",
     "text": [
      "\n",
      "\n",
      "Sun Dec  8 03:15:50 2019\n",
      "Domains:\n",
      " 0.000000e+00   <=  X1   <=    1.000000e+03 \n",
      "\n",
      "Data Type: Floating Point\n",
      "Operators (code number, name, population) \n",
      "\t(1) Cloning........................... \t22\n",
      "\t(2) Uniform Mutation.................. \t25\n",
      "\t(3) Boundary Mutation................. \t25\n",
      "\t(4) Non-Uniform Mutation.............. \t25\n",
      "\t(5) Polytope Crossover................ \t25\n",
      "\t(6) Simple Crossover.................. \t26\n",
      "\t(7) Whole Non-Uniform Mutation........ \t25\n",
      "\t(8) Heuristic Crossover............... \t26\n",
      "\t(9) Local-Minimum Crossover........... \t0\n",
      "\n",
      "SOFT Maximum Number of Generations: 10\n",
      "Maximum Nonchanging Generations: 25\n",
      "Population size       : 200\n",
      "Convergence Tolerance: 1.000000e-03\n",
      "\n",
      "Not Using the BFGS Derivative Based Optimizer on the Best Individual Each Generation.\n",
      "Not Checking Gradients before Stopping.\n",
      "Using Out of Bounds Individuals.\n",
      "\n",
      "Maximization Problem.\n",
      "GENERATION: 0 (initializing the population)\n",
      "Lexical Fit..... 9.996333e-01  1.000000e+00  \n",
      "#unique......... 200, #Total UniqueCount: 200\n",
      "var 1:\n",
      "best............ 1.000000e+00\n",
      "mean............ 5.101452e+02\n",
      "variance........ 8.954043e+04\n",
      "\n",
      "GENERATION: 1\n",
      "Lexical Fit..... 9.996333e-01  1.000000e+00  \n",
      "#unique......... 122, #Total UniqueCount: 322\n",
      "var 1:\n",
      "best............ 1.000000e+00\n",
      "mean............ 3.484504e+02\n",
      "variance........ 1.002508e+05\n",
      "\n",
      "GENERATION: 2\n",
      "Lexical Fit..... 9.996333e-01  1.000000e+00  \n",
      "#unique......... 122, #Total UniqueCount: 444\n",
      "var 1:\n",
      "best............ 1.000000e+00\n",
      "mean............ 3.317494e+02\n",
      "variance........ 9.849646e+04\n",
      "\n",
      "GENERATION: 3\n",
      "Lexical Fit..... 9.996333e-01  1.000000e+00  \n",
      "#unique......... 115, #Total UniqueCount: 559\n",
      "var 1:\n",
      "best............ 1.000000e+00\n",
      "mean............ 3.094440e+02\n",
      "variance........ 9.456741e+04\n",
      "\n",
      "GENERATION: 4\n",
      "Lexical Fit..... 9.996333e-01  1.000000e+00  \n",
      "#unique......... 124, #Total UniqueCount: 683\n",
      "var 1:\n",
      "best............ 1.000000e+00\n",
      "mean............ 3.422626e+02\n",
      "variance........ 9.539281e+04\n",
      "\n",
      "GENERATION: 5\n",
      "Lexical Fit..... 9.996333e-01  1.000000e+00  \n",
      "#unique......... 121, #Total UniqueCount: 804\n",
      "var 1:\n",
      "best............ 1.000000e+00\n",
      "mean............ 3.441249e+02\n",
      "variance........ 9.686676e+04\n",
      "\n",
      "GENERATION: 6\n",
      "Lexical Fit..... 9.996333e-01  1.000000e+00  \n",
      "#unique......... 113, #Total UniqueCount: 917\n",
      "var 1:\n",
      "best............ 1.000000e+00\n",
      "mean............ 3.106025e+02\n",
      "variance........ 9.746903e+04\n",
      "\n",
      "GENERATION: 7\n",
      "Lexical Fit..... 9.996333e-01  1.000000e+00  \n",
      "#unique......... 119, #Total UniqueCount: 1036\n",
      "var 1:\n",
      "best............ 1.000000e+00\n",
      "mean............ 3.245772e+02\n",
      "variance........ 1.038269e+05\n",
      "\n",
      "GENERATION: 8\n",
      "Lexical Fit..... 9.996333e-01  1.000000e+00  \n",
      "#unique......... 115, #Total UniqueCount: 1151\n",
      "var 1:\n",
      "best............ 1.000000e+00\n",
      "mean............ 3.423333e+02\n",
      "variance........ 1.056386e+05\n",
      "\n",
      "GENERATION: 9\n",
      "Lexical Fit..... 9.996333e-01  1.000000e+00  \n",
      "#unique......... 123, #Total UniqueCount: 1274\n",
      "var 1:\n",
      "best............ 1.000000e+00\n",
      "mean............ 3.518350e+02\n",
      "variance........ 1.027629e+05\n",
      "\n",
      "GENERATION: 10\n",
      "Lexical Fit..... 9.996333e-01  1.000000e+00  \n",
      "#unique......... 112, #Total UniqueCount: 1386\n",
      "var 1:\n",
      "best............ 1.000000e+00\n",
      "mean............ 3.285870e+02\n",
      "variance........ 1.003036e+05\n",
      "\n",
      "Increasing 'max.generations' limit by 25 generations to 35 because the fitness is still impoving.\n",
      "\n",
      "\n",
      "GENERATION: 11\n",
      "Lexical Fit..... 9.996333e-01  1.000000e+00  \n",
      "#unique......... 119, #Total UniqueCount: 1505\n",
      "var 1:\n",
      "best............ 1.000000e+00\n",
      "mean............ 3.509281e+02\n",
      "variance........ 1.131360e+05\n",
      "\n",
      "GENERATION: 12\n",
      "Lexical Fit..... 9.996333e-01  1.000000e+00  \n",
      "#unique......... 118, #Total UniqueCount: 1623\n",
      "var 1:\n",
      "best............ 1.000000e+00\n",
      "mean............ 2.910980e+02\n",
      "variance........ 9.624931e+04\n",
      "\n",
      "GENERATION: 13\n",
      "Lexical Fit..... 9.996333e-01  1.000000e+00  \n",
      "#unique......... 122, #Total UniqueCount: 1745\n",
      "var 1:\n",
      "best............ 1.000000e+00\n",
      "mean............ 3.139958e+02\n",
      "variance........ 9.283560e+04\n",
      "\n",
      "GENERATION: 14\n",
      "Lexical Fit..... 9.996333e-01  1.000000e+00  \n",
      "#unique......... 116, #Total UniqueCount: 1861\n",
      "var 1:\n",
      "best............ 1.000000e+00\n",
      "mean............ 3.353156e+02\n",
      "variance........ 9.388828e+04\n",
      "\n",
      "GENERATION: 15\n",
      "Lexical Fit..... 9.996333e-01  1.000000e+00  \n",
      "#unique......... 117, #Total UniqueCount: 1978\n",
      "var 1:\n",
      "best............ 1.000000e+00\n",
      "mean............ 3.656707e+02\n",
      "variance........ 1.015431e+05\n",
      "\n",
      "GENERATION: 16\n",
      "Lexical Fit..... 9.996333e-01  1.000000e+00  \n",
      "#unique......... 123, #Total UniqueCount: 2101\n",
      "var 1:\n",
      "best............ 1.000000e+00\n",
      "mean............ 3.276474e+02\n",
      "variance........ 1.042021e+05\n",
      "\n",
      "GENERATION: 17\n",
      "Lexical Fit..... 9.996333e-01  1.000000e+00  \n",
      "#unique......... 112, #Total UniqueCount: 2213\n",
      "var 1:\n",
      "best............ 1.000000e+00\n",
      "mean............ 3.081645e+02\n",
      "variance........ 1.062946e+05\n",
      "\n",
      "GENERATION: 18\n",
      "Lexical Fit..... 9.996333e-01  1.000000e+00  \n",
      "#unique......... 121, #Total UniqueCount: 2334\n",
      "var 1:\n",
      "best............ 1.000000e+00\n",
      "mean............ 3.150384e+02\n",
      "variance........ 9.730993e+04\n",
      "\n",
      "GENERATION: 19\n",
      "Lexical Fit..... 9.996333e-01  1.000000e+00  \n",
      "#unique......... 117, #Total UniqueCount: 2451\n",
      "var 1:\n",
      "best............ 1.000000e+00\n",
      "mean............ 2.841344e+02\n",
      "variance........ 9.300495e+04\n",
      "\n",
      "GENERATION: 20\n",
      "Lexical Fit..... 9.996333e-01  1.000000e+00  \n",
      "#unique......... 114, #Total UniqueCount: 2565\n",
      "var 1:\n",
      "best............ 1.000000e+00\n",
      "mean............ 3.256494e+02\n",
      "variance........ 1.016389e+05\n",
      "\n",
      "GENERATION: 21\n",
      "Lexical Fit..... 9.996333e-01  1.000000e+00  \n",
      "#unique......... 124, #Total UniqueCount: 2689\n",
      "var 1:\n",
      "best............ 1.000000e+00\n",
      "mean............ 3.071644e+02\n",
      "variance........ 1.092934e+05\n",
      "\n",
      "GENERATION: 22\n",
      "Lexical Fit..... 9.996333e-01  1.000000e+00  \n",
      "#unique......... 123, #Total UniqueCount: 2812\n",
      "var 1:\n",
      "best............ 1.000000e+00\n",
      "mean............ 3.383788e+02\n",
      "variance........ 9.396366e+04\n",
      "\n",
      "GENERATION: 23\n",
      "Lexical Fit..... 9.996333e-01  1.000000e+00  \n",
      "#unique......... 119, #Total UniqueCount: 2931\n",
      "var 1:\n",
      "best............ 1.000000e+00\n",
      "mean............ 2.948832e+02\n",
      "variance........ 9.567503e+04\n",
      "\n",
      "GENERATION: 24\n",
      "Lexical Fit..... 9.996333e-01  1.000000e+00  \n",
      "#unique......... 121, #Total UniqueCount: 3052\n",
      "var 1:\n",
      "best............ 1.000000e+00\n",
      "mean............ 3.527329e+02\n",
      "variance........ 9.571654e+04\n",
      "\n",
      "GENERATION: 25\n",
      "Lexical Fit..... 9.996333e-01  1.000000e+00  \n",
      "#unique......... 121, #Total UniqueCount: 3173\n",
      "var 1:\n",
      "best............ 1.000000e+00\n",
      "mean............ 3.154514e+02\n",
      "variance........ 1.110975e+05\n",
      "\n",
      "GENERATION: 26\n",
      "Lexical Fit..... 9.996333e-01  1.000000e+00  \n",
      "#unique......... 129, #Total UniqueCount: 3302\n",
      "var 1:\n",
      "best............ 1.000000e+00\n",
      "mean............ 3.713435e+02\n",
      "variance........ 1.082447e+05\n",
      "\n",
      "'wait.generations' limit reached.\n",
      "No significant improvement in 25 generations.\n",
      "\n",
      "Solution Lexical Fitness Value:\n",
      "9.996333e-01  1.000000e+00  \n",
      "\n",
      "Parameters at the Solution:\n",
      "\n",
      " X[ 1] :\t1.000000e+00\n",
      "\n",
      "Solution Found Generation 1\n",
      "Number of Generations Run 26\n",
      "\n",
      "Sun Dec  8 03:15:53 2019\n",
      "Total run time : 0 hours 0 minutes and 3 seconds\n"
     ]
    },
    {
     "data": {
      "text/html": [
       "<ol class=list-inline>\n",
       "\t<li>1</li>\n",
       "\t<li>3</li>\n",
       "\t<li>3</li>\n",
       "\t<li>5</li>\n",
       "</ol>\n"
      ],
      "text/latex": [
       "\\begin{enumerate*}\n",
       "\\item 1\n",
       "\\item 3\n",
       "\\item 3\n",
       "\\item 5\n",
       "\\end{enumerate*}\n"
      ],
      "text/markdown": [
       "1. 1\n",
       "2. 3\n",
       "3. 3\n",
       "4. 5\n",
       "\n",
       "\n"
      ],
      "text/plain": [
       "[1] 1 3 3 5"
      ]
     },
     "execution_count": 79,
     "metadata": {
     },
     "output_type": "execute_result"
    },
    {
     "data": {
      "text/html": [
       "<ol class=list-inline>\n",
       "\t<li>2</li>\n",
       "\t<li>2</li>\n",
       "\t<li>4</li>\n",
       "\t<li>4</li>\n",
       "</ol>\n"
      ],
      "text/latex": [
       "\\begin{enumerate*}\n",
       "\\item 2\n",
       "\\item 2\n",
       "\\item 4\n",
       "\\item 4\n",
       "\\end{enumerate*}\n"
      ],
      "text/markdown": [
       "1. 2\n",
       "2. 2\n",
       "3. 4\n",
       "4. 4\n",
       "\n",
       "\n"
      ],
      "text/plain": [
       "[1] 2 2 4 4"
      ]
     },
     "execution_count": 79,
     "metadata": {
     },
     "output_type": "execute_result"
    },
    {
     "name": "stdout",
     "output_type": "stream",
     "text": [
      "\n",
      "***** (V1) age *****\n",
      "                       Before Matching \t \t After Matching\n",
      "mean treatment........       22.5 \t \t       22.5 \n",
      "mean control..........     22.667 \t \t       22.5 \n",
      "std mean diff.........     -4.714 \t \t          0 \n",
      "\n",
      "mean raw eQQ diff.....        2.5 \t \t        2.5 \n",
      "med  raw eQQ diff.....        2.5 \t \t        2.5 \n",
      "max  raw eQQ diff.....          3 \t \t          3 \n",
      "\n",
      "mean eCDF diff........        0.2 \t \t        0.2 \n",
      "med  eCDF diff........    0.16667 \t \t       0.25 \n",
      "max  eCDF diff........    0.33333 \t \t       0.25 \n",
      "\n",
      "var ratio (Tr/Co).....    0.49342 \t \t     0.4902 \n",
      "T-test p-value........    0.96815 \t \t          1 \n",
      "KS Bootstrap p-value..      0.932 \t \t      0.982 \n",
      "KS Naive p-value......          1 \t \t    0.99963 \n",
      "KS Statistic..........    0.33333 \t \t       0.25 \n",
      "\n"
     ]
    },
    {
     "data": {
      "text/html": [
       "0.932"
      ],
      "text/latex": [
       "0.932"
      ],
      "text/markdown": [
       "0.932"
      ],
      "text/plain": [
       "[1] 0.932"
      ]
     },
     "execution_count": 79,
     "metadata": {
     },
     "output_type": "execute_result"
    },
    {
     "data": {
      "text/html": [
       "0.982"
      ],
      "text/latex": [
       "0.982"
      ],
      "text/markdown": [
       "0.982"
      ],
      "text/plain": [
       "[1] 0.982"
      ]
     },
     "execution_count": 79,
     "metadata": {
     },
     "output_type": "execute_result"
    }
   ],
   "source": [
    "# M = 1 matching\n",
    "genout_m1<- GenMatch(X = age, Tr = tr, M=1, pop.size=200, max.generations=10, wait.generations=25)\n",
    "matchout_m1 <- Match(X = age, Tr = tr, M=1, Weight.matrix=genout_m1)\n",
    "matchout_m1$index.control\n",
    "matchout_m1$index.treated\n",
    "\n",
    "mb.out_m1 <- MatchBalance(tr~age, match.out = matchout_m1, data = data)\n",
    "mb.out_m1$BMsmallest.p.value\n",
    "mb.out_m1$AMsmallest.p.value"
   ]
  },
  {
   "cell_type": "markdown",
   "metadata": {
    "collapsed": false
   },
   "source": [
    "#### What's going on? 1:1 matching is better than no matching: [NO < 1:1 == 0.93 < 0.98]"
   ]
  },
  {
   "cell_type": "markdown",
   "metadata": {
    "collapsed": false,
    "hideCode": true,
    "hideOutput": true
   },
   "source": [
    " "
   ]
  },
  {
   "cell_type": "code",
   "execution_count": 80,
   "metadata": {
    "collapsed": false
   },
   "outputs": [
    {
     "name": "stdout",
     "output_type": "stream",
     "text": [
      "\n",
      "\n",
      "Sun Dec  8 03:16:03 2019\n",
      "Domains:\n",
      " 0.000000e+00   <=  X1   <=    1.000000e+03 \n",
      "\n",
      "Data Type: Floating Point\n",
      "Operators (code number, name, population) \n",
      "\t(1) Cloning........................... \t22\n",
      "\t(2) Uniform Mutation.................. \t25\n",
      "\t(3) Boundary Mutation................. \t25\n",
      "\t(4) Non-Uniform Mutation.............. \t25\n",
      "\t(5) Polytope Crossover................ \t25\n",
      "\t(6) Simple Crossover.................. \t26\n",
      "\t(7) Whole Non-Uniform Mutation........ \t25\n",
      "\t(8) Heuristic Crossover............... \t26\n",
      "\t(9) Local-Minimum Crossover........... \t0\n",
      "\n",
      "SOFT Maximum Number of Generations: 10\n",
      "Maximum Nonchanging Generations: 25\n",
      "Population size       : 200\n",
      "Convergence Tolerance: 1.000000e-03\n",
      "\n",
      "Not Using the BFGS Derivative Based Optimizer on the Best Individual Each Generation.\n",
      "Not Checking Gradients before Stopping.\n",
      "Using Out of Bounds Individuals.\n",
      "\n",
      "Maximization Problem.\n",
      "GENERATION: 0 (initializing the population)\n",
      "Lexical Fit..... 9.996333e-01  1.000000e+00  \n",
      "#unique......... 200, #Total UniqueCount: 200\n",
      "var 1:\n",
      "best............ 1.000000e+00\n",
      "mean............ 4.793789e+02\n",
      "variance........ 8.810570e+04\n",
      "\n",
      "GENERATION: 1\n",
      "Lexical Fit..... 9.996333e-01  1.000000e+00  \n",
      "#unique......... 122, #Total UniqueCount: 322\n",
      "var 1:\n",
      "best............ 1.000000e+00\n",
      "mean............ 2.583814e+02\n",
      "variance........ 7.538555e+04\n",
      "\n",
      "GENERATION: 2\n",
      "Lexical Fit..... 9.996333e-01  1.000000e+00  \n",
      "#unique......... 126, #Total UniqueCount: 448\n",
      "var 1:\n",
      "best............ 1.000000e+00\n",
      "mean............ 2.765074e+02\n",
      "variance........ 7.531403e+04\n",
      "\n",
      "GENERATION: 3\n",
      "Lexical Fit..... 9.996333e-01  1.000000e+00  \n",
      "#unique......... 121, #Total UniqueCount: 569\n",
      "var 1:\n",
      "best............ 1.000000e+00\n",
      "mean............ 2.729096e+02\n",
      "variance........ 7.597023e+04\n",
      "\n",
      "GENERATION: 4\n",
      "Lexical Fit..... 9.996333e-01  1.000000e+00  \n",
      "#unique......... 123, #Total UniqueCount: 692\n",
      "var 1:\n",
      "best............ 1.000000e+00\n",
      "mean............ 2.620142e+02\n",
      "variance........ 7.767319e+04\n",
      "\n",
      "GENERATION: 5\n",
      "Lexical Fit..... 9.996333e-01  1.000000e+00  \n",
      "#unique......... 120, #Total UniqueCount: 812\n",
      "var 1:\n",
      "best............ 1.000000e+00\n",
      "mean............ 2.503719e+02\n",
      "variance........ 7.345191e+04\n",
      "\n",
      "GENERATION: 6\n",
      "Lexical Fit..... 9.996333e-01  1.000000e+00  \n",
      "#unique......... 121, #Total UniqueCount: 933\n",
      "var 1:\n",
      "best............ 1.000000e+00\n",
      "mean............ 2.328220e+02\n",
      "variance........ 6.847570e+04\n",
      "\n",
      "GENERATION: 7\n",
      "Lexical Fit..... 9.996333e-01  1.000000e+00  \n",
      "#unique......... 119, #Total UniqueCount: 1052\n",
      "var 1:\n",
      "best............ 1.000000e+00\n",
      "mean............ 2.976712e+02\n",
      "variance........ 8.022002e+04\n",
      "\n",
      "GENERATION: 8\n",
      "Lexical Fit..... 9.996333e-01  1.000000e+00  \n",
      "#unique......... 120, #Total UniqueCount: 1172\n",
      "var 1:\n",
      "best............ 1.000000e+00\n",
      "mean............ 2.546798e+02\n",
      "variance........ 7.515172e+04\n",
      "\n",
      "GENERATION: 9\n",
      "Lexical Fit..... 9.996333e-01  1.000000e+00  \n",
      "#unique......... 129, #Total UniqueCount: 1301\n",
      "var 1:\n",
      "best............ 1.000000e+00\n",
      "mean............ 2.318445e+02\n",
      "variance........ 7.306434e+04\n",
      "\n",
      "GENERATION: 10\n",
      "Lexical Fit..... 9.996333e-01  1.000000e+00  \n",
      "#unique......... 119, #Total UniqueCount: 1420\n",
      "var 1:\n",
      "best............ 1.000000e+00\n",
      "mean............ 2.427352e+02\n",
      "variance........ 7.508163e+04\n",
      "\n",
      "Increasing 'max.generations' limit by 25 generations to 35 because the fitness is still impoving.\n",
      "\n",
      "\n",
      "GENERATION: 11\n",
      "Lexical Fit..... 9.996333e-01  1.000000e+00  \n",
      "#unique......... 126, #Total UniqueCount: 1546\n",
      "var 1:\n",
      "best............ 1.000000e+00\n",
      "mean............ 2.792447e+02\n",
      "variance........ 7.921430e+04\n",
      "\n",
      "GENERATION: 12\n",
      "Lexical Fit..... 9.996333e-01  1.000000e+00  \n",
      "#unique......... 123, #Total UniqueCount: 1669\n",
      "var 1:\n",
      "best............ 1.000000e+00\n",
      "mean............ 2.703950e+02\n",
      "variance........ 8.172038e+04\n",
      "\n",
      "GENERATION: 13\n",
      "Lexical Fit..... 9.996333e-01  1.000000e+00  \n",
      "#unique......... 120, #Total UniqueCount: 1789\n",
      "var 1:\n",
      "best............ 1.000000e+00\n",
      "mean............ 2.303832e+02\n",
      "variance........ 7.163850e+04\n",
      "\n",
      "GENERATION: 14\n",
      "Lexical Fit..... 9.996333e-01  1.000000e+00  \n",
      "#unique......... 124, #Total UniqueCount: 1913\n",
      "var 1:\n",
      "best............ 1.000000e+00\n",
      "mean............ 2.693599e+02\n",
      "variance........ 7.427545e+04\n",
      "\n",
      "GENERATION: 15\n",
      "Lexical Fit..... 9.996333e-01  1.000000e+00  \n",
      "#unique......... 122, #Total UniqueCount: 2035\n",
      "var 1:\n",
      "best............ 1.000000e+00\n",
      "mean............ 2.545030e+02\n",
      "variance........ 7.991828e+04\n",
      "\n",
      "GENERATION: 16\n",
      "Lexical Fit..... 9.996333e-01  1.000000e+00  \n",
      "#unique......... 115, #Total UniqueCount: 2150\n",
      "var 1:\n",
      "best............ 1.000000e+00\n",
      "mean............ 2.359876e+02\n",
      "variance........ 6.805419e+04\n",
      "\n",
      "GENERATION: 17\n",
      "Lexical Fit..... 9.996333e-01  1.000000e+00  \n",
      "#unique......... 118, #Total UniqueCount: 2268\n",
      "var 1:\n",
      "best............ 1.000000e+00\n",
      "mean............ 2.798479e+02\n",
      "variance........ 7.703961e+04\n",
      "\n",
      "GENERATION: 18\n",
      "Lexical Fit..... 9.996333e-01  1.000000e+00  \n",
      "#unique......... 115, #Total UniqueCount: 2383\n",
      "var 1:\n",
      "best............ 1.000000e+00\n",
      "mean............ 2.465150e+02\n",
      "variance........ 8.122256e+04\n",
      "\n",
      "GENERATION: 19\n",
      "Lexical Fit..... 9.996333e-01  1.000000e+00  \n",
      "#unique......... 119, #Total UniqueCount: 2502\n",
      "var 1:\n",
      "best............ 1.000000e+00\n",
      "mean............ 2.334749e+02\n",
      "variance........ 6.884775e+04\n",
      "\n",
      "GENERATION: 20\n",
      "Lexical Fit..... 9.996333e-01  1.000000e+00  \n",
      "#unique......... 122, #Total UniqueCount: 2624\n",
      "var 1:\n",
      "best............ 1.000000e+00\n",
      "mean............ 2.336380e+02\n",
      "variance........ 7.282069e+04\n",
      "\n",
      "GENERATION: 21\n",
      "Lexical Fit..... 9.996333e-01  1.000000e+00  \n",
      "#unique......... 122, #Total UniqueCount: 2746\n",
      "var 1:\n",
      "best............ 1.000000e+00\n",
      "mean............ 2.350354e+02\n",
      "variance........ 6.725072e+04\n",
      "\n",
      "GENERATION: 22\n",
      "Lexical Fit..... 9.996333e-01  1.000000e+00  \n",
      "#unique......... 122, #Total UniqueCount: 2868\n",
      "var 1:\n",
      "best............ 1.000000e+00\n",
      "mean............ 2.247628e+02\n",
      "variance........ 6.432777e+04\n",
      "\n",
      "GENERATION: 23\n",
      "Lexical Fit..... 9.996333e-01  1.000000e+00  \n",
      "#unique......... 129, #Total UniqueCount: 2997\n",
      "var 1:\n",
      "best............ 1.000000e+00\n",
      "mean............ 2.447961e+02\n",
      "variance........ 7.221920e+04\n",
      "\n",
      "GENERATION: 24\n",
      "Lexical Fit..... 9.996333e-01  1.000000e+00  \n",
      "#unique......... 120, #Total UniqueCount: 3117\n",
      "var 1:\n",
      "best............ 1.000000e+00\n",
      "mean............ 2.466906e+02\n",
      "variance........ 7.079701e+04\n",
      "\n",
      "GENERATION: 25\n",
      "Lexical Fit..... 9.996333e-01  1.000000e+00  \n",
      "#unique......... 116, #Total UniqueCount: 3233\n",
      "var 1:\n",
      "best............ 1.000000e+00\n",
      "mean............ 2.320136e+02\n",
      "variance........ 7.264259e+04\n",
      "\n",
      "GENERATION: 26\n",
      "Lexical Fit..... 9.996333e-01  1.000000e+00  \n",
      "#unique......... 129, #Total UniqueCount: 3362\n",
      "var 1:\n",
      "best............ 1.000000e+00\n",
      "mean............ 2.304087e+02\n",
      "variance........ 6.559269e+04\n",
      "\n",
      "'wait.generations' limit reached.\n",
      "No significant improvement in 25 generations.\n",
      "\n",
      "Solution Lexical Fitness Value:\n",
      "9.996333e-01  1.000000e+00  \n",
      "\n",
      "Parameters at the Solution:\n",
      "\n",
      " X[ 1] :\t1.000000e+00\n",
      "\n",
      "Solution Found Generation 1\n",
      "Number of Generations Run 26\n",
      "\n",
      "Sun Dec  8 03:16:06 2019\n",
      "Total run time : 0 hours 0 minutes and 3 seconds\n"
     ]
    },
    {
     "data": {
      "text/html": [
       "<ol class=list-inline>\n",
       "\t<li>1</li>\n",
       "\t<li>3</li>\n",
       "\t<li>3</li>\n",
       "\t<li>5</li>\n",
       "</ol>\n"
      ],
      "text/latex": [
       "\\begin{enumerate*}\n",
       "\\item 1\n",
       "\\item 3\n",
       "\\item 3\n",
       "\\item 5\n",
       "\\end{enumerate*}\n"
      ],
      "text/markdown": [
       "1. 1\n",
       "2. 3\n",
       "3. 3\n",
       "4. 5\n",
       "\n",
       "\n"
      ],
      "text/plain": [
       "[1] 1 3 3 5"
      ]
     },
     "execution_count": 80,
     "metadata": {
     },
     "output_type": "execute_result"
    },
    {
     "data": {
      "text/html": [
       "<ol class=list-inline>\n",
       "\t<li>2</li>\n",
       "\t<li>2</li>\n",
       "\t<li>4</li>\n",
       "\t<li>4</li>\n",
       "</ol>\n"
      ],
      "text/latex": [
       "\\begin{enumerate*}\n",
       "\\item 2\n",
       "\\item 2\n",
       "\\item 4\n",
       "\\item 4\n",
       "\\end{enumerate*}\n"
      ],
      "text/markdown": [
       "1. 2\n",
       "2. 2\n",
       "3. 4\n",
       "4. 4\n",
       "\n",
       "\n"
      ],
      "text/plain": [
       "[1] 2 2 4 4"
      ]
     },
     "execution_count": 80,
     "metadata": {
     },
     "output_type": "execute_result"
    },
    {
     "name": "stdout",
     "output_type": "stream",
     "text": [
      "\n",
      "***** (V1) age *****\n",
      "                       Before Matching \t \t After Matching\n",
      "mean treatment........       22.5 \t \t       22.5 \n",
      "mean control..........     22.667 \t \t       22.5 \n",
      "std mean diff.........     -4.714 \t \t          0 \n",
      "\n",
      "mean raw eQQ diff.....        2.5 \t \t        2.5 \n",
      "med  raw eQQ diff.....        2.5 \t \t        2.5 \n",
      "max  raw eQQ diff.....          3 \t \t          3 \n",
      "\n",
      "mean eCDF diff........        0.2 \t \t        0.2 \n",
      "med  eCDF diff........    0.16667 \t \t       0.25 \n",
      "max  eCDF diff........    0.33333 \t \t       0.25 \n",
      "\n",
      "var ratio (Tr/Co).....    0.49342 \t \t     0.4902 \n",
      "T-test p-value........    0.96815 \t \t          1 \n",
      "KS Bootstrap p-value..      0.916 \t \t      0.978 \n",
      "KS Naive p-value......          1 \t \t    0.99963 \n",
      "KS Statistic..........    0.33333 \t \t       0.25 \n",
      "\n"
     ]
    },
    {
     "data": {
      "text/html": [
       "0.916"
      ],
      "text/latex": [
       "0.916"
      ],
      "text/markdown": [
       "0.916"
      ],
      "text/plain": [
       "[1] 0.916"
      ]
     },
     "execution_count": 80,
     "metadata": {
     },
     "output_type": "execute_result"
    },
    {
     "data": {
      "text/html": [
       "0.978"
      ],
      "text/latex": [
       "0.978"
      ],
      "text/markdown": [
       "0.978"
      ],
      "text/plain": [
       "[1] 0.978"
      ]
     },
     "execution_count": 80,
     "metadata": {
     },
     "output_type": "execute_result"
    }
   ],
   "source": [
    "# M=2 matching\n",
    "genout_m2<- GenMatch(X = age, Tr = tr, M=2,  pop.size=200, max.generations=10, wait.generations=25)\n",
    "\n",
    "matchout_m2 <- Match(X = age, Tr = tr, M=2, Weight.matrix=genout_m2)\n",
    "matchout_m2$index.control\n",
    "matchout_m2$index.treated\n",
    "\n",
    "mb.out_m2 <- MatchBalance(tr~age, match.out = matchout_m2, data = data)\n",
    "mb.out_m2$BMsmallest.p.value\n",
    "mb.out_m2$AMsmallest.p.value"
   ]
  },
  {
   "cell_type": "markdown",
   "metadata": {
    "collapsed": false
   },
   "source": [
    "#### What's going on? 1:2 matching is as good as 1:1 matching and they are better than NO matching [NO < 1:1 = 1:2 == 0.91 < 0.982 =0.978]\n"
   ]
  },
  {
   "cell_type": "markdown",
   "metadata": {
    "collapsed": false
   },
   "source": [
   ]
  },
  {
   "cell_type": "markdown",
   "metadata": {
    "collapsed": false
   },
   "source": [
    "### Dataset 1B (without ties)"
   ]
  },
  {
   "cell_type": "code",
   "execution_count": 85,
   "metadata": {
    "collapsed": false
   },
   "outputs": [
   ],
   "source": [
    "# STEP 1. DATA SIMULATING/WRANGLING\n",
    "age <- c(20, 20, 20, 20, 20)\n",
    "tr <- c(0,1,0, 1, 0)\n",
    "data <- cbind(age, tr)\n"
   ]
  },
  {
   "cell_type": "code",
   "execution_count": 86,
   "metadata": {
    "collapsed": false
   },
   "outputs": [
    {
     "data": {
      "image/png": "[encoded data removed]",
      "text/plain": [
       "plot without title"
      ]
     },
     "execution_count": 86,
     "metadata": {
     },
     "output_type": "execute_result"
    }
   ],
   "source": [
    "plot_data(age, tr)"
   ]
  },
  {
   "cell_type": "code",
   "execution_count": 87,
   "metadata": {
    "collapsed": false
   },
   "outputs": [
    {
     "name": "stdout",
     "output_type": "stream",
     "text": [
      "\n",
      "\n",
      "Sun Dec  8 03:28:53 2019\n",
      "Domains:\n",
      " 0.000000e+00   <=  X1   <=    1.000000e+03 \n",
      "\n",
      "Data Type: Floating Point\n",
      "Operators (code number, name, population) \n",
      "\t(1) Cloning........................... \t22\n",
      "\t(2) Uniform Mutation.................. \t25\n",
      "\t(3) Boundary Mutation................. \t25\n",
      "\t(4) Non-Uniform Mutation.............. \t25\n",
      "\t(5) Polytope Crossover................ \t25\n",
      "\t(6) Simple Crossover.................. \t26\n",
      "\t(7) Whole Non-Uniform Mutation........ \t25\n",
      "\t(8) Heuristic Crossover............... \t26\n",
      "\t(9) Local-Minimum Crossover........... \t0\n",
      "\n",
      "SOFT Maximum Number of Generations: 10\n",
      "Maximum Nonchanging Generations: 25\n",
      "Population size       : 200\n",
      "Convergence Tolerance: 1.000000e-03\n",
      "\n",
      "Not Using the BFGS Derivative Based Optimizer on the Best Individual Each Generation.\n",
      "Not Checking Gradients before Stopping.\n",
      "Using Out of Bounds Individuals.\n",
      "\n",
      "Maximization Problem.\n",
      "GENERATION: 0 (initializing the population)\n",
      "Lexical Fit..... 1.000000e+00  1.000000e+00  \n",
      "#unique......... 200, #Total UniqueCount: 200\n",
      "var 1:\n",
      "best............ 1.000000e+00\n",
      "mean............ 5.041316e+02\n",
      "variance........ 8.018654e+04\n",
      "\n",
      "GENERATION: 1\n",
      "Lexical Fit..... 1.000000e+00  1.000000e+00  \n",
      "#unique......... 120, #Total UniqueCount: 320\n",
      "var 1:\n",
      "best............ 1.000000e+00\n",
      "mean............ 2.705237e+02\n",
      "variance........ 8.861048e+04\n",
      "\n",
      "GENERATION: 2\n",
      "Lexical Fit..... 1.000000e+00  1.000000e+00  \n",
      "#unique......... 116, #Total UniqueCount: 436\n",
      "var 1:\n",
      "best............ 1.000000e+00\n",
      "mean............ 2.676705e+02\n",
      "variance........ 8.665548e+04\n",
      "\n",
      "GENERATION: 3\n",
      "Lexical Fit..... 1.000000e+00  1.000000e+00  \n",
      "#unique......... 115, #Total UniqueCount: 551\n",
      "var 1:\n",
      "best............ 1.000000e+00\n",
      "mean............ 2.510103e+02\n",
      "variance........ 8.639509e+04\n",
      "\n",
      "GENERATION: 4\n",
      "Lexical Fit..... 1.000000e+00  1.000000e+00  \n",
      "#unique......... 119, #Total UniqueCount: 670\n",
      "var 1:\n",
      "best............ 1.000000e+00\n",
      "mean............ 2.349143e+02\n",
      "variance........ 8.373592e+04\n",
      "\n",
      "GENERATION: 5\n",
      "Lexical Fit..... 1.000000e+00  1.000000e+00  \n",
      "#unique......... 113, #Total UniqueCount: 783\n",
      "var 1:\n",
      "best............ 1.000000e+00\n",
      "mean............ 2.391197e+02\n",
      "variance........ 9.564611e+04\n",
      "\n",
      "GENERATION: 6\n",
      "Lexical Fit..... 1.000000e+00  1.000000e+00  \n",
      "#unique......... 111, #Total UniqueCount: 894\n",
      "var 1:\n",
      "best............ 1.000000e+00\n",
      "mean............ 2.871126e+02\n",
      "variance........ 9.193465e+04\n",
      "\n",
      "GENERATION: 7\n",
      "Lexical Fit..... 1.000000e+00  1.000000e+00  \n",
      "#unique......... 117, #Total UniqueCount: 1011\n",
      "var 1:\n",
      "best............ 1.000000e+00\n",
      "mean............ 2.426474e+02\n",
      "variance........ 9.229466e+04\n",
      "\n",
      "GENERATION: 8\n",
      "Lexical Fit..... 1.000000e+00  1.000000e+00  \n",
      "#unique......... 118, #Total UniqueCount: 1129\n",
      "var 1:\n",
      "best............ 1.000000e+00\n",
      "mean............ 2.616380e+02\n",
      "variance........ 8.933096e+04\n",
      "\n",
      "GENERATION: 9\n",
      "Lexical Fit..... 1.000000e+00  1.000000e+00  \n",
      "#unique......... 119, #Total UniqueCount: 1248\n",
      "var 1:\n",
      "best............ 1.000000e+00\n",
      "mean............ 2.982032e+02\n",
      "variance........ 1.020611e+05\n",
      "\n",
      "GENERATION: 10\n",
      "Lexical Fit..... 1.000000e+00  1.000000e+00  \n",
      "#unique......... 120, #Total UniqueCount: 1368\n",
      "var 1:\n",
      "best............ 1.000000e+00\n",
      "mean............ 2.662496e+02\n",
      "variance........ 9.119040e+04\n",
      "\n",
      "Increasing 'max.generations' limit by 25 generations to 35 because the fitness is still impoving.\n",
      "\n",
      "\n",
      "GENERATION: 11\n",
      "Lexical Fit..... 1.000000e+00  1.000000e+00  \n",
      "#unique......... 119, #Total UniqueCount: 1487\n",
      "var 1:\n",
      "best............ 1.000000e+00\n",
      "mean............ 2.420926e+02\n",
      "variance........ 8.362302e+04\n",
      "\n",
      "GENERATION: 12\n",
      "Lexical Fit..... 1.000000e+00  1.000000e+00  \n",
      "#unique......... 119, #Total UniqueCount: 1606\n",
      "var 1:\n",
      "best............ 1.000000e+00\n",
      "mean............ 2.561289e+02\n",
      "variance........ 8.897965e+04\n",
      "\n",
      "GENERATION: 13\n",
      "Lexical Fit..... 1.000000e+00  1.000000e+00  \n",
      "#unique......... 116, #Total UniqueCount: 1722\n",
      "var 1:\n",
      "best............ 1.000000e+00\n",
      "mean............ 2.264654e+02\n",
      "variance........ 7.871993e+04\n",
      "\n",
      "GENERATION: 14\n",
      "Lexical Fit..... 1.000000e+00  1.000000e+00  \n",
      "#unique......... 131, #Total UniqueCount: 1853\n",
      "var 1:\n",
      "best............ 1.000000e+00\n",
      "mean............ 2.412577e+02\n",
      "variance........ 8.693569e+04\n",
      "\n",
      "GENERATION: 15\n",
      "Lexical Fit..... 1.000000e+00  1.000000e+00  \n",
      "#unique......... 114, #Total UniqueCount: 1967\n",
      "var 1:\n",
      "best............ 1.000000e+00\n",
      "mean............ 2.208119e+02\n",
      "variance........ 7.499220e+04\n",
      "\n",
      "GENERATION: 16\n",
      "Lexical Fit..... 1.000000e+00  1.000000e+00  \n",
      "#unique......... 122, #Total UniqueCount: 2089\n",
      "var 1:\n",
      "best............ 1.000000e+00\n",
      "mean............ 2.577957e+02\n",
      "variance........ 8.600891e+04\n",
      "\n",
      "GENERATION: 17\n",
      "Lexical Fit..... 1.000000e+00  1.000000e+00  \n",
      "#unique......... 115, #Total UniqueCount: 2204\n",
      "var 1:\n",
      "best............ 1.000000e+00\n",
      "mean............ 2.248354e+02\n",
      "variance........ 8.141923e+04\n",
      "\n",
      "GENERATION: 18\n",
      "Lexical Fit..... 1.000000e+00  1.000000e+00  \n",
      "#unique......... 117, #Total UniqueCount: 2321\n",
      "var 1:\n",
      "best............ 1.000000e+00\n",
      "mean............ 2.725306e+02\n",
      "variance........ 9.946316e+04\n",
      "\n",
      "GENERATION: 19\n",
      "Lexical Fit..... 1.000000e+00  1.000000e+00  \n",
      "#unique......... 116, #Total UniqueCount: 2437\n",
      "var 1:\n",
      "best............ 1.000000e+00\n",
      "mean............ 2.028935e+02\n",
      "variance........ 7.175586e+04\n",
      "\n",
      "GENERATION: 20\n",
      "Lexical Fit..... 1.000000e+00  1.000000e+00  \n",
      "#unique......... 126, #Total UniqueCount: 2563\n",
      "var 1:\n",
      "best............ 1.000000e+00\n",
      "mean............ 2.724752e+02\n",
      "variance........ 8.135282e+04\n",
      "\n",
      "GENERATION: 21\n",
      "Lexical Fit..... 1.000000e+00  1.000000e+00  \n",
      "#unique......... 116, #Total UniqueCount: 2679\n",
      "var 1:\n",
      "best............ 1.000000e+00\n",
      "mean............ 2.458827e+02\n",
      "variance........ 9.019632e+04\n",
      "\n",
      "GENERATION: 22\n",
      "Lexical Fit..... 1.000000e+00  1.000000e+00  \n",
      "#unique......... 128, #Total UniqueCount: 2807\n",
      "var 1:\n",
      "best............ 1.000000e+00\n",
      "mean............ 2.643438e+02\n",
      "variance........ 9.693955e+04\n",
      "\n",
      "GENERATION: 23\n",
      "Lexical Fit..... 1.000000e+00  1.000000e+00  \n",
      "#unique......... 113, #Total UniqueCount: 2920\n",
      "var 1:\n",
      "best............ 1.000000e+00\n",
      "mean............ 2.535008e+02\n",
      "variance........ 9.496170e+04\n",
      "\n",
      "GENERATION: 24\n",
      "Lexical Fit..... 1.000000e+00  1.000000e+00  \n",
      "#unique......... 115, #Total UniqueCount: 3035\n",
      "var 1:\n",
      "best............ 1.000000e+00\n",
      "mean............ 2.213622e+02\n",
      "variance........ 7.469725e+04\n",
      "\n",
      "GENERATION: 25\n",
      "Lexical Fit..... 1.000000e+00  1.000000e+00  \n",
      "#unique......... 115, #Total UniqueCount: 3150\n",
      "var 1:\n",
      "best............ 1.000000e+00\n",
      "mean............ 2.767490e+02\n",
      "variance........ 1.000063e+05\n",
      "\n",
      "GENERATION: 26\n",
      "Lexical Fit..... 1.000000e+00  1.000000e+00  \n",
      "#unique......... 124, #Total UniqueCount: 3274\n",
      "var 1:\n",
      "best............ 1.000000e+00\n",
      "mean............ 2.851275e+02\n",
      "variance........ 9.508618e+04\n",
      "\n",
      "'wait.generations' limit reached.\n",
      "No significant improvement in 25 generations.\n",
      "\n",
      "Solution Lexical Fitness Value:\n",
      "1.000000e+00  1.000000e+00  \n",
      "\n",
      "Parameters at the Solution:\n",
      "\n",
      " X[ 1] :\t1.000000e+00\n",
      "\n",
      "Solution Found Generation 1\n",
      "Number of Generations Run 26\n",
      "\n",
      "Sun Dec  8 03:28:54 2019\n",
      "Total run time : 0 hours 0 minutes and 1 seconds\n"
     ]
    },
    {
     "data": {
      "text/html": [
       "<ol class=list-inline>\n",
       "\t<li>3</li>\n",
       "\t<li>3</li>\n",
       "</ol>\n"
      ],
      "text/latex": [
       "\\begin{enumerate*}\n",
       "\\item 3\n",
       "\\item 3\n",
       "\\end{enumerate*}\n"
      ],
      "text/markdown": [
       "1. 3\n",
       "2. 3\n",
       "\n",
       "\n"
      ],
      "text/plain": [
       "[1] 3 3"
      ]
     },
     "execution_count": 87,
     "metadata": {
     },
     "output_type": "execute_result"
    },
    {
     "data": {
      "text/html": [
       "<ol class=list-inline>\n",
       "\t<li>2</li>\n",
       "\t<li>4</li>\n",
       "</ol>\n"
      ],
      "text/latex": [
       "\\begin{enumerate*}\n",
       "\\item 2\n",
       "\\item 4\n",
       "\\end{enumerate*}\n"
      ],
      "text/markdown": [
       "1. 2\n",
       "2. 4\n",
       "\n",
       "\n"
      ],
      "text/plain": [
       "[1] 2 4"
      ]
     },
     "execution_count": 87,
     "metadata": {
     },
     "output_type": "execute_result"
    },
    {
     "name": "stdout",
     "output_type": "stream",
     "text": [
      "\n",
      "***** (V1) age *****\n",
      "                       Before Matching \t \t After Matching\n",
      "mean treatment........         20 \t \t         20 \n",
      "mean control..........         20 \t \t         20 \n",
      "std mean diff.........          0 \t \t          0 \n",
      "\n",
      "mean raw eQQ diff.....          0 \t \t          0 \n",
      "med  raw eQQ diff.....          0 \t \t          0 \n",
      "max  raw eQQ diff.....          0 \t \t          0 \n",
      "\n",
      "mean eCDF diff........          0 \t \t          0 \n",
      "med  eCDF diff........          0 \t \t          0 \n",
      "max  eCDF diff........          0 \t \t          0 \n",
      "\n",
      "var ratio (Tr/Co).....        NaN \t \t        NaN \n",
      "T-test p-value........          1 \t \t          1 \n",
      "\n"
     ]
    },
    {
     "data": {
      "text/html": [
       "1"
      ],
      "text/latex": [
       "1"
      ],
      "text/markdown": [
       "1"
      ],
      "text/plain": [
       "[1] 1"
      ]
     },
     "execution_count": 87,
     "metadata": {
     },
     "output_type": "execute_result"
    },
    {
     "data": {
      "text/html": [
       "1"
      ],
      "text/latex": [
       "1"
      ],
      "text/markdown": [
       "1"
      ],
      "text/plain": [
       "[1] 1"
      ]
     },
     "execution_count": 87,
     "metadata": {
     },
     "output_type": "execute_result"
    }
   ],
   "source": [
    "# M = 1 matching\n",
    "genout_m1<- GenMatch(X = age, Tr = tr, M=1, pop.size=200, max.generations=10, wait.generations=25, ties = F)\n",
    "matchout_m1 <- Match(X = age, Tr = tr, M=1, Weight.matrix=genout_m1, ties = F)\n",
    "matchout_m1$index.control\n",
    "matchout_m1$index.treated\n",
    "\n",
    "mb.out_m1 <- MatchBalance(tr~age, match.out = matchout_m1, data = data)\n",
    "mb.out_m1$BMsmallest.p.value\n",
    "mb.out_m1$AMsmallest.p.value"
   ]
  },
  {
   "cell_type": "markdown",
   "metadata": {
    "collapsed": false
   },
   "source": [
    "#### [1:1 < NO == 0.089 < 0.902]"
   ]
  },
  {
   "cell_type": "code",
   "execution_count": 88,
   "metadata": {
    "collapsed": false
   },
   "outputs": [
    {
     "name": "stdout",
     "output_type": "stream",
     "text": [
      "\n",
      "\n",
      "Sun Dec  8 03:28:58 2019\n",
      "Domains:\n",
      " 0.000000e+00   <=  X1   <=    1.000000e+03 \n",
      "\n",
      "Data Type: Floating Point\n",
      "Operators (code number, name, population) \n",
      "\t(1) Cloning........................... \t22\n",
      "\t(2) Uniform Mutation.................. \t25\n",
      "\t(3) Boundary Mutation................. \t25\n",
      "\t(4) Non-Uniform Mutation.............. \t25\n",
      "\t(5) Polytope Crossover................ \t25\n",
      "\t(6) Simple Crossover.................. \t26\n",
      "\t(7) Whole Non-Uniform Mutation........ \t25\n",
      "\t(8) Heuristic Crossover............... \t26\n",
      "\t(9) Local-Minimum Crossover........... \t0\n",
      "\n",
      "SOFT Maximum Number of Generations: 10\n",
      "Maximum Nonchanging Generations: 25\n",
      "Population size       : 200\n",
      "Convergence Tolerance: 1.000000e-03\n",
      "\n",
      "Not Using the BFGS Derivative Based Optimizer on the Best Individual Each Generation.\n",
      "Not Checking Gradients before Stopping.\n",
      "Using Out of Bounds Individuals.\n",
      "\n",
      "Maximization Problem.\n",
      "GENERATION: 0 (initializing the population)\n",
      "Lexical Fit..... 1.000000e+00  1.000000e+00  \n",
      "#unique......... 200, #Total UniqueCount: 200\n",
      "var 1:\n",
      "best............ 1.000000e+00\n",
      "mean............ 5.107917e+02\n",
      "variance........ 8.426791e+04\n",
      "\n",
      "GENERATION: 1\n",
      "Lexical Fit..... 1.000000e+00  1.000000e+00  \n",
      "#unique......... 111, #Total UniqueCount: 311\n",
      "var 1:\n",
      "best............ 1.000000e+00\n",
      "mean............ 3.803875e+02\n",
      "variance........ 1.289499e+05\n",
      "\n",
      "GENERATION: 2\n",
      "Lexical Fit..... 1.000000e+00  1.000000e+00  \n",
      "#unique......... 107, #Total UniqueCount: 418\n",
      "var 1:\n",
      "best............ 1.000000e+00\n",
      "mean............ 3.779884e+02\n",
      "variance........ 1.250186e+05\n",
      "\n",
      "GENERATION: 3\n",
      "Lexical Fit..... 1.000000e+00  1.000000e+00  \n",
      "#unique......... 123, #Total UniqueCount: 541\n",
      "var 1:\n",
      "best............ 1.000000e+00\n",
      "mean............ 3.820655e+02\n",
      "variance........ 1.273722e+05\n",
      "\n",
      "GENERATION: 4\n",
      "Lexical Fit..... 1.000000e+00  1.000000e+00  \n",
      "#unique......... 127, #Total UniqueCount: 668\n",
      "var 1:\n",
      "best............ 1.000000e+00\n",
      "mean............ 3.495286e+02\n",
      "variance........ 1.309712e+05\n",
      "\n",
      "GENERATION: 5\n",
      "Lexical Fit..... 1.000000e+00  1.000000e+00  \n",
      "#unique......... 117, #Total UniqueCount: 785\n",
      "var 1:\n",
      "best............ 1.000000e+00\n",
      "mean............ 3.405371e+02\n",
      "variance........ 1.303862e+05\n",
      "\n",
      "GENERATION: 6\n",
      "Lexical Fit..... 1.000000e+00  1.000000e+00  \n",
      "#unique......... 115, #Total UniqueCount: 900\n",
      "var 1:\n",
      "best............ 1.000000e+00\n",
      "mean............ 3.851136e+02\n",
      "variance........ 1.326236e+05\n",
      "\n",
      "GENERATION: 7\n",
      "Lexical Fit..... 1.000000e+00  1.000000e+00  \n",
      "#unique......... 121, #Total UniqueCount: 1021\n",
      "var 1:\n",
      "best............ 1.000000e+00\n",
      "mean............ 3.946795e+02\n",
      "variance........ 1.357916e+05\n",
      "\n",
      "GENERATION: 8\n",
      "Lexical Fit..... 1.000000e+00  1.000000e+00  \n",
      "#unique......... 120, #Total UniqueCount: 1141\n",
      "var 1:\n",
      "best............ 1.000000e+00\n",
      "mean............ 3.950119e+02\n",
      "variance........ 1.323568e+05\n",
      "\n",
      "GENERATION: 9\n",
      "Lexical Fit..... 1.000000e+00  1.000000e+00  \n",
      "#unique......... 126, #Total UniqueCount: 1267\n",
      "var 1:\n",
      "best............ 1.000000e+00\n",
      "mean............ 3.689458e+02\n",
      "variance........ 1.350623e+05\n",
      "\n",
      "GENERATION: 10\n",
      "Lexical Fit..... 1.000000e+00  1.000000e+00  \n",
      "#unique......... 115, #Total UniqueCount: 1382\n",
      "var 1:\n",
      "best............ 1.000000e+00\n",
      "mean............ 3.193135e+02\n",
      "variance........ 1.211810e+05\n",
      "\n",
      "Increasing 'max.generations' limit by 25 generations to 35 because the fitness is still impoving.\n",
      "\n",
      "\n",
      "GENERATION: 11\n",
      "Lexical Fit..... 1.000000e+00  1.000000e+00  \n",
      "#unique......... 112, #Total UniqueCount: 1494\n",
      "var 1:\n",
      "best............ 1.000000e+00\n",
      "mean............ 3.414533e+02\n",
      "variance........ 1.293225e+05\n",
      "\n",
      "GENERATION: 12\n",
      "Lexical Fit..... 1.000000e+00  1.000000e+00  \n",
      "#unique......... 111, #Total UniqueCount: 1605\n",
      "var 1:\n",
      "best............ 1.000000e+00\n",
      "mean............ 3.683810e+02\n",
      "variance........ 1.318057e+05\n",
      "\n",
      "GENERATION: 13\n",
      "Lexical Fit..... 1.000000e+00  1.000000e+00  \n",
      "#unique......... 117, #Total UniqueCount: 1722\n",
      "var 1:\n",
      "best............ 1.000000e+00\n",
      "mean............ 3.670893e+02\n",
      "variance........ 1.330037e+05\n",
      "\n",
      "GENERATION: 14\n",
      "Lexical Fit..... 1.000000e+00  1.000000e+00  \n",
      "#unique......... 118, #Total UniqueCount: 1840\n",
      "var 1:\n",
      "best............ 1.000000e+00\n",
      "mean............ 3.938376e+02\n",
      "variance........ 1.307951e+05\n",
      "\n",
      "GENERATION: 15\n",
      "Lexical Fit..... 1.000000e+00  1.000000e+00  \n",
      "#unique......... 119, #Total UniqueCount: 1959\n",
      "var 1:\n",
      "best............ 1.000000e+00\n",
      "mean............ 3.828879e+02\n",
      "variance........ 1.351611e+05\n",
      "\n",
      "GENERATION: 16\n",
      "Lexical Fit..... 1.000000e+00  1.000000e+00  \n",
      "#unique......... 128, #Total UniqueCount: 2087\n",
      "var 1:\n",
      "best............ 1.000000e+00\n",
      "mean............ 3.937403e+02\n",
      "variance........ 1.407751e+05\n",
      "\n",
      "GENERATION: 17\n",
      "Lexical Fit..... 1.000000e+00  1.000000e+00  \n",
      "#unique......... 119, #Total UniqueCount: 2206\n",
      "var 1:\n",
      "best............ 1.000000e+00\n",
      "mean............ 3.712744e+02\n",
      "variance........ 1.267951e+05\n",
      "\n",
      "GENERATION: 18\n",
      "Lexical Fit..... 1.000000e+00  1.000000e+00  \n",
      "#unique......... 117, #Total UniqueCount: 2323\n",
      "var 1:\n",
      "best............ 1.000000e+00\n",
      "mean............ 3.867254e+02\n",
      "variance........ 1.360276e+05\n",
      "\n",
      "GENERATION: 19\n",
      "Lexical Fit..... 1.000000e+00  1.000000e+00  \n",
      "#unique......... 115, #Total UniqueCount: 2438\n",
      "var 1:\n",
      "best............ 1.000000e+00\n",
      "mean............ 3.598920e+02\n",
      "variance........ 1.363992e+05\n",
      "\n",
      "GENERATION: 20\n",
      "Lexical Fit..... 1.000000e+00  1.000000e+00  \n",
      "#unique......... 112, #Total UniqueCount: 2550\n",
      "var 1:\n",
      "best............ 1.000000e+00\n",
      "mean............ 3.992853e+02\n",
      "variance........ 1.334043e+05\n",
      "\n",
      "GENERATION: 21\n",
      "Lexical Fit..... 1.000000e+00  1.000000e+00  \n",
      "#unique......... 126, #Total UniqueCount: 2676\n",
      "var 1:\n",
      "best............ 1.000000e+00\n",
      "mean............ 4.036578e+02\n",
      "variance........ 1.370650e+05\n",
      "\n",
      "GENERATION: 22\n",
      "Lexical Fit..... 1.000000e+00  1.000000e+00  \n",
      "#unique......... 119, #Total UniqueCount: 2795\n",
      "var 1:\n",
      "best............ 1.000000e+00\n",
      "mean............ 4.007364e+02\n",
      "variance........ 1.365355e+05\n",
      "\n",
      "GENERATION: 23\n",
      "Lexical Fit..... 1.000000e+00  1.000000e+00  \n",
      "#unique......... 125, #Total UniqueCount: 2920\n",
      "var 1:\n",
      "best............ 1.000000e+00\n",
      "mean............ 3.881293e+02\n",
      "variance........ 1.327672e+05\n",
      "\n",
      "GENERATION: 24\n",
      "Lexical Fit..... 1.000000e+00  1.000000e+00  \n",
      "#unique......... 126, #Total UniqueCount: 3046\n",
      "var 1:\n",
      "best............ 1.000000e+00\n",
      "mean............ 4.149589e+02\n",
      "variance........ 1.330554e+05\n",
      "\n",
      "GENERATION: 25\n",
      "Lexical Fit..... 1.000000e+00  1.000000e+00  \n",
      "#unique......... 112, #Total UniqueCount: 3158\n",
      "var 1:\n",
      "best............ 1.000000e+00\n",
      "mean............ 3.448494e+02\n",
      "variance........ 1.261791e+05\n",
      "\n",
      "GENERATION: 26\n",
      "Lexical Fit..... 1.000000e+00  1.000000e+00  \n",
      "#unique......... 110, #Total UniqueCount: 3268\n",
      "var 1:\n",
      "best............ 1.000000e+00\n",
      "mean............ 3.954018e+02\n",
      "variance........ 1.451298e+05\n",
      "\n",
      "'wait.generations' limit reached.\n",
      "No significant improvement in 25 generations.\n",
      "\n",
      "Solution Lexical Fitness Value:\n",
      "1.000000e+00  1.000000e+00  \n",
      "\n",
      "Parameters at the Solution:\n",
      "\n",
      " X[ 1] :\t1.000000e+00\n",
      "\n",
      "Solution Found Generation 1\n",
      "Number of Generations Run 26\n",
      "\n",
      "Sun Dec  8 03:28:58 2019\n",
      "Total run time : 0 hours 0 minutes and 0 seconds\n"
     ]
    },
    {
     "data": {
      "text/html": [
       "<ol class=list-inline>\n",
       "\t<li>1</li>\n",
       "\t<li>3</li>\n",
       "\t<li>1</li>\n",
       "\t<li>3</li>\n",
       "</ol>\n"
      ],
      "text/latex": [
       "\\begin{enumerate*}\n",
       "\\item 1\n",
       "\\item 3\n",
       "\\item 1\n",
       "\\item 3\n",
       "\\end{enumerate*}\n"
      ],
      "text/markdown": [
       "1. 1\n",
       "2. 3\n",
       "3. 1\n",
       "4. 3\n",
       "\n",
       "\n"
      ],
      "text/plain": [
       "[1] 1 3 1 3"
      ]
     },
     "execution_count": 88,
     "metadata": {
     },
     "output_type": "execute_result"
    },
    {
     "data": {
      "text/html": [
       "<ol class=list-inline>\n",
       "\t<li>2</li>\n",
       "\t<li>2</li>\n",
       "\t<li>4</li>\n",
       "\t<li>4</li>\n",
       "</ol>\n"
      ],
      "text/latex": [
       "\\begin{enumerate*}\n",
       "\\item 2\n",
       "\\item 2\n",
       "\\item 4\n",
       "\\item 4\n",
       "\\end{enumerate*}\n"
      ],
      "text/markdown": [
       "1. 2\n",
       "2. 2\n",
       "3. 4\n",
       "4. 4\n",
       "\n",
       "\n"
      ],
      "text/plain": [
       "[1] 2 2 4 4"
      ]
     },
     "execution_count": 88,
     "metadata": {
     },
     "output_type": "execute_result"
    },
    {
     "name": "stdout",
     "output_type": "stream",
     "text": [
      "\n",
      "***** (V1) age *****\n",
      "                       Before Matching \t \t After Matching\n",
      "mean treatment........         20 \t \t         20 \n",
      "mean control..........         20 \t \t         20 \n",
      "std mean diff.........          0 \t \t          0 \n",
      "\n",
      "mean raw eQQ diff.....          0 \t \t          0 \n",
      "med  raw eQQ diff.....          0 \t \t          0 \n",
      "max  raw eQQ diff.....          0 \t \t          0 \n",
      "\n",
      "mean eCDF diff........          0 \t \t          0 \n",
      "med  eCDF diff........          0 \t \t          0 \n",
      "max  eCDF diff........          0 \t \t          0 \n",
      "\n",
      "var ratio (Tr/Co).....        NaN \t \t        NaN \n",
      "T-test p-value........          1 \t \t          1 \n",
      "\n"
     ]
    },
    {
     "data": {
      "text/html": [
       "1"
      ],
      "text/latex": [
       "1"
      ],
      "text/markdown": [
       "1"
      ],
      "text/plain": [
       "[1] 1"
      ]
     },
     "execution_count": 88,
     "metadata": {
     },
     "output_type": "execute_result"
    },
    {
     "data": {
      "text/html": [
       "1"
      ],
      "text/latex": [
       "1"
      ],
      "text/markdown": [
       "1"
      ],
      "text/plain": [
       "[1] 1"
      ]
     },
     "execution_count": 88,
     "metadata": {
     },
     "output_type": "execute_result"
    }
   ],
   "source": [
    "# M=2 matching\n",
    "genout_m2<- GenMatch(X = age, Tr = tr, M=2,  pop.size=200, max.generations=10, wait.generations=25, ties = F)\n",
    "\n",
    "matchout_m2 <- Match(X = age, Tr = tr, M=2, Weight.matrix=genout_m2, ties = F)\n",
    "matchout_m2$index.control\n",
    "matchout_m2$index.treated\n",
    "\n",
    "mb.out_m2 <- MatchBalance(tr~age, match.out = matchout_m2, data = data)\n",
    "mb.out_m2$BMsmallest.p.value\n",
    "mb.out_m2$AMsmallest.p.value"
   ]
  },
  {
   "cell_type": "markdown",
   "metadata": {
    "collapsed": false
   },
   "source": [
    "#### [1:1 < NO < 1:2 == 1 < 1 < 1]"
   ]
  },
  {
   "cell_type": "markdown",
   "metadata": {
    "collapsed": false
   },
   "source": [
    "---"
   ]
  },
  {
   "cell_type": "markdown",
   "metadata": {
    "collapsed": false
   },
   "source": [
    "### Dataset 2"
   ]
  },
  {
   "cell_type": "code",
   "execution_count": 53,
   "metadata": {
    "collapsed": false
   },
   "outputs": [
   ],
   "source": [
    "# STEP 1. DATA SIMULATING/WRANGLING\n",
    "age <- c(17, 20, 22, 25, 27)\n",
    "tr <- c(0,1,0, 1, 0)\n",
    "data <- cbind(age, tr)"
   ]
  },
  {
   "cell_type": "code",
   "execution_count": 54,
   "metadata": {
    "collapsed": false
   },
   "outputs": [
    {
     "data": {
      "image/png": "[encoded data removed]",
      "text/plain": [
       "plot without title"
      ]
     },
     "execution_count": 54,
     "metadata": {
     },
     "output_type": "execute_result"
    }
   ],
   "source": [
    "plot_data(age, tr)"
   ]
  },
  {
   "cell_type": "code",
   "execution_count": 56,
   "metadata": {
    "collapsed": false
   },
   "outputs": [
    {
     "name": "stdout",
     "output_type": "stream",
     "text": [
      "\n",
      "\n",
      "Sun Dec  8 02:58:10 2019\n",
      "Domains:\n",
      " 0.000000e+00   <=  X1   <=    1.000000e+03 \n",
      "\n",
      "Data Type: Floating Point\n",
      "Operators (code number, name, population) \n",
      "\t(1) Cloning........................... \t22\n",
      "\t(2) Uniform Mutation.................. \t25\n",
      "\t(3) Boundary Mutation................. \t25\n",
      "\t(4) Non-Uniform Mutation.............. \t25\n",
      "\t(5) Polytope Crossover................ \t25\n",
      "\t(6) Simple Crossover.................. \t26\n",
      "\t(7) Whole Non-Uniform Mutation........ \t25\n",
      "\t(8) Heuristic Crossover............... \t26\n",
      "\t(9) Local-Minimum Crossover........... \t0\n",
      "\n",
      "SOFT Maximum Number of Generations: 10\n",
      "Maximum Nonchanging Generations: 25\n",
      "Population size       : 200\n",
      "Convergence Tolerance: 1.000000e-03\n",
      "\n",
      "Not Using the BFGS Derivative Based Optimizer on the Best Individual Each Generation.\n",
      "Not Checking Gradients before Stopping.\n",
      "Using Out of Bounds Individuals.\n",
      "\n",
      "Maximization Problem.\n",
      "GENERATION: 0 (initializing the population)\n",
      "Lexical Fit..... 0.000000e+00  1.000000e+00  \n",
      "#unique......... 200, #Total UniqueCount: 200\n",
      "var 1:\n",
      "best............ 1.000000e+00\n",
      "mean............ 4.716156e+02\n",
      "variance........ 9.144073e+04\n",
      "\n",
      "GENERATION: 1\n",
      "Lexical Fit..... 0.000000e+00  1.000000e+00  \n",
      "#unique......... 120, #Total UniqueCount: 320\n",
      "var 1:\n",
      "best............ 1.000000e+00\n",
      "mean............ 3.300228e+02\n",
      "variance........ 9.518577e+04\n",
      "\n",
      "GENERATION: 2\n",
      "Lexical Fit..... 0.000000e+00  1.000000e+00  \n",
      "#unique......... 111, #Total UniqueCount: 431\n",
      "var 1:\n",
      "best............ 1.000000e+00\n",
      "mean............ 2.789338e+02\n",
      "variance........ 9.246754e+04\n",
      "\n",
      "GENERATION: 3\n",
      "Lexical Fit..... 0.000000e+00  1.000000e+00  \n",
      "#unique......... 125, #Total UniqueCount: 556\n",
      "var 1:\n",
      "best............ 1.000000e+00\n",
      "mean............ 2.938842e+02\n",
      "variance........ 9.633359e+04\n",
      "\n",
      "GENERATION: 4\n",
      "Lexical Fit..... 0.000000e+00  1.000000e+00  \n",
      "#unique......... 119, #Total UniqueCount: 675\n",
      "var 1:\n",
      "best............ 1.000000e+00\n",
      "mean............ 2.997192e+02\n",
      "variance........ 1.049132e+05\n",
      "\n",
      "GENERATION: 5\n",
      "Lexical Fit..... 0.000000e+00  1.000000e+00  \n",
      "#unique......... 123, #Total UniqueCount: 798\n",
      "var 1:\n",
      "best............ 1.000000e+00\n",
      "mean............ 3.310486e+02\n",
      "variance........ 1.009820e+05\n",
      "\n",
      "GENERATION: 6\n",
      "Lexical Fit..... 0.000000e+00  1.000000e+00  \n",
      "#unique......... 117, #Total UniqueCount: 915\n",
      "var 1:\n",
      "best............ 1.000000e+00\n",
      "mean............ 2.814332e+02\n",
      "variance........ 1.008292e+05\n",
      "\n",
      "GENERATION: 7\n",
      "Lexical Fit..... 0.000000e+00  1.000000e+00  \n",
      "#unique......... 119, #Total UniqueCount: 1034\n",
      "var 1:\n",
      "best............ 1.000000e+00\n",
      "mean............ 3.035513e+02\n",
      "variance........ 1.006182e+05\n",
      "\n",
      "GENERATION: 8\n",
      "Lexical Fit..... 0.000000e+00  1.000000e+00  \n",
      "#unique......... 115, #Total UniqueCount: 1149\n",
      "var 1:\n",
      "best............ 1.000000e+00\n",
      "mean............ 2.855517e+02\n",
      "variance........ 1.038889e+05\n",
      "\n",
      "GENERATION: 9\n",
      "Lexical Fit..... 0.000000e+00  1.000000e+00  \n",
      "#unique......... 115, #Total UniqueCount: 1264\n",
      "var 1:\n",
      "best............ 1.000000e+00\n",
      "mean............ 2.865624e+02\n",
      "variance........ 9.532903e+04\n",
      "\n",
      "GENERATION: 10\n",
      "Lexical Fit..... 0.000000e+00  1.000000e+00  \n",
      "#unique......... 128, #Total UniqueCount: 1392\n",
      "var 1:\n",
      "best............ 1.000000e+00\n",
      "mean............ 2.929467e+02\n",
      "variance........ 1.032799e+05\n",
      "\n",
      "Increasing 'max.generations' limit by 25 generations to 35 because the fitness is still impoving.\n",
      "\n",
      "\n",
      "GENERATION: 11\n",
      "Lexical Fit..... 0.000000e+00  1.000000e+00  \n",
      "#unique......... 128, #Total UniqueCount: 1520\n",
      "var 1:\n",
      "best............ 1.000000e+00\n",
      "mean............ 2.520236e+02\n",
      "variance........ 8.689561e+04\n",
      "\n",
      "GENERATION: 12\n",
      "Lexical Fit..... 0.000000e+00  1.000000e+00  \n",
      "#unique......... 124, #Total UniqueCount: 1644\n",
      "var 1:\n",
      "best............ 1.000000e+00\n",
      "mean............ 3.067443e+02\n",
      "variance........ 1.124772e+05\n",
      "\n",
      "GENERATION: 13\n",
      "Lexical Fit..... 0.000000e+00  1.000000e+00  \n",
      "#unique......... 120, #Total UniqueCount: 1764\n",
      "var 1:\n",
      "best............ 1.000000e+00\n",
      "mean............ 2.719733e+02\n",
      "variance........ 9.065293e+04\n",
      "\n",
      "GENERATION: 14\n",
      "Lexical Fit..... 0.000000e+00  1.000000e+00  \n",
      "#unique......... 123, #Total UniqueCount: 1887\n",
      "var 1:\n",
      "best............ 1.000000e+00\n",
      "mean............ 3.331409e+02\n",
      "variance........ 1.140647e+05\n",
      "\n",
      "GENERATION: 15\n",
      "Lexical Fit..... 0.000000e+00  1.000000e+00  \n",
      "#unique......... 116, #Total UniqueCount: 2003\n",
      "var 1:\n",
      "best............ 1.000000e+00\n",
      "mean............ 2.836783e+02\n",
      "variance........ 1.062421e+05\n",
      "\n",
      "GENERATION: 16\n",
      "Lexical Fit..... 0.000000e+00  1.000000e+00  \n",
      "#unique......... 115, #Total UniqueCount: 2118\n",
      "var 1:\n",
      "best............ 1.000000e+00\n",
      "mean............ 2.891770e+02\n",
      "variance........ 1.020452e+05\n",
      "\n",
      "GENERATION: 17\n",
      "Lexical Fit..... 0.000000e+00  1.000000e+00  \n",
      "#unique......... 120, #Total UniqueCount: 2238\n",
      "var 1:\n",
      "best............ 1.000000e+00\n",
      "mean............ 2.857852e+02\n",
      "variance........ 9.494825e+04\n",
      "\n",
      "GENERATION: 18\n",
      "Lexical Fit..... 0.000000e+00  1.000000e+00  \n",
      "#unique......... 113, #Total UniqueCount: 2351\n",
      "var 1:\n",
      "best............ 1.000000e+00\n",
      "mean............ 2.956029e+02\n",
      "variance........ 9.797971e+04\n",
      "\n",
      "GENERATION: 19\n",
      "Lexical Fit..... 0.000000e+00  1.000000e+00  \n",
      "#unique......... 125, #Total UniqueCount: 2476\n",
      "var 1:\n",
      "best............ 1.000000e+00\n",
      "mean............ 3.024645e+02\n",
      "variance........ 1.055315e+05\n",
      "\n",
      "GENERATION: 20\n",
      "Lexical Fit..... 0.000000e+00  1.000000e+00  \n",
      "#unique......... 114, #Total UniqueCount: 2590\n",
      "var 1:\n",
      "best............ 1.000000e+00\n",
      "mean............ 2.769948e+02\n",
      "variance........ 1.012972e+05\n",
      "\n",
      "GENERATION: 21\n",
      "Lexical Fit..... 0.000000e+00  1.000000e+00  \n",
      "#unique......... 120, #Total UniqueCount: 2710\n",
      "var 1:\n",
      "best............ 1.000000e+00\n",
      "mean............ 2.790956e+02\n",
      "variance........ 9.324717e+04\n",
      "\n",
      "GENERATION: 22\n",
      "Lexical Fit..... 0.000000e+00  1.000000e+00  \n",
      "#unique......... 115, #Total UniqueCount: 2825\n",
      "var 1:\n",
      "best............ 1.000000e+00\n",
      "mean............ 2.756456e+02\n",
      "variance........ 1.000592e+05\n",
      "\n",
      "GENERATION: 23\n",
      "Lexical Fit..... 0.000000e+00  1.000000e+00  \n",
      "#unique......... 118, #Total UniqueCount: 2943\n",
      "var 1:\n",
      "best............ 1.000000e+00\n",
      "mean............ 2.772038e+02\n",
      "variance........ 1.018073e+05\n",
      "\n",
      "GENERATION: 24\n",
      "Lexical Fit..... 0.000000e+00  1.000000e+00  \n",
      "#unique......... 116, #Total UniqueCount: 3059\n",
      "var 1:\n",
      "best............ 1.000000e+00\n",
      "mean............ 3.238515e+02\n",
      "variance........ 1.076747e+05\n",
      "\n",
      "GENERATION: 25\n",
      "Lexical Fit..... 0.000000e+00  1.000000e+00  \n",
      "#unique......... 124, #Total UniqueCount: 3183\n",
      "var 1:\n",
      "best............ 1.000000e+00\n",
      "mean............ 2.721466e+02\n",
      "variance........ 9.786163e+04\n",
      "\n",
      "GENERATION: 26\n",
      "Lexical Fit..... 0.000000e+00  1.000000e+00  \n",
      "#unique......... 117, #Total UniqueCount: 3300\n",
      "var 1:\n",
      "best............ 1.000000e+00\n",
      "mean............ 2.683008e+02\n",
      "variance........ 8.222485e+04\n",
      "\n",
      "'wait.generations' limit reached.\n",
      "No significant improvement in 25 generations.\n",
      "\n",
      "Solution Lexical Fitness Value:\n",
      "0.000000e+00  1.000000e+00  \n",
      "\n",
      "Parameters at the Solution:\n",
      "\n",
      " X[ 1] :\t1.000000e+00\n",
      "\n",
      "Solution Found Generation 1\n",
      "Number of Generations Run 26\n",
      "\n",
      "Sun Dec  8 02:58:12 2019\n",
      "Total run time : 0 hours 0 minutes and 2 seconds\n"
     ]
    },
    {
     "data": {
      "text/html": [
       "<ol class=list-inline>\n",
       "\t<li>3</li>\n",
       "\t<li>5</li>\n",
       "</ol>\n"
      ],
      "text/latex": [
       "\\begin{enumerate*}\n",
       "\\item 3\n",
       "\\item 5\n",
       "\\end{enumerate*}\n"
      ],
      "text/markdown": [
       "1. 3\n",
       "2. 5\n",
       "\n",
       "\n"
      ],
      "text/plain": [
       "[1] 3 5"
      ]
     },
     "execution_count": 56,
     "metadata": {
     },
     "output_type": "execute_result"
    },
    {
     "data": {
      "text/html": [
       "<ol class=list-inline>\n",
       "\t<li>2</li>\n",
       "\t<li>4</li>\n",
       "</ol>\n"
      ],
      "text/latex": [
       "\\begin{enumerate*}\n",
       "\\item 2\n",
       "\\item 4\n",
       "\\end{enumerate*}\n"
      ],
      "text/markdown": [
       "1. 2\n",
       "2. 4\n",
       "\n",
       "\n"
      ],
      "text/plain": [
       "[1] 2 4"
      ]
     },
     "execution_count": 56,
     "metadata": {
     },
     "output_type": "execute_result"
    },
    {
     "name": "stdout",
     "output_type": "stream",
     "text": [
      "\n",
      "***** (V1) age *****\n",
      "                       Before Matching \t \t After Matching\n",
      "mean treatment........       22.5 \t \t       22.5 \n",
      "mean control..........         22 \t \t       24.5 \n",
      "std mean diff.........     14.142 \t \t    -56.569 \n",
      "\n",
      "mean raw eQQ diff.....        2.5 \t \t          2 \n",
      "med  raw eQQ diff.....        2.5 \t \t          2 \n",
      "max  raw eQQ diff.....          3 \t \t          2 \n",
      "\n",
      "mean eCDF diff........        0.2 \t \t       0.25 \n",
      "med  eCDF diff........    0.16667 \t \t       0.25 \n",
      "max  eCDF diff........    0.33333 \t \t        0.5 \n",
      "\n",
      "var ratio (Tr/Co).....        0.5 \t \t          1 \n",
      "T-test p-value........    0.90443 \t \t < 2.22e-16 \n",
      "KS Bootstrap p-value..       0.93 \t \t       0.88 \n",
      "KS Naive p-value......          1 \t \t          1 \n",
      "KS Statistic..........    0.33333 \t \t        0.5 \n",
      "\n"
     ]
    },
    {
     "data": {
      "text/html": [
       "0.904430455586391"
      ],
      "text/latex": [
       "0.904430455586391"
      ],
      "text/markdown": [
       "0.904430455586391"
      ],
      "text/plain": [
       "[1] 0.9044305"
      ]
     },
     "execution_count": 56,
     "metadata": {
     },
     "output_type": "execute_result"
    },
    {
     "data": {
      "text/html": [
       "0"
      ],
      "text/latex": [
       "0"
      ],
      "text/markdown": [
       "0"
      ],
      "text/plain": [
       "[1] 0"
      ]
     },
     "execution_count": 56,
     "metadata": {
     },
     "output_type": "execute_result"
    }
   ],
   "source": [
    "#M=1 matching\n",
    "genout_m1<- GenMatch(X = age, Tr = tr, M=1,  pop.size=200, max.generations=10, wait.generations=25)\n",
    "matchout_m1 <- Match(X = age, Tr = tr, M=1, Weight.matrix=genout_m1)\n",
    "matchout_m1$index.control\n",
    "matchout_m1$index.treated\n",
    "\n",
    "mb.out_m1 <- MatchBalance(tr~age, match.out = matchout_m1, data = data)\n",
    "mb.out_m1$BMsmallest.p.value\n",
    "mb.out_m1$AMsmallest.p.value\n"
   ]
  },
  {
   "cell_type": "markdown",
   "metadata": {
    "collapsed": false
   },
   "source": [
    "#### What's going on? No matching is better than 1:1 matching [1:1 < NO == 0 < 0.9]"
   ]
  },
  {
   "cell_type": "code",
   "execution_count": 57,
   "metadata": {
    "collapsed": false
   },
   "outputs": [
    {
     "name": "stderr",
     "output_type": "stream",
     "text": [
      "Warning message in GenMatch(X = age, Tr = tr, M = 2):\n",
      "“The key tuning parameters for optimization were are all left at their default values.  The 'pop.size' option in particular should probably be increased for optimal results.  For details please see the help page and http://sekhon.berkeley.edu/papers/MatchingJSS.pdf”"
     ]
    },
    {
     "name": "stdout",
     "output_type": "stream",
     "text": [
      "\n",
      "\n",
      "Sun Dec  8 02:58:21 2019\n",
      "Domains:\n",
      " 0.000000e+00   <=  X1   <=    1.000000e+03 \n",
      "\n",
      "Data Type: Floating Point\n",
      "Operators (code number, name, population) \n",
      "\t(1) Cloning........................... \t15\n",
      "\t(2) Uniform Mutation.................. \t12\n",
      "\t(3) Boundary Mutation................. \t12\n",
      "\t(4) Non-Uniform Mutation.............. \t12\n",
      "\t(5) Polytope Crossover................ \t12\n",
      "\t(6) Simple Crossover.................. \t12\n",
      "\t(7) Whole Non-Uniform Mutation........ \t12\n",
      "\t(8) Heuristic Crossover............... \t12\n",
      "\t(9) Local-Minimum Crossover........... \t0\n",
      "\n",
      "SOFT Maximum Number of Generations: 100\n",
      "Maximum Nonchanging Generations: 4\n",
      "Population size       : 100\n",
      "Convergence Tolerance: 1.000000e-03\n",
      "\n",
      "Not Using the BFGS Derivative Based Optimizer on the Best Individual Each Generation.\n",
      "Not Checking Gradients before Stopping.\n",
      "Using Out of Bounds Individuals.\n",
      "\n",
      "Maximization Problem.\n",
      "GENERATION: 0 (initializing the population)\n",
      "Lexical Fit..... 8.245203e-01  9.996333e-01  \n",
      "#unique......... 100, #Total UniqueCount: 100\n",
      "var 1:\n",
      "best............ 1.000000e+00\n",
      "mean............ 5.172284e+02\n",
      "variance........ 7.167057e+04\n",
      "\n",
      "GENERATION: 1\n",
      "Lexical Fit..... 8.245203e-01  9.996333e-01  \n",
      "#unique......... 56, #Total UniqueCount: 156\n",
      "var 1:\n",
      "best............ 1.000000e+00\n",
      "mean............ 3.749002e+02\n",
      "variance........ 1.138699e+05\n",
      "\n",
      "GENERATION: 2\n",
      "Lexical Fit..... 8.245203e-01  9.996333e-01  \n",
      "#unique......... 55, #Total UniqueCount: 211\n",
      "var 1:\n",
      "best............ 1.000000e+00\n",
      "mean............ 3.430846e+02\n",
      "variance........ 9.762608e+04\n",
      "\n",
      "GENERATION: 3\n",
      "Lexical Fit..... 8.245203e-01  9.996333e-01  \n",
      "#unique......... 55, #Total UniqueCount: 266\n",
      "var 1:\n",
      "best............ 1.000000e+00\n",
      "mean............ 3.748673e+02\n",
      "variance........ 1.066457e+05\n",
      "\n",
      "GENERATION: 4\n",
      "Lexical Fit..... 8.245203e-01  9.996333e-01  \n",
      "#unique......... 65, #Total UniqueCount: 331\n",
      "var 1:\n",
      "best............ 1.000000e+00\n",
      "mean............ 3.585915e+02\n",
      "variance........ 9.231417e+04\n",
      "\n",
      "GENERATION: 5\n",
      "Lexical Fit..... 8.245203e-01  9.996333e-01  \n",
      "#unique......... 55, #Total UniqueCount: 386\n",
      "var 1:\n",
      "best............ 1.000000e+00\n",
      "mean............ 3.738824e+02\n",
      "variance........ 1.149045e+05\n",
      "\n",
      "'wait.generations' limit reached.\n",
      "No significant improvement in 4 generations.\n",
      "\n",
      "Solution Lexical Fitness Value:\n",
      "8.245203e-01  9.996333e-01  \n",
      "\n",
      "Parameters at the Solution:\n",
      "\n",
      " X[ 1] :\t1.000000e+00\n",
      "\n",
      "Solution Found Generation 1\n",
      "Number of Generations Run 5\n",
      "\n",
      "Sun Dec  8 02:58:21 2019\n",
      "Total run time : 0 hours 0 minutes and 0 seconds\n"
     ]
    },
    {
     "data": {
      "text/html": [
       "<ol class=list-inline>\n",
       "\t<li>1</li>\n",
       "\t<li>3</li>\n",
       "\t<li>3</li>\n",
       "\t<li>5</li>\n",
       "</ol>\n"
      ],
      "text/latex": [
       "\\begin{enumerate*}\n",
       "\\item 1\n",
       "\\item 3\n",
       "\\item 3\n",
       "\\item 5\n",
       "\\end{enumerate*}\n"
      ],
      "text/markdown": [
       "1. 1\n",
       "2. 3\n",
       "3. 3\n",
       "4. 5\n",
       "\n",
       "\n"
      ],
      "text/plain": [
       "[1] 1 3 3 5"
      ]
     },
     "execution_count": 57,
     "metadata": {
     },
     "output_type": "execute_result"
    },
    {
     "data": {
      "text/html": [
       "<ol class=list-inline>\n",
       "\t<li>2</li>\n",
       "\t<li>2</li>\n",
       "\t<li>4</li>\n",
       "\t<li>4</li>\n",
       "</ol>\n"
      ],
      "text/latex": [
       "\\begin{enumerate*}\n",
       "\\item 2\n",
       "\\item 2\n",
       "\\item 4\n",
       "\\item 4\n",
       "\\end{enumerate*}\n"
      ],
      "text/markdown": [
       "1. 2\n",
       "2. 2\n",
       "3. 4\n",
       "4. 4\n",
       "\n",
       "\n"
      ],
      "text/plain": [
       "[1] 2 2 4 4"
      ]
     },
     "execution_count": 57,
     "metadata": {
     },
     "output_type": "execute_result"
    },
    {
     "name": "stdout",
     "output_type": "stream",
     "text": [
      "\n",
      "***** (V1) age *****\n",
      "                       Before Matching \t \t After Matching\n",
      "mean treatment........       22.5 \t \t       22.5 \n",
      "mean control..........         22 \t \t         22 \n",
      "std mean diff.........     14.142 \t \t     14.142 \n",
      "\n",
      "mean raw eQQ diff.....        2.5 \t \t        2.5 \n",
      "med  raw eQQ diff.....        2.5 \t \t        2.5 \n",
      "max  raw eQQ diff.....          3 \t \t          3 \n",
      "\n",
      "mean eCDF diff........        0.2 \t \t        0.2 \n",
      "med  eCDF diff........    0.16667 \t \t       0.25 \n",
      "max  eCDF diff........    0.33333 \t \t       0.25 \n",
      "\n",
      "var ratio (Tr/Co).....        0.5 \t \t        0.5 \n",
      "T-test p-value........    0.90443 \t \t    0.82452 \n",
      "KS Bootstrap p-value..      0.924 \t \t      0.974 \n",
      "KS Naive p-value......          1 \t \t    0.99963 \n",
      "KS Statistic..........    0.33333 \t \t       0.25 \n",
      "\n"
     ]
    },
    {
     "data": {
      "text/html": [
       "0.904430455586391"
      ],
      "text/latex": [
       "0.904430455586391"
      ],
      "text/markdown": [
       "0.904430455586391"
      ],
      "text/plain": [
       "[1] 0.9044305"
      ]
     },
     "execution_count": 57,
     "metadata": {
     },
     "output_type": "execute_result"
    },
    {
     "data": {
      "text/html": [
       "0.824520343908178"
      ],
      "text/latex": [
       "0.824520343908178"
      ],
      "text/markdown": [
       "0.824520343908178"
      ],
      "text/plain": [
       "[1] 0.8245203"
      ]
     },
     "execution_count": 57,
     "metadata": {
     },
     "output_type": "execute_result"
    }
   ],
   "source": [
    "#M=2 matching\n",
    "genout_m2<- GenMatch(X = age, Tr = tr, M=2)\n",
    "\n",
    "matchout_m2 <- Match(X = age, Tr = tr, M=2, Weight.matrix=genout_m2)\n",
    "matchout_m2$index.control\n",
    "matchout_m2$index.treated\n",
    "\n",
    "mb.out_m2 <- MatchBalance(tr~age, match.out = matchout_m2, data = data)\n",
    "mb.out_m2$BMsmallest.p.value\n",
    "mb.out_m2$AMsmallest.p.value\n"
   ]
  },
  {
   "cell_type": "markdown",
   "metadata": {
    "collapsed": false
   },
   "source": [
    "#### What's going on? NO matching is better than 1:2 AND 1:1  [1:1 < 1:2 < NO == 1 < 0.82 < 0.9]"
   ]
  },
  {
   "cell_type": "markdown",
   "metadata": {
    "collapsed": false
   },
   "source": [
   ]
  },
  {
   "cell_type": "markdown",
   "metadata": {
    "collapsed": false
   },
   "source": [
    "---"
   ]
  },
  {
   "cell_type": "markdown",
   "metadata": {
    "collapsed": false
   },
   "source": [
    "## Dateset 3"
   ]
  },
  {
   "cell_type": "code",
   "execution_count": 58,
   "metadata": {
    "collapsed": false
   },
   "outputs": [
   ],
   "source": [
    "# STEP 1. DATA SIMULATING/WRANGLING\n",
    "age <- c(18, 20, 22, 24, 26)\n",
    "tr <- c(0,1,0, 1, 0)\n",
    "data <- cbind(age, tr)"
   ]
  },
  {
   "cell_type": "code",
   "execution_count": 59,
   "metadata": {
    "collapsed": false
   },
   "outputs": [
    {
     "data": {
      "image/png": "[encoded data removed]",
      "text/plain": [
       "plot without title"
      ]
     },
     "execution_count": 59,
     "metadata": {
     },
     "output_type": "execute_result"
    }
   ],
   "source": [
    "plot_data(age, tr)"
   ]
  },
  {
   "cell_type": "code",
   "execution_count": 60,
   "metadata": {
    "collapsed": false
   },
   "outputs": [
    {
     "name": "stdout",
     "output_type": "stream",
     "text": [
      "\n",
      "\n",
      "Sun Dec  8 02:58:35 2019\n",
      "Domains:\n",
      " 0.000000e+00   <=  X1   <=    1.000000e+03 \n",
      "\n",
      "Data Type: Floating Point\n",
      "Operators (code number, name, population) \n",
      "\t(1) Cloning........................... \t22\n",
      "\t(2) Uniform Mutation.................. \t25\n",
      "\t(3) Boundary Mutation................. \t25\n",
      "\t(4) Non-Uniform Mutation.............. \t25\n",
      "\t(5) Polytope Crossover................ \t25\n",
      "\t(6) Simple Crossover.................. \t26\n",
      "\t(7) Whole Non-Uniform Mutation........ \t25\n",
      "\t(8) Heuristic Crossover............... \t26\n",
      "\t(9) Local-Minimum Crossover........... \t0\n",
      "\n",
      "SOFT Maximum Number of Generations: 10\n",
      "Maximum Nonchanging Generations: 25\n",
      "Population size       : 200\n",
      "Convergence Tolerance: 1.000000e-03\n",
      "\n",
      "Not Using the BFGS Derivative Based Optimizer on the Best Individual Each Generation.\n",
      "Not Checking Gradients before Stopping.\n",
      "Using Out of Bounds Individuals.\n",
      "\n",
      "Maximization Problem.\n",
      "GENERATION: 0 (initializing the population)\n",
      "Lexical Fit..... 9.996333e-01  1.000000e+00  \n",
      "#unique......... 200, #Total UniqueCount: 200\n",
      "var 1:\n",
      "best............ 1.000000e+00\n",
      "mean............ 5.073015e+02\n",
      "variance........ 8.566773e+04\n",
      "\n",
      "GENERATION: 1\n",
      "Lexical Fit..... 9.996333e-01  1.000000e+00  \n",
      "#unique......... 118, #Total UniqueCount: 318\n",
      "var 1:\n",
      "best............ 1.000000e+00\n",
      "mean............ 2.385251e+02\n",
      "variance........ 6.085422e+04\n",
      "\n",
      "GENERATION: 2\n",
      "Lexical Fit..... 9.996333e-01  1.000000e+00  \n",
      "#unique......... 124, #Total UniqueCount: 442\n",
      "var 1:\n",
      "best............ 1.000000e+00\n",
      "mean............ 2.353908e+02\n",
      "variance........ 7.153498e+04\n",
      "\n",
      "GENERATION: 3\n",
      "Lexical Fit..... 9.996333e-01  1.000000e+00  \n",
      "#unique......... 122, #Total UniqueCount: 564\n",
      "var 1:\n",
      "best............ 1.000000e+00\n",
      "mean............ 2.061270e+02\n",
      "variance........ 6.434744e+04\n",
      "\n",
      "GENERATION: 4\n",
      "Lexical Fit..... 9.996333e-01  1.000000e+00  \n",
      "#unique......... 121, #Total UniqueCount: 685\n",
      "var 1:\n",
      "best............ 1.000000e+00\n",
      "mean............ 2.407225e+02\n",
      "variance........ 6.785783e+04\n",
      "\n",
      "GENERATION: 5\n",
      "Lexical Fit..... 9.996333e-01  1.000000e+00  \n",
      "#unique......... 113, #Total UniqueCount: 798\n",
      "var 1:\n",
      "best............ 1.000000e+00\n",
      "mean............ 1.948709e+02\n",
      "variance........ 6.350268e+04\n",
      "\n",
      "GENERATION: 6\n",
      "Lexical Fit..... 9.996333e-01  1.000000e+00  \n",
      "#unique......... 121, #Total UniqueCount: 919\n",
      "var 1:\n",
      "best............ 1.000000e+00\n",
      "mean............ 2.154320e+02\n",
      "variance........ 6.294353e+04\n",
      "\n",
      "GENERATION: 7\n",
      "Lexical Fit..... 9.996333e-01  1.000000e+00  \n",
      "#unique......... 124, #Total UniqueCount: 1043\n",
      "var 1:\n",
      "best............ 1.000000e+00\n",
      "mean............ 2.119389e+02\n",
      "variance........ 6.243177e+04\n",
      "\n",
      "GENERATION: 8\n",
      "Lexical Fit..... 9.996333e-01  1.000000e+00  \n",
      "#unique......... 123, #Total UniqueCount: 1166\n",
      "var 1:\n",
      "best............ 1.000000e+00\n",
      "mean............ 2.075003e+02\n",
      "variance........ 5.791382e+04\n",
      "\n",
      "GENERATION: 9\n",
      "Lexical Fit..... 9.996333e-01  1.000000e+00  \n",
      "#unique......... 118, #Total UniqueCount: 1284\n",
      "var 1:\n",
      "best............ 1.000000e+00\n",
      "mean............ 2.331447e+02\n",
      "variance........ 6.061305e+04\n",
      "\n",
      "GENERATION: 10\n",
      "Lexical Fit..... 9.996333e-01  1.000000e+00  \n",
      "#unique......... 119, #Total UniqueCount: 1403\n",
      "var 1:\n",
      "best............ 1.000000e+00\n",
      "mean............ 2.229365e+02\n",
      "variance........ 5.949078e+04\n",
      "\n",
      "Increasing 'max.generations' limit by 25 generations to 35 because the fitness is still impoving.\n",
      "\n",
      "\n",
      "GENERATION: 11\n",
      "Lexical Fit..... 9.996333e-01  1.000000e+00  \n",
      "#unique......... 127, #Total UniqueCount: 1530\n",
      "var 1:\n",
      "best............ 1.000000e+00\n",
      "mean............ 2.381055e+02\n",
      "variance........ 6.754175e+04\n",
      "\n",
      "GENERATION: 12\n",
      "Lexical Fit..... 9.996333e-01  1.000000e+00  \n",
      "#unique......... 123, #Total UniqueCount: 1653\n",
      "var 1:\n",
      "best............ 1.000000e+00\n",
      "mean............ 2.216283e+02\n",
      "variance........ 6.111514e+04\n",
      "\n",
      "GENERATION: 13\n",
      "Lexical Fit..... 9.996333e-01  1.000000e+00  \n",
      "#unique......... 117, #Total UniqueCount: 1770\n",
      "var 1:\n",
      "best............ 1.000000e+00\n",
      "mean............ 2.180121e+02\n",
      "variance........ 6.495671e+04\n",
      "\n",
      "GENERATION: 14\n",
      "Lexical Fit..... 9.996333e-01  1.000000e+00  \n",
      "#unique......... 125, #Total UniqueCount: 1895\n",
      "var 1:\n",
      "best............ 1.000000e+00\n",
      "mean............ 2.271838e+02\n",
      "variance........ 6.580031e+04\n",
      "\n",
      "GENERATION: 15\n",
      "Lexical Fit..... 9.996333e-01  1.000000e+00  \n",
      "#unique......... 119, #Total UniqueCount: 2014\n",
      "var 1:\n",
      "best............ 1.000000e+00\n",
      "mean............ 2.311584e+02\n",
      "variance........ 6.896189e+04\n",
      "\n",
      "GENERATION: 16\n",
      "Lexical Fit..... 9.996333e-01  1.000000e+00  \n",
      "#unique......... 121, #Total UniqueCount: 2135\n",
      "var 1:\n",
      "best............ 1.000000e+00\n",
      "mean............ 2.095783e+02\n",
      "variance........ 6.179897e+04\n",
      "\n",
      "GENERATION: 17\n",
      "Lexical Fit..... 9.996333e-01  1.000000e+00  \n",
      "#unique......... 124, #Total UniqueCount: 2259\n",
      "var 1:\n",
      "best............ 1.000000e+00\n",
      "mean............ 2.432391e+02\n",
      "variance........ 6.394608e+04\n",
      "\n",
      "GENERATION: 18\n",
      "Lexical Fit..... 9.996333e-01  1.000000e+00  \n",
      "#unique......... 123, #Total UniqueCount: 2382\n",
      "var 1:\n",
      "best............ 1.000000e+00\n",
      "mean............ 2.153704e+02\n",
      "variance........ 6.914207e+04\n",
      "\n",
      "GENERATION: 19\n",
      "Lexical Fit..... 9.996333e-01  1.000000e+00  \n",
      "#unique......... 123, #Total UniqueCount: 2505\n",
      "var 1:\n",
      "best............ 1.000000e+00\n",
      "mean............ 2.261794e+02\n",
      "variance........ 6.600764e+04\n",
      "\n",
      "GENERATION: 20\n",
      "Lexical Fit..... 9.996333e-01  1.000000e+00  \n",
      "#unique......... 118, #Total UniqueCount: 2623\n",
      "var 1:\n",
      "best............ 1.000000e+00\n",
      "mean............ 2.168850e+02\n",
      "variance........ 6.113436e+04\n",
      "\n",
      "GENERATION: 21\n",
      "Lexical Fit..... 9.996333e-01  1.000000e+00  \n",
      "#unique......... 124, #Total UniqueCount: 2747\n",
      "var 1:\n",
      "best............ 1.000000e+00\n",
      "mean............ 2.321489e+02\n",
      "variance........ 6.418008e+04\n",
      "\n",
      "GENERATION: 22\n",
      "Lexical Fit..... 9.996333e-01  1.000000e+00  \n",
      "#unique......... 126, #Total UniqueCount: 2873\n",
      "var 1:\n",
      "best............ 1.000000e+00\n",
      "mean............ 2.104278e+02\n",
      "variance........ 6.442186e+04\n",
      "\n",
      "GENERATION: 23\n",
      "Lexical Fit..... 9.996333e-01  1.000000e+00  \n",
      "#unique......... 125, #Total UniqueCount: 2998\n",
      "var 1:\n",
      "best............ 1.000000e+00\n",
      "mean............ 2.456904e+02\n",
      "variance........ 7.544619e+04\n",
      "\n",
      "GENERATION: 24\n",
      "Lexical Fit..... 9.996333e-01  1.000000e+00  \n",
      "#unique......... 123, #Total UniqueCount: 3121\n",
      "var 1:\n",
      "best............ 1.000000e+00\n",
      "mean............ 2.383567e+02\n",
      "variance........ 6.796435e+04\n",
      "\n",
      "GENERATION: 25\n",
      "Lexical Fit..... 9.996333e-01  1.000000e+00  \n",
      "#unique......... 124, #Total UniqueCount: 3245\n",
      "var 1:\n",
      "best............ 1.000000e+00\n",
      "mean............ 2.176156e+02\n",
      "variance........ 6.339891e+04\n",
      "\n",
      "GENERATION: 26\n",
      "Lexical Fit..... 9.996333e-01  1.000000e+00  \n",
      "#unique......... 123, #Total UniqueCount: 3368\n",
      "var 1:\n",
      "best............ 1.000000e+00\n",
      "mean............ 2.103366e+02\n",
      "variance........ 6.404519e+04\n",
      "\n",
      "'wait.generations' limit reached.\n",
      "No significant improvement in 25 generations.\n",
      "\n",
      "Solution Lexical Fitness Value:\n",
      "9.996333e-01  1.000000e+00  \n",
      "\n",
      "Parameters at the Solution:\n",
      "\n",
      " X[ 1] :\t1.000000e+00\n",
      "\n",
      "Solution Found Generation 1\n",
      "Number of Generations Run 26\n",
      "\n",
      "Sun Dec  8 02:58:38 2019\n",
      "Total run time : 0 hours 0 minutes and 3 seconds\n"
     ]
    },
    {
     "data": {
      "text/html": [
       "<ol class=list-inline>\n",
       "\t<li>1</li>\n",
       "\t<li>3</li>\n",
       "\t<li>3</li>\n",
       "\t<li>5</li>\n",
       "</ol>\n"
      ],
      "text/latex": [
       "\\begin{enumerate*}\n",
       "\\item 1\n",
       "\\item 3\n",
       "\\item 3\n",
       "\\item 5\n",
       "\\end{enumerate*}\n"
      ],
      "text/markdown": [
       "1. 1\n",
       "2. 3\n",
       "3. 3\n",
       "4. 5\n",
       "\n",
       "\n"
      ],
      "text/plain": [
       "[1] 1 3 3 5"
      ]
     },
     "execution_count": 60,
     "metadata": {
     },
     "output_type": "execute_result"
    },
    {
     "data": {
      "text/html": [
       "<ol class=list-inline>\n",
       "\t<li>2</li>\n",
       "\t<li>2</li>\n",
       "\t<li>4</li>\n",
       "\t<li>4</li>\n",
       "</ol>\n"
      ],
      "text/latex": [
       "\\begin{enumerate*}\n",
       "\\item 2\n",
       "\\item 2\n",
       "\\item 4\n",
       "\\item 4\n",
       "\\end{enumerate*}\n"
      ],
      "text/markdown": [
       "1. 2\n",
       "2. 2\n",
       "3. 4\n",
       "4. 4\n",
       "\n",
       "\n"
      ],
      "text/plain": [
       "[1] 2 2 4 4"
      ]
     },
     "execution_count": 60,
     "metadata": {
     },
     "output_type": "execute_result"
    },
    {
     "name": "stdout",
     "output_type": "stream",
     "text": [
      "\n",
      "***** (V1) age *****\n",
      "                       Before Matching \t \t After Matching\n",
      "mean treatment........         22 \t \t         22 \n",
      "mean control..........         22 \t \t         22 \n",
      "std mean diff.........          0 \t \t          0 \n",
      "\n",
      "mean raw eQQ diff.....          2 \t \t          2 \n",
      "med  raw eQQ diff.....          2 \t \t          2 \n",
      "max  raw eQQ diff.....          2 \t \t          2 \n",
      "\n",
      "mean eCDF diff........        0.2 \t \t        0.2 \n",
      "med  eCDF diff........    0.16667 \t \t       0.25 \n",
      "max  eCDF diff........    0.33333 \t \t       0.25 \n",
      "\n",
      "var ratio (Tr/Co).....        0.5 \t \t        0.5 \n",
      "T-test p-value........          1 \t \t          1 \n",
      "KS Bootstrap p-value..       0.93 \t \t      0.974 \n",
      "KS Naive p-value......          1 \t \t    0.99963 \n",
      "KS Statistic..........    0.33333 \t \t       0.25 \n",
      "\n"
     ]
    },
    {
     "data": {
      "text/html": [
       "0.93"
      ],
      "text/latex": [
       "0.93"
      ],
      "text/markdown": [
       "0.93"
      ],
      "text/plain": [
       "[1] 0.93"
      ]
     },
     "execution_count": 60,
     "metadata": {
     },
     "output_type": "execute_result"
    },
    {
     "data": {
      "text/html": [
       "0.974"
      ],
      "text/latex": [
       "0.974"
      ],
      "text/markdown": [
       "0.974"
      ],
      "text/plain": [
       "[1] 0.974"
      ]
     },
     "execution_count": 60,
     "metadata": {
     },
     "output_type": "execute_result"
    }
   ],
   "source": [
    "#M=1 matching\n",
    "genout_m1<- GenMatch(X = age, Tr = tr, M=1,  pop.size=200, max.generations=10, wait.generations=25)\n",
    "matchout_m1 <- Match(X = age, Tr = tr, M=1, Weight.matrix=genout_m1)\n",
    "matchout_m1$index.control\n",
    "matchout_m1$index.treated\n",
    "#age <- c(18, 20, 22, 24, 26)\n",
    "#tr <- c(0,1,0, 1, 0)\n",
    "#4 pairs\n",
    "\n",
    "mb.out_m1 <- MatchBalance(tr~age, match.out = matchout_m1)\n",
    "mb.out_m1$BMsmallest.p.value\n",
    "mb.out_m1$AMsmallest.p.value"
   ]
  },
  {
   "cell_type": "markdown",
   "metadata": {
    "collapsed": false
   },
   "source": [
    "#### What's going on? 1:1 is better than no matching [NO < 1:1 == 0.93 < 0.97]"
   ]
  },
  {
   "cell_type": "code",
   "execution_count": 61,
   "metadata": {
    "collapsed": false
   },
   "outputs": [
    {
     "name": "stdout",
     "output_type": "stream",
     "text": [
      "\n",
      "\n",
      "Sun Dec  8 02:58:49 2019\n",
      "Domains:\n",
      " 0.000000e+00   <=  X1   <=    1.000000e+03 \n",
      "\n",
      "Data Type: Floating Point\n",
      "Operators (code number, name, population) \n",
      "\t(1) Cloning........................... \t22\n",
      "\t(2) Uniform Mutation.................. \t25\n",
      "\t(3) Boundary Mutation................. \t25\n",
      "\t(4) Non-Uniform Mutation.............. \t25\n",
      "\t(5) Polytope Crossover................ \t25\n",
      "\t(6) Simple Crossover.................. \t26\n",
      "\t(7) Whole Non-Uniform Mutation........ \t25\n",
      "\t(8) Heuristic Crossover............... \t26\n",
      "\t(9) Local-Minimum Crossover........... \t0\n",
      "\n",
      "SOFT Maximum Number of Generations: 10\n",
      "Maximum Nonchanging Generations: 25\n",
      "Population size       : 200\n",
      "Convergence Tolerance: 1.000000e-03\n",
      "\n",
      "Not Using the BFGS Derivative Based Optimizer on the Best Individual Each Generation.\n",
      "Not Checking Gradients before Stopping.\n",
      "Using Out of Bounds Individuals.\n",
      "\n",
      "Maximization Problem.\n",
      "GENERATION: 0 (initializing the population)\n",
      "Lexical Fit..... 9.996333e-01  1.000000e+00  \n",
      "#unique......... 200, #Total UniqueCount: 200\n",
      "var 1:\n",
      "best............ 1.000000e+00\n",
      "mean............ 5.017131e+02\n",
      "variance........ 8.065468e+04\n",
      "\n",
      "GENERATION: 1\n",
      "Lexical Fit..... 9.996333e-01  1.000000e+00  \n",
      "#unique......... 116, #Total UniqueCount: 316\n",
      "var 1:\n",
      "best............ 1.000000e+00\n",
      "mean............ 4.049540e+02\n",
      "variance........ 1.345132e+05\n",
      "\n",
      "GENERATION: 2\n",
      "Lexical Fit..... 9.996333e-01  1.000000e+00  \n",
      "#unique......... 124, #Total UniqueCount: 440\n",
      "var 1:\n",
      "best............ 1.000000e+00\n",
      "mean............ 4.402204e+02\n",
      "variance........ 1.404842e+05\n",
      "\n",
      "GENERATION: 3\n",
      "Lexical Fit..... 9.996333e-01  1.000000e+00  \n",
      "#unique......... 120, #Total UniqueCount: 560\n",
      "var 1:\n",
      "best............ 1.000000e+00\n",
      "mean............ 3.997638e+02\n",
      "variance........ 1.409132e+05\n",
      "\n",
      "GENERATION: 4\n",
      "Lexical Fit..... 9.996333e-01  1.000000e+00  \n",
      "#unique......... 114, #Total UniqueCount: 674\n",
      "var 1:\n",
      "best............ 1.000000e+00\n",
      "mean............ 4.040177e+02\n",
      "variance........ 1.434090e+05\n",
      "\n",
      "GENERATION: 5\n",
      "Lexical Fit..... 9.996333e-01  1.000000e+00  \n",
      "#unique......... 116, #Total UniqueCount: 790\n",
      "var 1:\n",
      "best............ 1.000000e+00\n",
      "mean............ 4.436809e+02\n",
      "variance........ 1.399752e+05\n",
      "\n",
      "GENERATION: 6\n",
      "Lexical Fit..... 9.996333e-01  1.000000e+00  \n",
      "#unique......... 118, #Total UniqueCount: 908\n",
      "var 1:\n",
      "best............ 1.000000e+00\n",
      "mean............ 4.437518e+02\n",
      "variance........ 1.476041e+05\n",
      "\n",
      "GENERATION: 7\n",
      "Lexical Fit..... 9.996333e-01  1.000000e+00  \n",
      "#unique......... 109, #Total UniqueCount: 1017\n",
      "var 1:\n",
      "best............ 1.000000e+00\n",
      "mean............ 3.669539e+02\n",
      "variance........ 1.326729e+05\n",
      "\n",
      "GENERATION: 8\n",
      "Lexical Fit..... 9.996333e-01  1.000000e+00  \n",
      "#unique......... 117, #Total UniqueCount: 1134\n",
      "var 1:\n",
      "best............ 1.000000e+00\n",
      "mean............ 3.740134e+02\n",
      "variance........ 1.406632e+05\n",
      "\n",
      "GENERATION: 9\n",
      "Lexical Fit..... 9.996333e-01  1.000000e+00  \n",
      "#unique......... 120, #Total UniqueCount: 1254\n",
      "var 1:\n",
      "best............ 1.000000e+00\n",
      "mean............ 4.001204e+02\n",
      "variance........ 1.381042e+05\n",
      "\n",
      "GENERATION: 10\n",
      "Lexical Fit..... 9.996333e-01  1.000000e+00  \n",
      "#unique......... 116, #Total UniqueCount: 1370\n",
      "var 1:\n",
      "best............ 1.000000e+00\n",
      "mean............ 4.115423e+02\n",
      "variance........ 1.491396e+05\n",
      "\n",
      "Increasing 'max.generations' limit by 25 generations to 35 because the fitness is still impoving.\n",
      "\n",
      "\n",
      "GENERATION: 11\n",
      "Lexical Fit..... 9.996333e-01  1.000000e+00  \n",
      "#unique......... 131, #Total UniqueCount: 1501\n",
      "var 1:\n",
      "best............ 1.000000e+00\n",
      "mean............ 4.052653e+02\n",
      "variance........ 1.319711e+05\n",
      "\n",
      "GENERATION: 12\n",
      "Lexical Fit..... 9.996333e-01  1.000000e+00  \n",
      "#unique......... 124, #Total UniqueCount: 1625\n",
      "var 1:\n",
      "best............ 1.000000e+00\n",
      "mean............ 4.517902e+02\n",
      "variance........ 1.510698e+05\n",
      "\n",
      "GENERATION: 13\n",
      "Lexical Fit..... 9.996333e-01  1.000000e+00  \n",
      "#unique......... 116, #Total UniqueCount: 1741\n",
      "var 1:\n",
      "best............ 1.000000e+00\n",
      "mean............ 3.820365e+02\n",
      "variance........ 1.419832e+05\n",
      "\n",
      "GENERATION: 14\n",
      "Lexical Fit..... 9.996333e-01  1.000000e+00  \n",
      "#unique......... 124, #Total UniqueCount: 1865\n",
      "var 1:\n",
      "best............ 1.000000e+00\n",
      "mean............ 3.819080e+02\n",
      "variance........ 1.437369e+05\n",
      "\n",
      "GENERATION: 15\n",
      "Lexical Fit..... 9.996333e-01  1.000000e+00  \n",
      "#unique......... 112, #Total UniqueCount: 1977\n",
      "var 1:\n",
      "best............ 1.000000e+00\n",
      "mean............ 4.336566e+02\n",
      "variance........ 1.361165e+05\n",
      "\n",
      "GENERATION: 16\n",
      "Lexical Fit..... 9.996333e-01  1.000000e+00  \n",
      "#unique......... 126, #Total UniqueCount: 2103\n",
      "var 1:\n",
      "best............ 1.000000e+00\n",
      "mean............ 3.859264e+02\n",
      "variance........ 1.378367e+05\n",
      "\n",
      "GENERATION: 17\n",
      "Lexical Fit..... 9.996333e-01  1.000000e+00  \n",
      "#unique......... 118, #Total UniqueCount: 2221\n",
      "var 1:\n",
      "best............ 1.000000e+00\n",
      "mean............ 3.802749e+02\n",
      "variance........ 1.385339e+05\n",
      "\n",
      "GENERATION: 18\n",
      "Lexical Fit..... 9.996333e-01  1.000000e+00  \n",
      "#unique......... 114, #Total UniqueCount: 2335\n",
      "var 1:\n",
      "best............ 1.000000e+00\n",
      "mean............ 3.968904e+02\n",
      "variance........ 1.516710e+05\n",
      "\n",
      "GENERATION: 19\n",
      "Lexical Fit..... 9.996333e-01  1.000000e+00  \n",
      "#unique......... 117, #Total UniqueCount: 2452\n",
      "var 1:\n",
      "best............ 1.000000e+00\n",
      "mean............ 4.426262e+02\n",
      "variance........ 1.522813e+05\n",
      "\n",
      "GENERATION: 20\n",
      "Lexical Fit..... 9.996333e-01  1.000000e+00  \n",
      "#unique......... 111, #Total UniqueCount: 2563\n",
      "var 1:\n",
      "best............ 1.000000e+00\n",
      "mean............ 4.195540e+02\n",
      "variance........ 1.458113e+05\n",
      "\n",
      "GENERATION: 21\n",
      "Lexical Fit..... 9.996333e-01  1.000000e+00  \n",
      "#unique......... 108, #Total UniqueCount: 2671\n",
      "var 1:\n",
      "best............ 1.000000e+00\n",
      "mean............ 3.948368e+02\n",
      "variance........ 1.434283e+05\n",
      "\n",
      "GENERATION: 22\n",
      "Lexical Fit..... 9.996333e-01  1.000000e+00  \n",
      "#unique......... 126, #Total UniqueCount: 2797\n",
      "var 1:\n",
      "best............ 1.000000e+00\n",
      "mean............ 3.902385e+02\n",
      "variance........ 1.422743e+05\n",
      "\n",
      "GENERATION: 23\n",
      "Lexical Fit..... 9.996333e-01  1.000000e+00  \n",
      "#unique......... 121, #Total UniqueCount: 2918\n",
      "var 1:\n",
      "best............ 1.000000e+00\n",
      "mean............ 3.917020e+02\n",
      "variance........ 1.419986e+05\n",
      "\n",
      "GENERATION: 24\n",
      "Lexical Fit..... 9.996333e-01  1.000000e+00  \n",
      "#unique......... 117, #Total UniqueCount: 3035\n",
      "var 1:\n",
      "best............ 1.000000e+00\n",
      "mean............ 4.270708e+02\n",
      "variance........ 1.460626e+05\n",
      "\n",
      "GENERATION: 25\n",
      "Lexical Fit..... 9.996333e-01  1.000000e+00  \n",
      "#unique......... 122, #Total UniqueCount: 3157\n",
      "var 1:\n",
      "best............ 1.000000e+00\n",
      "mean............ 3.493975e+02\n",
      "variance........ 1.337046e+05\n",
      "\n",
      "GENERATION: 26\n",
      "Lexical Fit..... 9.996333e-01  1.000000e+00  \n",
      "#unique......... 123, #Total UniqueCount: 3280\n",
      "var 1:\n",
      "best............ 1.000000e+00\n",
      "mean............ 3.849515e+02\n",
      "variance........ 1.392334e+05\n",
      "\n",
      "'wait.generations' limit reached.\n",
      "No significant improvement in 25 generations.\n",
      "\n",
      "Solution Lexical Fitness Value:\n",
      "9.996333e-01  1.000000e+00  \n",
      "\n",
      "Parameters at the Solution:\n",
      "\n",
      " X[ 1] :\t1.000000e+00\n",
      "\n",
      "Solution Found Generation 1\n",
      "Number of Generations Run 26\n",
      "\n",
      "Sun Dec  8 02:58:52 2019\n",
      "Total run time : 0 hours 0 minutes and 3 seconds\n"
     ]
    },
    {
     "data": {
      "text/html": [
       "<ol class=list-inline>\n",
       "\t<li>1</li>\n",
       "\t<li>3</li>\n",
       "\t<li>3</li>\n",
       "\t<li>5</li>\n",
       "</ol>\n"
      ],
      "text/latex": [
       "\\begin{enumerate*}\n",
       "\\item 1\n",
       "\\item 3\n",
       "\\item 3\n",
       "\\item 5\n",
       "\\end{enumerate*}\n"
      ],
      "text/markdown": [
       "1. 1\n",
       "2. 3\n",
       "3. 3\n",
       "4. 5\n",
       "\n",
       "\n"
      ],
      "text/plain": [
       "[1] 1 3 3 5"
      ]
     },
     "execution_count": 61,
     "metadata": {
     },
     "output_type": "execute_result"
    },
    {
     "data": {
      "text/html": [
       "<ol class=list-inline>\n",
       "\t<li>2</li>\n",
       "\t<li>2</li>\n",
       "\t<li>4</li>\n",
       "\t<li>4</li>\n",
       "</ol>\n"
      ],
      "text/latex": [
       "\\begin{enumerate*}\n",
       "\\item 2\n",
       "\\item 2\n",
       "\\item 4\n",
       "\\item 4\n",
       "\\end{enumerate*}\n"
      ],
      "text/markdown": [
       "1. 2\n",
       "2. 2\n",
       "3. 4\n",
       "4. 4\n",
       "\n",
       "\n"
      ],
      "text/plain": [
       "[1] 2 2 4 4"
      ]
     },
     "execution_count": 61,
     "metadata": {
     },
     "output_type": "execute_result"
    },
    {
     "name": "stdout",
     "output_type": "stream",
     "text": [
      "\n",
      "***** (V1) age *****\n",
      "                       Before Matching \t \t After Matching\n",
      "mean treatment........         22 \t \t         22 \n",
      "mean control..........         22 \t \t         22 \n",
      "std mean diff.........          0 \t \t          0 \n",
      "\n",
      "mean raw eQQ diff.....          2 \t \t          2 \n",
      "med  raw eQQ diff.....          2 \t \t          2 \n",
      "max  raw eQQ diff.....          2 \t \t          2 \n",
      "\n",
      "mean eCDF diff........        0.2 \t \t        0.2 \n",
      "med  eCDF diff........    0.16667 \t \t       0.25 \n",
      "max  eCDF diff........    0.33333 \t \t       0.25 \n",
      "\n",
      "var ratio (Tr/Co).....        0.5 \t \t        0.5 \n",
      "T-test p-value........          1 \t \t          1 \n",
      "KS Bootstrap p-value..      0.932 \t \t       0.98 \n",
      "KS Naive p-value......          1 \t \t    0.99963 \n",
      "KS Statistic..........    0.33333 \t \t       0.25 \n",
      "\n"
     ]
    },
    {
     "data": {
      "text/html": [
       "0.932"
      ],
      "text/latex": [
       "0.932"
      ],
      "text/markdown": [
       "0.932"
      ],
      "text/plain": [
       "[1] 0.932"
      ]
     },
     "execution_count": 61,
     "metadata": {
     },
     "output_type": "execute_result"
    },
    {
     "data": {
      "text/html": [
       "0.98"
      ],
      "text/latex": [
       "0.98"
      ],
      "text/markdown": [
       "0.98"
      ],
      "text/plain": [
       "[1] 0.98"
      ]
     },
     "execution_count": 61,
     "metadata": {
     },
     "output_type": "execute_result"
    }
   ],
   "source": [
    "#M=2 matching\n",
    "genout_m2<- GenMatch(X = age, Tr = tr, M=2,  pop.size=200, max.generations=10, wait.generations=25)\n",
    "\n",
    "matchout_m2 <- Match(X = age, Tr = tr, M=2, Weight.matrix=genout_m2)\n",
    "matchout_m2$index.control\n",
    "matchout_m2$index.treated\n",
    "\n",
    "mb.out_m2 <- MatchBalance(tr~age, match.out = matchout_m2)\n",
    "mb.out_m2$BMsmallest.p.value\n",
    "mb.out_m2$AMsmallest.p.value"
   ]
  },
  {
   "cell_type": "markdown",
   "metadata": {
    "collapsed": false
   },
   "source": [
    "#### What's going on? 1:2 is better than 1:1 are equally good and better than NO matching [NO < 1:1 < 1:2 == 0.90 < 0.978 = 0.98]"
   ]
  },
  {
   "cell_type": "markdown",
   "metadata": {
    "collapsed": false
   },
   "source": [
    "---"
   ]
  },
  {
   "cell_type": "markdown",
   "metadata": {
    "collapsed": false
   },
   "source": [
    "## Dataset 4"
   ]
  },
  {
   "cell_type": "code",
   "execution_count": 62,
   "metadata": {
    "collapsed": false
   },
   "outputs": [
   ],
   "source": [
    "# STEP 1. DATA SIMULATING/WRANGLING\n",
    "age <- c(1, 20, 22, 24,26)\n",
    "tr <- c(0,1,0, 1, 0)\n",
    "data <- cbind(age, tr)"
   ]
  },
  {
   "cell_type": "code",
   "execution_count": 63,
   "metadata": {
    "collapsed": false
   },
   "outputs": [
    {
     "data": {
      "image/png": "[encoded data removed]",
      "text/plain": [
       "plot without title"
      ]
     },
     "execution_count": 63,
     "metadata": {
     },
     "output_type": "execute_result"
    }
   ],
   "source": [
    "plot_data(age, tr)"
   ]
  },
  {
   "cell_type": "code",
   "execution_count": 64,
   "metadata": {
    "collapsed": false
   },
   "outputs": [
    {
     "name": "stdout",
     "output_type": "stream",
     "text": [
      "\n",
      "\n",
      "Sun Dec  8 03:00:20 2019\n",
      "Domains:\n",
      " 0.000000e+00   <=  X1   <=    1.000000e+03 \n",
      "\n",
      "Data Type: Floating Point\n",
      "Operators (code number, name, population) \n",
      "\t(1) Cloning........................... \t22\n",
      "\t(2) Uniform Mutation.................. \t25\n",
      "\t(3) Boundary Mutation................. \t25\n",
      "\t(4) Non-Uniform Mutation.............. \t25\n",
      "\t(5) Polytope Crossover................ \t25\n",
      "\t(6) Simple Crossover.................. \t26\n",
      "\t(7) Whole Non-Uniform Mutation........ \t25\n",
      "\t(8) Heuristic Crossover............... \t26\n",
      "\t(9) Local-Minimum Crossover........... \t0\n",
      "\n",
      "SOFT Maximum Number of Generations: 10\n",
      "Maximum Nonchanging Generations: 25\n",
      "Population size       : 200\n",
      "Convergence Tolerance: 1.000000e-03\n",
      "\n",
      "Not Using the BFGS Derivative Based Optimizer on the Best Individual Each Generation.\n",
      "Not Checking Gradients before Stopping.\n",
      "Using Out of Bounds Individuals.\n",
      "\n",
      "Maximization Problem.\n",
      "GENERATION: 0 (initializing the population)\n",
      "Lexical Fit..... 9.639452e-01  1.000000e+00  \n",
      "#unique......... 200, #Total UniqueCount: 200\n",
      "var 1:\n",
      "best............ 4.604430e+02\n",
      "mean............ 4.810865e+02\n",
      "variance........ 8.169128e+04\n",
      "\n",
      "GENERATION: 1\n",
      "Lexical Fit..... 9.639452e-01  1.000000e+00  \n",
      "#unique......... 127, #Total UniqueCount: 327\n",
      "var 1:\n",
      "best............ 4.604430e+02\n",
      "mean............ 4.906210e+02\n",
      "variance........ 4.092859e+04\n",
      "\n",
      "GENERATION: 2\n",
      "Lexical Fit..... 9.639452e-01  1.000000e+00  \n",
      "#unique......... 126, #Total UniqueCount: 453\n",
      "var 1:\n",
      "best............ 4.604430e+02\n",
      "mean............ 5.068723e+02\n",
      "variance........ 4.523261e+04\n",
      "\n",
      "GENERATION: 3\n",
      "Lexical Fit..... 9.639452e-01  1.000000e+00  \n",
      "#unique......... 128, #Total UniqueCount: 581\n",
      "var 1:\n",
      "best............ 4.604430e+02\n",
      "mean............ 5.143051e+02\n",
      "variance........ 4.392019e+04\n",
      "\n",
      "GENERATION: 4\n",
      "Lexical Fit..... 9.639452e-01  1.000000e+00  \n",
      "#unique......... 129, #Total UniqueCount: 710\n",
      "var 1:\n",
      "best............ 4.604430e+02\n",
      "mean............ 4.974634e+02\n",
      "variance........ 3.659519e+04\n",
      "\n",
      "GENERATION: 5\n",
      "Lexical Fit..... 9.639452e-01  1.000000e+00  \n",
      "#unique......... 115, #Total UniqueCount: 825\n",
      "var 1:\n",
      "best............ 4.604430e+02\n",
      "mean............ 4.881269e+02\n",
      "variance........ 4.151254e+04\n",
      "\n",
      "GENERATION: 6\n",
      "Lexical Fit..... 9.639452e-01  1.000000e+00  \n",
      "#unique......... 116, #Total UniqueCount: 941\n",
      "var 1:\n",
      "best............ 4.604430e+02\n",
      "mean............ 5.054354e+02\n",
      "variance........ 4.270846e+04\n",
      "\n",
      "GENERATION: 7\n",
      "Lexical Fit..... 9.639452e-01  1.000000e+00  \n",
      "#unique......... 128, #Total UniqueCount: 1069\n",
      "var 1:\n",
      "best............ 4.604430e+02\n",
      "mean............ 5.138726e+02\n",
      "variance........ 4.358358e+04\n",
      "\n",
      "GENERATION: 8\n",
      "Lexical Fit..... 9.639452e-01  1.000000e+00  \n",
      "#unique......... 133, #Total UniqueCount: 1202\n",
      "var 1:\n",
      "best............ 4.604430e+02\n",
      "mean............ 4.925475e+02\n",
      "variance........ 4.327457e+04\n",
      "\n",
      "GENERATION: 9\n",
      "Lexical Fit..... 9.639452e-01  1.000000e+00  \n",
      "#unique......... 123, #Total UniqueCount: 1325\n",
      "var 1:\n",
      "best............ 4.604430e+02\n",
      "mean............ 5.036264e+02\n",
      "variance........ 3.895511e+04\n",
      "\n",
      "GENERATION: 10\n",
      "Lexical Fit..... 9.639452e-01  1.000000e+00  \n",
      "#unique......... 120, #Total UniqueCount: 1445\n",
      "var 1:\n",
      "best............ 4.604430e+02\n",
      "mean............ 5.121522e+02\n",
      "variance........ 3.877809e+04\n",
      "\n",
      "Increasing 'max.generations' limit by 25 generations to 35 because the fitness is still impoving.\n",
      "\n",
      "\n",
      "GENERATION: 11\n",
      "Lexical Fit..... 9.639452e-01  1.000000e+00  \n",
      "#unique......... 122, #Total UniqueCount: 1567\n",
      "var 1:\n",
      "best............ 4.604430e+02\n",
      "mean............ 5.015219e+02\n",
      "variance........ 4.090517e+04\n",
      "\n",
      "GENERATION: 12\n",
      "Lexical Fit..... 9.639452e-01  1.000000e+00  \n",
      "#unique......... 123, #Total UniqueCount: 1690\n",
      "var 1:\n",
      "best............ 4.604430e+02\n",
      "mean............ 4.985197e+02\n",
      "variance........ 4.121551e+04\n",
      "\n",
      "GENERATION: 13\n",
      "Lexical Fit..... 9.639452e-01  1.000000e+00  \n",
      "#unique......... 128, #Total UniqueCount: 1818\n",
      "var 1:\n",
      "best............ 4.604430e+02\n",
      "mean............ 5.038577e+02\n",
      "variance........ 4.284296e+04\n",
      "\n",
      "GENERATION: 14\n",
      "Lexical Fit..... 9.639452e-01  1.000000e+00  \n",
      "#unique......... 121, #Total UniqueCount: 1939\n",
      "var 1:\n",
      "best............ 4.604430e+02\n",
      "mean............ 5.118757e+02\n",
      "variance........ 4.224541e+04\n",
      "\n",
      "GENERATION: 15\n",
      "Lexical Fit..... 9.639452e-01  1.000000e+00  \n",
      "#unique......... 121, #Total UniqueCount: 2060\n",
      "var 1:\n",
      "best............ 4.604430e+02\n",
      "mean............ 5.207244e+02\n",
      "variance........ 4.396428e+04\n",
      "\n",
      "GENERATION: 16\n",
      "Lexical Fit..... 9.639452e-01  1.000000e+00  \n",
      "#unique......... 127, #Total UniqueCount: 2187\n",
      "var 1:\n",
      "best............ 4.604430e+02\n",
      "mean............ 4.881412e+02\n",
      "variance........ 4.380903e+04\n",
      "\n",
      "GENERATION: 17\n",
      "Lexical Fit..... 9.639452e-01  1.000000e+00  \n",
      "#unique......... 125, #Total UniqueCount: 2312\n",
      "var 1:\n",
      "best............ 4.604430e+02\n",
      "mean............ 5.175740e+02\n",
      "variance........ 4.526194e+04\n",
      "\n",
      "GENERATION: 18\n",
      "Lexical Fit..... 9.639452e-01  1.000000e+00  \n",
      "#unique......... 117, #Total UniqueCount: 2429\n",
      "var 1:\n",
      "best............ 4.604430e+02\n",
      "mean............ 5.108839e+02\n",
      "variance........ 4.459715e+04\n",
      "\n",
      "GENERATION: 19\n",
      "Lexical Fit..... 9.639452e-01  1.000000e+00  \n",
      "#unique......... 121, #Total UniqueCount: 2550\n",
      "var 1:\n",
      "best............ 4.604430e+02\n",
      "mean............ 4.830231e+02\n",
      "variance........ 3.555127e+04\n",
      "\n",
      "GENERATION: 20\n",
      "Lexical Fit..... 9.639452e-01  1.000000e+00  \n",
      "#unique......... 113, #Total UniqueCount: 2663\n",
      "var 1:\n",
      "best............ 4.604430e+02\n",
      "mean............ 5.001042e+02\n",
      "variance........ 4.354167e+04\n",
      "\n",
      "GENERATION: 21\n",
      "Lexical Fit..... 9.639452e-01  1.000000e+00  \n",
      "#unique......... 119, #Total UniqueCount: 2782\n",
      "var 1:\n",
      "best............ 4.604430e+02\n",
      "mean............ 4.935779e+02\n",
      "variance........ 3.649546e+04\n",
      "\n",
      "GENERATION: 22\n",
      "Lexical Fit..... 9.639452e-01  1.000000e+00  \n",
      "#unique......... 122, #Total UniqueCount: 2904\n",
      "var 1:\n",
      "best............ 4.604430e+02\n",
      "mean............ 4.916183e+02\n",
      "variance........ 4.110110e+04\n",
      "\n",
      "GENERATION: 23\n",
      "Lexical Fit..... 9.639452e-01  1.000000e+00  \n",
      "#unique......... 116, #Total UniqueCount: 3020\n",
      "var 1:\n",
      "best............ 4.604430e+02\n",
      "mean............ 5.105509e+02\n",
      "variance........ 4.825279e+04\n",
      "\n",
      "GENERATION: 24\n",
      "Lexical Fit..... 9.639452e-01  1.000000e+00  \n",
      "#unique......... 118, #Total UniqueCount: 3138\n",
      "var 1:\n",
      "best............ 4.604430e+02\n",
      "mean............ 5.184966e+02\n",
      "variance........ 4.193286e+04\n",
      "\n",
      "GENERATION: 25\n",
      "Lexical Fit..... 9.639452e-01  1.000000e+00  \n",
      "#unique......... 122, #Total UniqueCount: 3260\n",
      "var 1:\n",
      "best............ 4.604430e+02\n",
      "mean............ 4.879798e+02\n",
      "variance........ 4.305889e+04\n",
      "\n",
      "GENERATION: 26\n",
      "Lexical Fit..... 9.639452e-01  1.000000e+00  \n",
      "#unique......... 121, #Total UniqueCount: 3381\n",
      "var 1:\n",
      "best............ 4.604430e+02\n",
      "mean............ 4.918321e+02\n",
      "variance........ 4.039033e+04\n",
      "\n",
      "'wait.generations' limit reached.\n",
      "No significant improvement in 25 generations.\n",
      "\n",
      "Solution Lexical Fitness Value:\n",
      "9.639452e-01  1.000000e+00  \n",
      "\n",
      "Parameters at the Solution:\n",
      "\n",
      " X[ 1] :\t4.604430e+02\n",
      "\n",
      "Solution Found Generation 1\n",
      "Number of Generations Run 26\n",
      "\n",
      "Sun Dec  8 03:00:22 2019\n",
      "Total run time : 0 hours 0 minutes and 2 seconds\n"
     ]
    },
    {
     "data": {
      "text/html": [
       "<ol class=list-inline>\n",
       "\t<li>3</li>\n",
       "\t<li>3</li>\n",
       "</ol>\n"
      ],
      "text/latex": [
       "\\begin{enumerate*}\n",
       "\\item 3\n",
       "\\item 3\n",
       "\\end{enumerate*}\n"
      ],
      "text/markdown": [
       "1. 3\n",
       "2. 3\n",
       "\n",
       "\n"
      ],
      "text/plain": [
       "[1] 3 3"
      ]
     },
     "execution_count": 64,
     "metadata": {
     },
     "output_type": "execute_result"
    },
    {
     "data": {
      "text/html": [
       "<ol class=list-inline>\n",
       "\t<li>2</li>\n",
       "\t<li>4</li>\n",
       "</ol>\n"
      ],
      "text/latex": [
       "\\begin{enumerate*}\n",
       "\\item 2\n",
       "\\item 4\n",
       "\\end{enumerate*}\n"
      ],
      "text/markdown": [
       "1. 2\n",
       "2. 4\n",
       "\n",
       "\n"
      ],
      "text/plain": [
       "[1] 2 4"
      ]
     },
     "execution_count": 64,
     "metadata": {
     },
     "output_type": "execute_result"
    },
    {
     "name": "stdout",
     "output_type": "stream",
     "text": [
      "\n",
      "***** (V1) age *****\n",
      "                       Before Matching \t \t After Matching\n",
      "mean treatment........         22 \t \t         22 \n",
      "mean control..........     16.333 \t \t         22 \n",
      "std mean diff.........     200.35 \t \t          0 \n",
      "\n",
      "mean raw eQQ diff.....       10.5 \t \t          2 \n",
      "med  raw eQQ diff.....       10.5 \t \t          2 \n",
      "max  raw eQQ diff.....         19 \t \t          2 \n",
      "\n",
      "mean eCDF diff........        0.2 \t \t    0.33333 \n",
      "med  eCDF diff........    0.16667 \t \t        0.5 \n",
      "max  eCDF diff........    0.33333 \t \t        0.5 \n",
      "\n",
      "var ratio (Tr/Co).....   0.044362 \t \t        Inf \n",
      "T-test p-value........    0.54514 \t \t          1 \n",
      "KS Bootstrap p-value..      0.924 \t \t      0.798 \n",
      "KS Naive p-value......          1 \t \t    0.96395 \n",
      "KS Statistic..........    0.33333 \t \t        0.5 \n",
      "\n"
     ]
    },
    {
     "data": {
      "text/html": [
       "0.545137170000613"
      ],
      "text/latex": [
       "0.545137170000613"
      ],
      "text/markdown": [
       "0.545137170000613"
      ],
      "text/plain": [
       "[1] 0.5451372"
      ]
     },
     "execution_count": 64,
     "metadata": {
     },
     "output_type": "execute_result"
    },
    {
     "data": {
      "text/html": [
       "0.798"
      ],
      "text/latex": [
       "0.798"
      ],
      "text/markdown": [
       "0.798"
      ],
      "text/plain": [
       "[1] 0.798"
      ]
     },
     "execution_count": 64,
     "metadata": {
     },
     "output_type": "execute_result"
    }
   ],
   "source": [
    "#M=1 matching\n",
    "genout_m1<- GenMatch(X = age, Tr = tr, M=1,  pop.size=200, max.generations=10, wait.generations=25, ties = FALSE)\n",
    "matchout_m1 <- Match(X = age, Tr = tr, M=1, Weight.matrix=genout_m1, ties = FALSE)\n",
    "matchout_m1$index.control\n",
    "matchout_m1$index.treated\n",
    "\n",
    "mb.out_m1 <- MatchBalance(tr~age, match.out = matchout_m1)\n",
    "mb.out_m1$BMsmallest.p.value\n",
    "mb.out_m1$AMsmallest.p.value"
   ]
  },
  {
   "cell_type": "code",
   "execution_count": 65,
   "metadata": {
    "collapsed": false
   },
   "outputs": [
    {
     "name": "stdout",
     "output_type": "stream",
     "text": [
      "\n",
      "\n",
      "Sun Dec  8 03:00:22 2019\n",
      "Domains:\n",
      " 0.000000e+00   <=  X1   <=    1.000000e+03 \n",
      "\n",
      "Data Type: Floating Point\n",
      "Operators (code number, name, population) \n",
      "\t(1) Cloning........................... \t22\n",
      "\t(2) Uniform Mutation.................. \t25\n",
      "\t(3) Boundary Mutation................. \t25\n",
      "\t(4) Non-Uniform Mutation.............. \t25\n",
      "\t(5) Polytope Crossover................ \t25\n",
      "\t(6) Simple Crossover.................. \t26\n",
      "\t(7) Whole Non-Uniform Mutation........ \t25\n",
      "\t(8) Heuristic Crossover............... \t26\n",
      "\t(9) Local-Minimum Crossover........... \t0\n",
      "\n",
      "SOFT Maximum Number of Generations: 10\n",
      "Maximum Nonchanging Generations: 25\n",
      "Population size       : 200\n",
      "Convergence Tolerance: 1.000000e-03\n",
      "\n",
      "Not Using the BFGS Derivative Based Optimizer on the Best Individual Each Generation.\n",
      "Not Checking Gradients before Stopping.\n",
      "Using Out of Bounds Individuals.\n",
      "\n",
      "Maximization Problem.\n",
      "GENERATION: 0 (initializing the population)\n",
      "Lexical Fit..... 5.000000e-01  6.993742e-01  \n",
      "#unique......... 200, #Total UniqueCount: 200\n",
      "var 1:\n",
      "best............ 1.000000e+00\n",
      "mean............ 4.801081e+02\n",
      "variance........ 7.676264e+04\n",
      "\n",
      "GENERATION: 1\n",
      "Lexical Fit..... 5.000000e-01  6.993742e-01  \n",
      "#unique......... 119, #Total UniqueCount: 319\n",
      "var 1:\n",
      "best............ 1.000000e+00\n",
      "mean............ 3.773921e+02\n",
      "variance........ 9.271463e+04\n",
      "\n",
      "GENERATION: 2\n",
      "Lexical Fit..... 5.000000e-01  6.993742e-01  \n",
      "#unique......... 126, #Total UniqueCount: 445\n",
      "var 1:\n",
      "best............ 1.000000e+00\n",
      "mean............ 3.515085e+02\n",
      "variance........ 9.223176e+04\n",
      "\n",
      "GENERATION: 3\n",
      "Lexical Fit..... 5.000000e-01  6.993742e-01  \n",
      "#unique......... 120, #Total UniqueCount: 565\n",
      "var 1:\n",
      "best............ 1.000000e+00\n",
      "mean............ 3.662158e+02\n",
      "variance........ 9.562002e+04\n",
      "\n",
      "GENERATION: 4\n",
      "Lexical Fit..... 5.000000e-01  6.993742e-01  \n",
      "#unique......... 129, #Total UniqueCount: 694\n",
      "var 1:\n",
      "best............ 1.000000e+00\n",
      "mean............ 3.510667e+02\n",
      "variance........ 9.210228e+04\n",
      "\n",
      "GENERATION: 5\n",
      "Lexical Fit..... 5.000000e-01  6.993742e-01  \n",
      "#unique......... 117, #Total UniqueCount: 811\n",
      "var 1:\n",
      "best............ 1.000000e+00\n",
      "mean............ 3.796911e+02\n",
      "variance........ 8.654957e+04\n",
      "\n",
      "GENERATION: 6\n",
      "Lexical Fit..... 5.000000e-01  6.993742e-01  \n",
      "#unique......... 120, #Total UniqueCount: 931\n",
      "var 1:\n",
      "best............ 1.000000e+00\n",
      "mean............ 3.657263e+02\n",
      "variance........ 9.348441e+04\n",
      "\n",
      "GENERATION: 7\n",
      "Lexical Fit..... 5.000000e-01  6.993742e-01  \n",
      "#unique......... 123, #Total UniqueCount: 1054\n",
      "var 1:\n",
      "best............ 1.000000e+00\n",
      "mean............ 3.477725e+02\n",
      "variance........ 9.056603e+04\n",
      "\n",
      "GENERATION: 8\n",
      "Lexical Fit..... 5.000000e-01  6.993742e-01  \n",
      "#unique......... 110, #Total UniqueCount: 1164\n",
      "var 1:\n",
      "best............ 1.000000e+00\n",
      "mean............ 3.737173e+02\n",
      "variance........ 9.003063e+04\n",
      "\n",
      "GENERATION: 9\n",
      "Lexical Fit..... 5.000000e-01  6.993742e-01  \n",
      "#unique......... 114, #Total UniqueCount: 1278\n",
      "var 1:\n",
      "best............ 1.000000e+00\n",
      "mean............ 3.599356e+02\n",
      "variance........ 9.020671e+04\n",
      "\n",
      "GENERATION: 10\n",
      "Lexical Fit..... 5.000000e-01  6.993742e-01  \n",
      "#unique......... 116, #Total UniqueCount: 1394\n",
      "var 1:\n",
      "best............ 1.000000e+00\n",
      "mean............ 3.507415e+02\n",
      "variance........ 9.569255e+04\n",
      "\n",
      "Increasing 'max.generations' limit by 25 generations to 35 because the fitness is still impoving.\n",
      "\n",
      "\n",
      "GENERATION: 11\n",
      "Lexical Fit..... 5.000000e-01  6.993742e-01  \n",
      "#unique......... 121, #Total UniqueCount: 1515\n",
      "var 1:\n",
      "best............ 1.000000e+00\n",
      "mean............ 3.955577e+02\n",
      "variance........ 8.680121e+04\n",
      "\n",
      "GENERATION: 12\n",
      "Lexical Fit..... 5.000000e-01  6.993742e-01  \n",
      "#unique......... 109, #Total UniqueCount: 1624\n",
      "var 1:\n",
      "best............ 1.000000e+00\n",
      "mean............ 3.235783e+02\n",
      "variance........ 8.935005e+04\n",
      "\n",
      "GENERATION: 13\n",
      "Lexical Fit..... 5.000000e-01  6.993742e-01  \n",
      "#unique......... 119, #Total UniqueCount: 1743\n",
      "var 1:\n",
      "best............ 1.000000e+00\n",
      "mean............ 3.618375e+02\n",
      "variance........ 9.039989e+04\n",
      "\n",
      "GENERATION: 14\n",
      "Lexical Fit..... 5.000000e-01  6.993742e-01  \n",
      "#unique......... 119, #Total UniqueCount: 1862\n",
      "var 1:\n",
      "best............ 1.000000e+00\n",
      "mean............ 3.665790e+02\n",
      "variance........ 8.527143e+04\n",
      "\n",
      "GENERATION: 15\n",
      "Lexical Fit..... 5.000000e-01  6.993742e-01  \n",
      "#unique......... 118, #Total UniqueCount: 1980\n",
      "var 1:\n",
      "best............ 1.000000e+00\n",
      "mean............ 3.374546e+02\n",
      "variance........ 9.767336e+04\n",
      "\n",
      "GENERATION: 16\n",
      "Lexical Fit..... 5.000000e-01  6.993742e-01  \n",
      "#unique......... 116, #Total UniqueCount: 2096\n",
      "var 1:\n",
      "best............ 1.000000e+00\n",
      "mean............ 3.769462e+02\n",
      "variance........ 1.029830e+05\n",
      "\n",
      "GENERATION: 17\n",
      "Lexical Fit..... 5.000000e-01  6.993742e-01  \n",
      "#unique......... 125, #Total UniqueCount: 2221\n",
      "var 1:\n",
      "best............ 1.000000e+00\n",
      "mean............ 3.367549e+02\n",
      "variance........ 9.498610e+04\n",
      "\n",
      "GENERATION: 18\n",
      "Lexical Fit..... 5.000000e-01  6.993742e-01  \n",
      "#unique......... 110, #Total UniqueCount: 2331\n",
      "var 1:\n",
      "best............ 1.000000e+00\n",
      "mean............ 3.229206e+02\n",
      "variance........ 9.513053e+04\n",
      "\n",
      "GENERATION: 19\n",
      "Lexical Fit..... 5.000000e-01  6.993742e-01  \n",
      "#unique......... 116, #Total UniqueCount: 2447\n",
      "var 1:\n",
      "best............ 1.000000e+00\n",
      "mean............ 3.472353e+02\n",
      "variance........ 9.911339e+04\n",
      "\n",
      "GENERATION: 20\n",
      "Lexical Fit..... 5.000000e-01  6.993742e-01  \n",
      "#unique......... 127, #Total UniqueCount: 2574\n",
      "var 1:\n",
      "best............ 1.000000e+00\n",
      "mean............ 3.337395e+02\n",
      "variance........ 9.120831e+04\n",
      "\n",
      "GENERATION: 21\n",
      "Lexical Fit..... 5.000000e-01  6.993742e-01  \n",
      "#unique......... 125, #Total UniqueCount: 2699\n",
      "var 1:\n",
      "best............ 1.000000e+00\n",
      "mean............ 3.348664e+02\n",
      "variance........ 9.243562e+04\n",
      "\n",
      "GENERATION: 22\n",
      "Lexical Fit..... 5.000000e-01  6.993742e-01  \n",
      "#unique......... 118, #Total UniqueCount: 2817\n",
      "var 1:\n",
      "best............ 1.000000e+00\n",
      "mean............ 3.414190e+02\n",
      "variance........ 9.337474e+04\n",
      "\n",
      "GENERATION: 23\n",
      "Lexical Fit..... 5.000000e-01  6.993742e-01  \n",
      "#unique......... 117, #Total UniqueCount: 2934\n",
      "var 1:\n",
      "best............ 1.000000e+00\n",
      "mean............ 3.616428e+02\n",
      "variance........ 8.946815e+04\n",
      "\n",
      "GENERATION: 24\n",
      "Lexical Fit..... 5.000000e-01  6.993742e-01  \n",
      "#unique......... 122, #Total UniqueCount: 3056\n",
      "var 1:\n",
      "best............ 1.000000e+00\n",
      "mean............ 3.554365e+02\n",
      "variance........ 1.001602e+05\n",
      "\n",
      "GENERATION: 25\n",
      "Lexical Fit..... 5.000000e-01  6.993742e-01  \n",
      "#unique......... 122, #Total UniqueCount: 3178\n",
      "var 1:\n",
      "best............ 1.000000e+00\n",
      "mean............ 3.572290e+02\n",
      "variance........ 9.141132e+04\n",
      "\n",
      "GENERATION: 26\n",
      "Lexical Fit..... 5.000000e-01  6.993742e-01  \n",
      "#unique......... 120, #Total UniqueCount: 3298\n",
      "var 1:\n",
      "best............ 1.000000e+00\n",
      "mean............ 3.498943e+02\n",
      "variance........ 9.631426e+04\n",
      "\n",
      "'wait.generations' limit reached.\n",
      "No significant improvement in 25 generations.\n",
      "\n",
      "Solution Lexical Fitness Value:\n",
      "5.000000e-01  6.993742e-01  \n",
      "\n",
      "Parameters at the Solution:\n",
      "\n",
      " X[ 1] :\t1.000000e+00\n",
      "\n",
      "Solution Found Generation 1\n",
      "Number of Generations Run 26\n",
      "\n",
      "Sun Dec  8 03:00:26 2019\n",
      "Total run time : 0 hours 0 minutes and 4 seconds\n"
     ]
    },
    {
     "data": {
      "text/html": [
       "<ol class=list-inline>\n",
       "\t<li>3</li>\n",
       "\t<li>5</li>\n",
       "\t<li>3</li>\n",
       "\t<li>5</li>\n",
       "</ol>\n"
      ],
      "text/latex": [
       "\\begin{enumerate*}\n",
       "\\item 3\n",
       "\\item 5\n",
       "\\item 3\n",
       "\\item 5\n",
       "\\end{enumerate*}\n"
      ],
      "text/markdown": [
       "1. 3\n",
       "2. 5\n",
       "3. 3\n",
       "4. 5\n",
       "\n",
       "\n"
      ],
      "text/plain": [
       "[1] 3 5 3 5"
      ]
     },
     "execution_count": 65,
     "metadata": {
     },
     "output_type": "execute_result"
    },
    {
     "data": {
      "text/html": [
       "<ol class=list-inline>\n",
       "\t<li>2</li>\n",
       "\t<li>2</li>\n",
       "\t<li>4</li>\n",
       "\t<li>4</li>\n",
       "</ol>\n"
      ],
      "text/latex": [
       "\\begin{enumerate*}\n",
       "\\item 2\n",
       "\\item 2\n",
       "\\item 4\n",
       "\\item 4\n",
       "\\end{enumerate*}\n"
      ],
      "text/markdown": [
       "1. 2\n",
       "2. 2\n",
       "3. 4\n",
       "4. 4\n",
       "\n",
       "\n"
      ],
      "text/plain": [
       "[1] 2 2 4 4"
      ]
     },
     "execution_count": 65,
     "metadata": {
     },
     "output_type": "execute_result"
    },
    {
     "name": "stdout",
     "output_type": "stream",
     "text": [
      "\n",
      "***** (V1) age *****\n",
      "                       Before Matching \t \t After Matching\n",
      "mean treatment........         22 \t \t         22 \n",
      "mean control..........     16.333 \t \t         24 \n",
      "std mean diff.........     200.35 \t \t    -70.711 \n",
      "\n",
      "mean raw eQQ diff.....       10.5 \t \t          2 \n",
      "med  raw eQQ diff.....       10.5 \t \t          2 \n",
      "max  raw eQQ diff.....         19 \t \t          2 \n",
      "\n",
      "mean eCDF diff........        0.2 \t \t       0.25 \n",
      "med  eCDF diff........    0.16667 \t \t       0.25 \n",
      "max  eCDF diff........    0.33333 \t \t        0.5 \n",
      "\n",
      "var ratio (Tr/Co).....   0.044362 \t \t          1 \n",
      "T-test p-value........    0.54514 \t \t        0.5 \n",
      "KS Bootstrap p-value..      0.912 \t \t      0.516 \n",
      "KS Naive p-value......          1 \t \t    0.69937 \n",
      "KS Statistic..........    0.33333 \t \t        0.5 \n",
      "\n"
     ]
    },
    {
     "data": {
      "text/html": [
       "0.545137170000613"
      ],
      "text/latex": [
       "0.545137170000613"
      ],
      "text/markdown": [
       "0.545137170000613"
      ],
      "text/plain": [
       "[1] 0.5451372"
      ]
     },
     "execution_count": 65,
     "metadata": {
     },
     "output_type": "execute_result"
    },
    {
     "data": {
      "text/html": [
       "0.5"
      ],
      "text/latex": [
       "0.5"
      ],
      "text/markdown": [
       "0.5"
      ],
      "text/plain": [
       "[1] 0.5"
      ]
     },
     "execution_count": 65,
     "metadata": {
     },
     "output_type": "execute_result"
    }
   ],
   "source": [
    "#M=2 matching\n",
    "genout_m2<- GenMatch(X = age, Tr = tr, M=2,  pop.size=200, max.generations=10, wait.generations=25)\n",
    "\n",
    "matchout_m2 <- Match(X = age, Tr = tr, M=2, Weight.matrix=genout_m2)\n",
    "matchout_m2$index.control\n",
    "matchout_m2$index.treated\n",
    "\n",
    "mb.out_m2 <- MatchBalance(tr~age, match.out = matchout_m2)\n",
    "mb.out_m2$BMsmallest.p.value\n",
    "mb.out_m2$AMsmallest.p.value"
   ]
  },
  {
   "cell_type": "markdown",
   "metadata": {
    "collapsed": false
   },
   "source": [
    "#### What's going on? 1:1 and 1:1 are equally good and better than NO matching [1:2 < NO < 1:1  == 0.5 < 0.54 = 0.78]"
   ]
  },
  {
   "cell_type": "markdown",
   "metadata": {
    "collapsed": false
   },
   "source": [
   ]
  },
  {
   "cell_type": "markdown",
   "metadata": {
    "collapsed": false
   },
   "source": [
    "---"
   ]
  },
  {
   "cell_type": "markdown",
   "metadata": {
    "collapsed": false
   },
   "source": [
    "## Generalizing (Discussion)"
   ]
  },
  {
   "cell_type": "markdown",
   "metadata": {
    "collapsed": false
   },
   "source": [
    "_Include drawings (on axes) to support discussion_\n",
    "<br>\n",
    "_Distributions?_"
   ]
  },
  {
   "attachments": {
    "Screen%20Shot%202019-12-08%20at%2011.19.32.png": {
     "image/png": "[encoded data removed]"
    },
    "Screen%20Shot%202019-12-08%20at%2012.06.23%20PM.png": {
     "image/png": "[encoded data removed]"
    }
   },
   "cell_type": "markdown",
   "metadata": {
    "collapsed": false
   },
   "source": [
    "### So, when (which scenarios) does M = 2 matching work better than M = 1 matching? [1:1 < 1:2]\n",
    "_(Dataset 2 - 1:1 < NO < 1:2)_\n",
    "<br>\n",
    "![Screen%20Shot%202019-12-08%20at%2011.19.32.png](attachment:Screen%20Shot%202019-12-08%20at%2011.19.32.png)\n",
    "_(Dataset 3 - NO < 1:1 < 1:2)_\n",
    "<br>\n",
    "<br>\n",
    "![Screen%20Shot%202019-12-08%20at%2012.06.23%20PM.png](attachment:Screen%20Shot%202019-12-08%20at%2012.06.23%20PM.png)"
   ]
  },
  {
   "cell_type": "markdown",
   "metadata": {
    "collapsed": false
   },
   "source": [
    "- Control units are equidistant (on both sides) from the control being matched on\n",
    "    - What does this translate to for distribution graphs?\n",
    "- Average of selected controls is closer to the treated unit than one control\n",
    "- Equal terribleness but in different directions = better match\n",
    "   -  If distribution is scarce and scattered, higher likelihood that any single match = bad, multiple matches = much better\n",
    "       - When include more dimensions i.e. covariates, problem even more pronounced: higher likelihood of having bad matches"
   ]
  },
  {
   "attachments": {
    "Screen%20Shot%202019-12-08%20at%2011.17.14.png": {
     "image/png": "[encoded data removed]"
    }
   },
   "cell_type": "markdown",
   "metadata": {
    "collapsed": false,
    "hidePrompt": false
   },
   "source": [
    "### When (which scenarios) does M = 1 matching work better than M = 2 matching?\n",
    "_(Dataset 4)_\n",
    "![Screen%20Shot%202019-12-08%20at%2011.17.14.png](attachment:Screen%20Shot%202019-12-08%20at%2011.17.14.png)"
   ]
  },
  {
   "cell_type": "markdown",
   "metadata": {
    "collapsed": false
   },
   "source": [
    "- Exact matches\n",
    "- No balancing out of chosen control values for treated\n",
    "- Outliers that need be used for M = 2 matching\n",
    "- Not enough data around treated\n"
   ]
  },
  {
   "cell_type": "code",
   "execution_count": 0,
   "metadata": {
    "collapsed": false
   },
   "outputs": [
   ],
   "source": [
   ]
  },
  {
   "cell_type": "markdown",
   "metadata": {
    "collapsed": false
   },
   "source": [
    "### When (which scenarios) do M = 1 matching and M = 2 matching work as well?\n",
    "_(Dataset 1A)_\n"
   ]
  },
  {
   "cell_type": "markdown",
   "metadata": {
    "collapsed": false
   },
   "source": [
    "- Exact matches (number of exact matches is the same as specified M) for control (when matching without ties)\n",
    "- Ties for M = 1; M = 1 == M =2 matching (when matching matching with ties)\n"
   ]
  },
  {
   "cell_type": "code",
   "execution_count": 0,
   "metadata": {
    "collapsed": false
   },
   "outputs": [
   ],
   "source": [
   ]
  },
  {
   "cell_type": "markdown",
   "metadata": {
    "collapsed": false
   },
   "source": [
    "## Implications (Conclusion)"
   ]
  },
  {
   "cell_type": "markdown",
   "metadata": {
    "collapsed": false
   },
   "source": [
    "- Distributions\n",
    "\n",
    "- Generalize to multiple matching \n",
    "\n",
    "- Extending to multiple dimensions / covariates\n",
    "    - Simple\n",
    "\n",
    "- Caliper matching to avoid huge bias  // distance tolerance?\n",
    "    - Example of (35 + 5) / 2 = 20\n",
    "    \n",
    "- Maximumum utilization of a control for treated units (matching WITH replacement)\n",
    "    - Avoid overuse\n",
    "    \n"
   ]
  },
  {
   "cell_type": "markdown",
   "metadata": {
    "collapsed": false
   },
   "source": [
    "## Appendix"
   ]
  },
  {
   "cell_type": "markdown",
   "metadata": {
    "collapsed": false
   },
   "source": [
    "### Plotting"
   ]
  },
  {
   "cell_type": "code",
   "execution_count": 26,
   "metadata": {
    "collapsed": false
   },
   "outputs": [
   ],
   "source": [
    "# create a function called plotting the axes\n",
    "plot_data <- function(data, assignment) {\n",
    "\n",
    "    # get values from generated / passed data\n",
    "    pt_max <- max(data) # find the biggest value\n",
    "    controls_i <- which(assignment[] == 0) # identify indexes of controls\n",
    "    controls <- data[controls_i]\n",
    "    treated_i <- which(assignment[] == 1) # identify indexes of treated\n",
    "    treated <- data[treated_i]\n",
    "    \n",
    "    # define plot data\n",
    "    xlim <- c(0,pt_max*1.2) # set axis to be slightly bigger than the length of the data \n",
    "    ylim <- c(0,100) # ...   \n",
    "\n",
    "    px_control <- controls # define x-values for control pts\n",
    "    py_control <- rep(0, length(controls)) # define y-values for control pts (0)\n",
    "    px_treated <- treated # define x-values for treated pts\n",
    "    py_treated <- rep(0, length(treated)) # define y-values for treated pts (0)\n",
    "\n",
    "    # create basic plot outline\n",
    "    par(xaxs='i',yaxs='i',mar=c(5,1,1,1))\n",
    "    plot(NA,xlim=xlim,ylim=ylim,axes=F,ann=F)\n",
    "    axis(1)\n",
    "\n",
    "    # plot elements\n",
    "    points(px_control,py_control,xpd=NA)\n",
    "    points(px_treated,py_treated,pch=16,xpd=NA)\n",
    "}\n",
    "\n",
    "## . TO DO : add final control"
   ]
  },
  {
   "cell_type": "markdown",
   "metadata": {
    "collapsed": false
   },
   "source": [
    "#### deleted, might be useful:\n",
    "1:1 < NO \n",
    "<br>\n",
    "Here, when we match one-to-one with or without replacement, we get worse balance than not matching at all (which gives us better results)... Why? Because the control units are not good matches individually (but are better as a group). The control sample is reduced (by two control units -- we don't use them) when we match. "
   ]
  },
  {
   "cell_type": "code",
   "execution_count": 0,
   "metadata": {
    "collapsed": false
   },
   "outputs": [
   ],
   "source": [
   ]
  }
 ],
 "metadata": {
  "kernelspec": {
   "display_name": "R (R-Project)",
   "language": "r",
   "metadata": {
    "cocalc": {
     "description": "R statistical programming language",
     "priority": 10,
     "url": "https://www.r-project.org/"
    }
   },
   "name": "ir"
  },
  "language_info": {
   "codemirror_mode": "r",
   "file_extension": ".r",
   "mimetype": "text/x-r-source",
   "name": "R",
   "pygments_lexer": "r",
   "version": "3.6.1"
  }
 },
 "nbformat": 4,
 "nbformat_minor": 0
}