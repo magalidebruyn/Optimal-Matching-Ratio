{
 "cells": [
  {
   "cell_type": "markdown",
   "metadata": {
    "collapsed": false
   },
   "source": [
    "# Matching: Koalas on Fire\n",
    "\n",
    "##### By Magali de Bruyn and Svitlana Midianko"
   ]
  },
  {
   "cell_type": "markdown",
   "metadata": {
    "collapsed": false
   },
   "source": [
    "<font size=\"1\"><i>Please find the complementary Medium post <a href=\"https://medium.com/@svitlana_78975/matching-koalas-on-fire-134ad3d2822\">here</a>.</i></font>\n",
    "<br>\n",
    "<font size=\"1\"><i>Note: to run the notebook successfully - please run the functions from the Appendix first</i></font>"
   ]
  },
  {
   "cell_type": "markdown",
   "metadata": {
    "collapsed": false
   },
   "source": [
    "---"
   ]
  },
  {
   "cell_type": "markdown",
   "metadata": {
    "collapsed": false
   },
   "source": [
    "## Data (self-constructed) exploration"
   ]
  },
  {
   "cell_type": "code",
   "execution_count": 5,
   "metadata": {
    "collapsed": false
   },
   "outputs": [
    {
     "name": "stderr",
     "output_type": "stream",
     "text": [
      "Loading required package: MASS\n",
      "## \n",
      "##  Matching (Version 4.9-6, Build Date: 2019-04-07)\n",
      "##  See http://sekhon.berkeley.edu/matching for additional documentation.\n",
      "##  Please cite software as:\n",
      "##   Jasjeet S. Sekhon. 2011. ``Multivariate and Propensity Score Matching\n",
      "##   Software with Automated Balance Optimization: The Matching package for R.''\n",
      "##   Journal of Statistical Software, 42(7): 1-52. \n",
      "##\n",
      "\n"
     ]
    }
   ],
   "source": [
    "# Load relevant libraries\n",
    "library(Matching)"
   ]
  },
  {
   "cell_type": "markdown",
   "metadata": {
    "collapsed": false
   },
   "source": [
    "## Dataset 1 "
   ]
  },
  {
   "cell_type": "code",
   "execution_count": 2,
   "metadata": {
    "collapsed": false
   },
   "outputs": [
   ],
   "source": [
    "food_kilos <- c(180, 200, 225, 250, 270)\n",
    "tr <- c(0,  1, 0, 1, 0)\n",
    "data <- cbind(food_kilos, tr)"
   ]
  },
  {
   "cell_type": "code",
   "execution_count": 3,
   "metadata": {
    "collapsed": false
   },
   "outputs": [
    {
     "name": "stderr",
     "output_type": "stream",
     "text": [
      "Loading required namespace: rgenoud\n"
     ]
    },
    {
     "name": "stdout",
     "output_type": "stream",
     "text": [
      "\n",
      "\n",
      "Mon Dec 16 11:10:53 2019\n",
      "Domains:\n",
      " 0.000000e+00   <=  X1   <=    1.000000e+03 \n",
      "\n",
      "Data Type: Floating Point\n",
      "Operators (code number, name, population) \n",
      "\t(1) Cloning........................... \t22\n",
      "\t(2) Uniform Mutation.................. \t25\n",
      "\t(3) Boundary Mutation................. \t25\n",
      "\t(4) Non-Uniform Mutation.............. \t25\n",
      "\t(5) Polytope Crossover................ \t25\n",
      "\t(6) Simple Crossover.................. \t26\n",
      "\t(7) Whole Non-Uniform Mutation........ \t25\n",
      "\t(8) Heuristic Crossover............... \t26\n",
      "\t(9) Local-Minimum Crossover........... \t0\n",
      "\n",
      "SOFT Maximum Number of Generations: 10\n",
      "Maximum Nonchanging Generations: 25\n",
      "Population size       : 200\n",
      "Convergence Tolerance: 1.000000e-03\n",
      "\n",
      "Not Using the BFGS Derivative Based Optimizer on the Best Individual Each Generation.\n",
      "Not Checking Gradients before Stopping.\n",
      "Using Out of Bounds Individuals.\n",
      "\n",
      "Maximization Problem.\n",
      "GENERATION: 0 (initializing the population)\n",
      "Lexical Fit..... 1.000000e+00  1.000000e+00  \n",
      "#unique......... 200, #Total UniqueCount: 200\n",
      "var 1:\n",
      "best............ 1.000000e+00\n",
      "mean............ 4.982939e+02\n",
      "variance........ 7.980754e+04\n",
      "\n",
      "GENERATION: 1\n",
      "Lexical Fit..... 1.000000e+00  1.000000e+00  \n",
      "#unique......... 121, #Total UniqueCount: 321\n",
      "var 1:\n",
      "best............ 1.000000e+00\n",
      "mean............ 3.219183e+02\n",
      "variance........ 9.431875e+04\n",
      "\n",
      "GENERATION: 2\n",
      "Lexical Fit..... 1.000000e+00  1.000000e+00  \n",
      "#unique......... 120, #Total UniqueCount: 441\n",
      "var 1:\n",
      "best............ 1.000000e+00\n",
      "mean............ 2.749548e+02\n",
      "variance........ 9.122537e+04\n",
      "\n",
      "GENERATION: 3\n",
      "Lexical Fit..... 1.000000e+00  1.000000e+00  \n",
      "#unique......... 127, #Total UniqueCount: 568\n",
      "var 1:\n",
      "best............ 1.000000e+00\n",
      "mean............ 3.266349e+02\n",
      "variance........ 9.111254e+04\n",
      "\n",
      "GENERATION: 4\n",
      "Lexical Fit..... 1.000000e+00  1.000000e+00  \n",
      "#unique......... 120, #Total UniqueCount: 688\n",
      "var 1:\n",
      "best............ 1.000000e+00\n",
      "mean............ 2.972480e+02\n",
      "variance........ 8.835577e+04\n",
      "\n",
      "GENERATION: 5\n",
      "Lexical Fit..... 1.000000e+00  1.000000e+00  \n",
      "#unique......... 120, #Total UniqueCount: 808\n",
      "var 1:\n",
      "best............ 1.000000e+00\n",
      "mean............ 2.722785e+02\n",
      "variance........ 8.871157e+04\n",
      "\n",
      "GENERATION: 6\n",
      "Lexical Fit..... 1.000000e+00  1.000000e+00  \n",
      "#unique......... 123, #Total UniqueCount: 931\n",
      "var 1:\n",
      "best............ 1.000000e+00\n",
      "mean............ 2.753078e+02\n",
      "variance........ 8.327265e+04\n",
      "\n",
      "GENERATION: 7\n",
      "Lexical Fit..... 1.000000e+00  1.000000e+00  \n",
      "#unique......... 116, #Total UniqueCount: 1047\n",
      "var 1:\n",
      "best............ 1.000000e+00\n",
      "mean............ 2.827978e+02\n",
      "variance........ 8.979326e+04\n",
      "\n",
      "GENERATION: 8\n",
      "Lexical Fit..... 1.000000e+00  1.000000e+00  \n",
      "#unique......... 121, #Total UniqueCount: 1168\n",
      "var 1:\n",
      "best............ 1.000000e+00\n",
      "mean............ 3.047096e+02\n",
      "variance........ 9.580390e+04\n",
      "\n",
      "GENERATION: 9\n",
      "Lexical Fit..... 1.000000e+00  1.000000e+00  \n",
      "#unique......... 120, #Total UniqueCount: 1288\n",
      "var 1:\n",
      "best............ 1.000000e+00\n",
      "mean............ 2.500342e+02\n",
      "variance........ 8.818573e+04\n",
      "\n",
      "GENERATION: 10\n",
      "Lexical Fit..... 1.000000e+00  1.000000e+00  \n",
      "#unique......... 110, #Total UniqueCount: 1398\n",
      "var 1:\n",
      "best............ 1.000000e+00\n",
      "mean............ 2.833789e+02\n",
      "variance........ 9.283971e+04\n",
      "\n",
      "Increasing 'max.generations' limit by 25 generations to 35 because the fitness is still impoving.\n",
      "\n",
      "\n",
      "GENERATION: 11\n",
      "Lexical Fit..... 1.000000e+00  1.000000e+00  \n",
      "#unique......... 116, #Total UniqueCount: 1514\n",
      "var 1:\n",
      "best............ 1.000000e+00\n",
      "mean............ 3.269482e+02\n",
      "variance........ 8.867202e+04\n",
      "\n",
      "GENERATION: 12\n",
      "Lexical Fit..... 1.000000e+00  1.000000e+00  \n",
      "#unique......... 123, #Total UniqueCount: 1637\n",
      "var 1:\n",
      "best............ 1.000000e+00\n",
      "mean............ 2.695807e+02\n",
      "variance........ 8.435797e+04\n",
      "\n",
      "GENERATION: 13\n",
      "Lexical Fit..... 1.000000e+00  1.000000e+00  \n",
      "#unique......... 122, #Total UniqueCount: 1759\n",
      "var 1:\n",
      "best............ 1.000000e+00\n",
      "mean............ 2.974508e+02\n",
      "variance........ 9.262197e+04\n",
      "\n",
      "GENERATION: 14\n",
      "Lexical Fit..... 1.000000e+00  1.000000e+00  \n",
      "#unique......... 116, #Total UniqueCount: 1875\n",
      "var 1:\n",
      "best............ 1.000000e+00\n",
      "mean............ 2.924798e+02\n",
      "variance........ 9.311966e+04\n",
      "\n",
      "GENERATION: 15\n",
      "Lexical Fit..... 1.000000e+00  1.000000e+00  \n",
      "#unique......... 122, #Total UniqueCount: 1997\n",
      "var 1:\n",
      "best............ 1.000000e+00\n",
      "mean............ 2.936777e+02\n",
      "variance........ 9.513138e+04\n",
      "\n",
      "GENERATION: 16\n",
      "Lexical Fit..... 1.000000e+00  1.000000e+00  \n",
      "#unique......... 131, #Total UniqueCount: 2128\n",
      "var 1:\n",
      "best............ 1.000000e+00\n",
      "mean............ 3.521390e+02\n",
      "variance........ 9.362160e+04\n",
      "\n",
      "GENERATION: 17\n",
      "Lexical Fit..... 1.000000e+00  1.000000e+00  \n",
      "#unique......... 123, #Total UniqueCount: 2251\n",
      "var 1:\n",
      "best............ 1.000000e+00\n",
      "mean............ 2.958506e+02\n",
      "variance........ 8.645330e+04\n",
      "\n",
      "GENERATION: 18\n",
      "Lexical Fit..... 1.000000e+00  1.000000e+00  \n",
      "#unique......... 121, #Total UniqueCount: 2372\n",
      "var 1:\n",
      "best............ 1.000000e+00\n",
      "mean............ 3.179765e+02\n",
      "variance........ 8.877309e+04\n",
      "\n",
      "GENERATION: 19\n",
      "Lexical Fit..... 1.000000e+00  1.000000e+00  \n",
      "#unique......... 122, #Total UniqueCount: 2494\n",
      "var 1:\n",
      "best............ 1.000000e+00\n",
      "mean............ 2.897046e+02\n",
      "variance........ 8.392486e+04\n",
      "\n",
      "GENERATION: 20\n",
      "Lexical Fit..... 1.000000e+00  1.000000e+00  \n",
      "#unique......... 117, #Total UniqueCount: 2611\n",
      "var 1:\n",
      "best............ 1.000000e+00\n",
      "mean............ 2.794989e+02\n",
      "variance........ 9.270288e+04\n",
      "\n",
      "GENERATION: 21\n",
      "Lexical Fit..... 1.000000e+00  1.000000e+00  \n",
      "#unique......... 120, #Total UniqueCount: 2731\n",
      "var 1:\n",
      "best............ 1.000000e+00\n",
      "mean............ 2.802476e+02\n",
      "variance........ 9.212691e+04\n",
      "\n",
      "GENERATION: 22\n",
      "Lexical Fit..... 1.000000e+00  1.000000e+00  \n",
      "#unique......... 120, #Total UniqueCount: 2851\n",
      "var 1:\n",
      "best............ 1.000000e+00\n",
      "mean............ 2.867241e+02\n",
      "variance........ 8.608197e+04\n",
      "\n",
      "GENERATION: 23\n",
      "Lexical Fit..... 1.000000e+00  1.000000e+00  \n",
      "#unique......... 120, #Total UniqueCount: 2971\n",
      "var 1:\n",
      "best............ 1.000000e+00\n",
      "mean............ 2.585904e+02\n",
      "variance........ 8.498838e+04\n",
      "\n",
      "GENERATION: 24\n",
      "Lexical Fit..... 1.000000e+00  1.000000e+00  \n",
      "#unique......... 124, #Total UniqueCount: 3095\n",
      "var 1:\n",
      "best............ 1.000000e+00\n",
      "mean............ 2.387407e+02\n",
      "variance........ 7.957754e+04\n",
      "\n",
      "GENERATION: 25\n",
      "Lexical Fit..... 1.000000e+00  1.000000e+00  \n",
      "#unique......... 119, #Total UniqueCount: 3214\n",
      "var 1:\n",
      "best............ 1.000000e+00\n",
      "mean............ 2.958160e+02\n",
      "variance........ 8.779555e+04\n",
      "\n",
      "GENERATION: 26\n",
      "Lexical Fit..... 1.000000e+00  1.000000e+00  \n",
      "#unique......... 119, #Total UniqueCount: 3333\n",
      "var 1:\n",
      "best............ 1.000000e+00\n",
      "mean............ 2.693498e+02\n",
      "variance........ 8.410329e+04\n",
      "\n",
      "'wait.generations' limit reached.\n",
      "No significant improvement in 25 generations.\n",
      "\n",
      "Solution Lexical Fitness Value:\n",
      "1.000000e+00  1.000000e+00  \n",
      "\n",
      "Parameters at the Solution:\n",
      "\n",
      " X[ 1] :\t1.000000e+00\n",
      "\n",
      "Solution Found Generation 1\n",
      "Number of Generations Run 26\n",
      "\n",
      "Mon Dec 16 11:10:55 2019\n",
      "Total run time : 0 hours 0 minutes and 2 seconds\n"
     ]
    },
    {
     "data": {
      "text/html": [
       "<ol class=list-inline>\n",
       "\t<li>1</li>\n",
       "\t<li>5</li>\n",
       "</ol>\n"
      ],
      "text/latex": [
       "\\begin{enumerate*}\n",
       "\\item 1\n",
       "\\item 5\n",
       "\\end{enumerate*}\n"
      ],
      "text/markdown": [
       "1. 1\n",
       "2. 5\n",
       "\n",
       "\n"
      ],
      "text/plain": [
       "[1] 1 5"
      ]
     },
     "execution_count": 3,
     "metadata": {
     },
     "output_type": "execute_result"
    },
    {
     "data": {
      "text/html": [
       "<ol class=list-inline>\n",
       "\t<li>2</li>\n",
       "\t<li>4</li>\n",
       "</ol>\n"
      ],
      "text/latex": [
       "\\begin{enumerate*}\n",
       "\\item 2\n",
       "\\item 4\n",
       "\\end{enumerate*}\n"
      ],
      "text/markdown": [
       "1. 2\n",
       "2. 4\n",
       "\n",
       "\n"
      ],
      "text/plain": [
       "[1] 2 4"
      ]
     },
     "execution_count": 3,
     "metadata": {
     },
     "output_type": "execute_result"
    },
    {
     "name": "stdout",
     "output_type": "stream",
     "text": [
      "\n",
      "***** (V1) food_kilos *****\n",
      "                       Before Matching \t \t After Matching\n",
      "mean treatment........        225 \t \t        225 \n",
      "mean control..........        225 \t \t        225 \n",
      "std mean diff.........          0 \t \t          0 \n",
      "\n",
      "mean raw eQQ diff.....         20 \t \t         20 \n",
      "med  raw eQQ diff.....         20 \t \t         20 \n",
      "max  raw eQQ diff.....         20 \t \t         20 \n",
      "\n",
      "mean eCDF diff........        0.2 \t \t       0.25 \n",
      "med  eCDF diff........    0.16667 \t \t       0.25 \n",
      "max  eCDF diff........    0.33333 \t \t        0.5 \n",
      "\n",
      "var ratio (Tr/Co).....    0.61728 \t \t    0.30864 \n",
      "T-test p-value........          1 \t \t          1 \n",
      "KS Bootstrap p-value..      0.924 \t \t      0.888 \n",
      "KS Naive p-value......          1 \t \t          1 \n",
      "KS Statistic..........    0.33333 \t \t        0.5 \n",
      "\n"
     ]
    },
    {
     "data": {
      "text/html": [
       "0.924"
      ],
      "text/latex": [
       "0.924"
      ],
      "text/markdown": [
       "0.924"
      ],
      "text/plain": [
       "[1] 0.924"
      ]
     },
     "execution_count": 3,
     "metadata": {
     },
     "output_type": "execute_result"
    },
    {
     "data": {
      "text/html": [
       "0.888"
      ],
      "text/latex": [
       "0.888"
      ],
      "text/markdown": [
       "0.888"
      ],
      "text/plain": [
       "[1] 0.888"
      ]
     },
     "execution_count": 3,
     "metadata": {
     },
     "output_type": "execute_result"
    }
   ],
   "source": [
    "# M = 1 matching\n",
    "genout_m1<- GenMatch(X = food_kilos, Tr = tr, M=1,  pop.size=200, max.generations=10, wait.generations=25, ties = FALSE) # genetic matching \n",
    "# to find weights for covariates\n",
    "matchout_m1 <- Match(X = food_kilos, Tr = tr, M=1, Weight.matrix=genout_m1, ties = FALSE) # using derived from GenMatch function \n",
    "# covariates' weights to match the treated & controls\n",
    "matchout_m1$index.control # deriving the control unit indeces for control units\n",
    "matchout_m1$index.treated # and for treated units \n",
    "\n",
    "mb.out_m1 <- MatchBalance(tr~food_kilos, match.out = matchout_m1)  # measuring the balance before and after matching\n",
    "mb.out_m1$BMsmallest.p.value # smallest p-value before matching (NO matching) \n",
    "mb.out_m1$AMsmallest.p.value # and after matching "
   ]
  },
  {
   "cell_type": "code",
   "execution_count": 4,
   "metadata": {
    "collapsed": false
   },
   "outputs": [
    {
     "name": "stdout",
     "output_type": "stream",
     "text": [
      "\n",
      "\n",
      "Mon Dec 16 11:10:58 2019\n",
      "Domains:\n",
      " 0.000000e+00   <=  X1   <=    1.000000e+03 \n",
      "\n",
      "Data Type: Floating Point\n",
      "Operators (code number, name, population) \n",
      "\t(1) Cloning........................... \t22\n",
      "\t(2) Uniform Mutation.................. \t25\n",
      "\t(3) Boundary Mutation................. \t25\n",
      "\t(4) Non-Uniform Mutation.............. \t25\n",
      "\t(5) Polytope Crossover................ \t25\n",
      "\t(6) Simple Crossover.................. \t26\n",
      "\t(7) Whole Non-Uniform Mutation........ \t25\n",
      "\t(8) Heuristic Crossover............... \t26\n",
      "\t(9) Local-Minimum Crossover........... \t0\n",
      "\n",
      "SOFT Maximum Number of Generations: 10\n",
      "Maximum Nonchanging Generations: 25\n",
      "Population size       : 200\n",
      "Convergence Tolerance: 1.000000e-03\n",
      "\n",
      "Not Using the BFGS Derivative Based Optimizer on the Best Individual Each Generation.\n",
      "Not Checking Gradients before Stopping.\n",
      "Using Out of Bounds Individuals.\n",
      "\n",
      "Maximization Problem.\n",
      "GENERATION: 0 (initializing the population)\n",
      "Lexical Fit..... 9.996333e-01  1.000000e+00  \n",
      "#unique......... 200, #Total UniqueCount: 200\n",
      "var 1:\n",
      "best............ 1.000000e+00\n",
      "mean............ 4.999455e+02\n",
      "variance........ 8.690194e+04\n",
      "\n",
      "GENERATION: 1\n",
      "Lexical Fit..... 9.996333e-01  1.000000e+00  \n",
      "#unique......... 123, #Total UniqueCount: 323\n",
      "var 1:\n",
      "best............ 1.000000e+00\n",
      "mean............ 3.899841e+02\n",
      "variance........ 1.037218e+05\n",
      "\n",
      "GENERATION: 2\n",
      "Lexical Fit..... 9.996333e-01  1.000000e+00  \n",
      "#unique......... 123, #Total UniqueCount: 446\n",
      "var 1:\n",
      "best............ 1.000000e+00\n",
      "mean............ 3.712187e+02\n",
      "variance........ 1.047350e+05\n",
      "\n",
      "GENERATION: 3\n",
      "Lexical Fit..... 9.996333e-01  1.000000e+00  \n",
      "#unique......... 110, #Total UniqueCount: 556\n",
      "var 1:\n",
      "best............ 1.000000e+00\n",
      "mean............ 3.935630e+02\n",
      "variance........ 1.091972e+05\n",
      "\n",
      "GENERATION: 4\n",
      "Lexical Fit..... 9.996333e-01  1.000000e+00  \n",
      "#unique......... 122, #Total UniqueCount: 678\n",
      "var 1:\n",
      "best............ 1.000000e+00\n",
      "mean............ 3.506780e+02\n",
      "variance........ 1.116591e+05\n",
      "\n",
      "GENERATION: 5\n",
      "Lexical Fit..... 9.996333e-01  1.000000e+00  \n",
      "#unique......... 115, #Total UniqueCount: 793\n",
      "var 1:\n",
      "best............ 1.000000e+00\n",
      "mean............ 3.814462e+02\n",
      "variance........ 1.114753e+05\n",
      "\n",
      "GENERATION: 6\n",
      "Lexical Fit..... 9.996333e-01  1.000000e+00  \n",
      "#unique......... 120, #Total UniqueCount: 913\n",
      "var 1:\n",
      "best............ 1.000000e+00\n",
      "mean............ 3.880636e+02\n",
      "variance........ 1.136384e+05\n",
      "\n",
      "GENERATION: 7\n",
      "Lexical Fit..... 9.996333e-01  1.000000e+00  \n",
      "#unique......... 120, #Total UniqueCount: 1033\n",
      "var 1:\n",
      "best............ 1.000000e+00\n",
      "mean............ 3.601640e+02\n",
      "variance........ 1.078663e+05\n",
      "\n",
      "GENERATION: 8\n",
      "Lexical Fit..... 9.996333e-01  1.000000e+00  \n",
      "#unique......... 118, #Total UniqueCount: 1151\n",
      "var 1:\n",
      "best............ 1.000000e+00\n",
      "mean............ 3.394284e+02\n",
      "variance........ 1.043318e+05\n",
      "\n",
      "GENERATION: 9\n",
      "Lexical Fit..... 9.996333e-01  1.000000e+00  \n",
      "#unique......... 119, #Total UniqueCount: 1270\n",
      "var 1:\n",
      "best............ 1.000000e+00\n",
      "mean............ 3.626751e+02\n",
      "variance........ 1.065906e+05\n",
      "\n",
      "GENERATION: 10\n",
      "Lexical Fit..... 9.996333e-01  1.000000e+00  \n",
      "#unique......... 114, #Total UniqueCount: 1384\n",
      "var 1:\n",
      "best............ 1.000000e+00\n",
      "mean............ 3.786260e+02\n",
      "variance........ 1.142446e+05\n",
      "\n",
      "Increasing 'max.generations' limit by 25 generations to 35 because the fitness is still impoving.\n",
      "\n",
      "\n",
      "GENERATION: 11\n",
      "Lexical Fit..... 9.996333e-01  1.000000e+00  \n",
      "#unique......... 122, #Total UniqueCount: 1506\n",
      "var 1:\n",
      "best............ 1.000000e+00\n",
      "mean............ 3.472812e+02\n",
      "variance........ 1.043378e+05\n",
      "\n",
      "GENERATION: 12\n",
      "Lexical Fit..... 9.996333e-01  1.000000e+00  \n",
      "#unique......... 122, #Total UniqueCount: 1628\n",
      "var 1:\n",
      "best............ 1.000000e+00\n",
      "mean............ 3.839133e+02\n",
      "variance........ 1.039379e+05\n",
      "\n",
      "GENERATION: 13\n",
      "Lexical Fit..... 9.996333e-01  1.000000e+00  \n",
      "#unique......... 118, #Total UniqueCount: 1746\n",
      "var 1:\n",
      "best............ 1.000000e+00\n",
      "mean............ 3.620154e+02\n",
      "variance........ 1.217664e+05\n",
      "\n",
      "GENERATION: 14\n",
      "Lexical Fit..... 9.996333e-01  1.000000e+00  \n",
      "#unique......... 112, #Total UniqueCount: 1858\n",
      "var 1:\n",
      "best............ 1.000000e+00\n",
      "mean............ 3.250848e+02\n",
      "variance........ 9.597771e+04\n",
      "\n",
      "GENERATION: 15\n",
      "Lexical Fit..... 9.996333e-01  1.000000e+00  \n",
      "#unique......... 126, #Total UniqueCount: 1984\n",
      "var 1:\n",
      "best............ 1.000000e+00\n",
      "mean............ 3.675915e+02\n",
      "variance........ 1.144467e+05\n",
      "\n",
      "GENERATION: 16\n",
      "Lexical Fit..... 9.996333e-01  1.000000e+00  \n",
      "#unique......... 115, #Total UniqueCount: 2099\n",
      "var 1:\n",
      "best............ 1.000000e+00\n",
      "mean............ 3.946833e+02\n",
      "variance........ 1.078457e+05\n",
      "\n",
      "GENERATION: 17\n",
      "Lexical Fit..... 9.996333e-01  1.000000e+00  \n",
      "#unique......... 111, #Total UniqueCount: 2210\n",
      "var 1:\n",
      "best............ 1.000000e+00\n",
      "mean............ 3.103894e+02\n",
      "variance........ 1.077140e+05\n",
      "\n",
      "GENERATION: 18\n",
      "Lexical Fit..... 9.996333e-01  1.000000e+00  \n",
      "#unique......... 122, #Total UniqueCount: 2332\n",
      "var 1:\n",
      "best............ 1.000000e+00\n",
      "mean............ 3.462859e+02\n",
      "variance........ 1.081422e+05\n",
      "\n",
      "GENERATION: 19\n",
      "Lexical Fit..... 9.996333e-01  1.000000e+00  \n",
      "#unique......... 117, #Total UniqueCount: 2449\n",
      "var 1:\n",
      "best............ 1.000000e+00\n",
      "mean............ 4.022984e+02\n",
      "variance........ 1.153291e+05\n",
      "\n",
      "GENERATION: 20\n",
      "Lexical Fit..... 9.996333e-01  1.000000e+00  \n",
      "#unique......... 118, #Total UniqueCount: 2567\n",
      "var 1:\n",
      "best............ 1.000000e+00\n",
      "mean............ 4.073342e+02\n",
      "variance........ 1.165242e+05\n",
      "\n",
      "GENERATION: 21\n",
      "Lexical Fit..... 9.996333e-01  1.000000e+00  \n",
      "#unique......... 126, #Total UniqueCount: 2693\n",
      "var 1:\n",
      "best............ 1.000000e+00\n",
      "mean............ 3.573681e+02\n",
      "variance........ 1.109593e+05\n",
      "\n",
      "GENERATION: 22\n",
      "Lexical Fit..... 9.996333e-01  1.000000e+00  \n",
      "#unique......... 115, #Total UniqueCount: 2808\n",
      "var 1:\n",
      "best............ 1.000000e+00\n",
      "mean............ 3.490321e+02\n",
      "variance........ 9.893808e+04\n",
      "\n",
      "GENERATION: 23\n",
      "Lexical Fit..... 9.996333e-01  1.000000e+00  \n",
      "#unique......... 121, #Total UniqueCount: 2929\n",
      "var 1:\n",
      "best............ 1.000000e+00\n",
      "mean............ 3.650305e+02\n",
      "variance........ 1.140544e+05\n",
      "\n",
      "GENERATION: 24\n",
      "Lexical Fit..... 9.996333e-01  1.000000e+00  \n",
      "#unique......... 119, #Total UniqueCount: 3048\n",
      "var 1:\n",
      "best............ 1.000000e+00\n",
      "mean............ 3.550843e+02\n",
      "variance........ 1.100812e+05\n",
      "\n",
      "GENERATION: 25\n",
      "Lexical Fit..... 9.996333e-01  1.000000e+00  \n",
      "#unique......... 114, #Total UniqueCount: 3162\n",
      "var 1:\n",
      "best............ 1.000000e+00\n",
      "mean............ 4.107463e+02\n",
      "variance........ 1.170035e+05\n",
      "\n",
      "GENERATION: 26\n",
      "Lexical Fit..... 9.996333e-01  1.000000e+00  \n",
      "#unique......... 122, #Total UniqueCount: 3284\n",
      "var 1:\n",
      "best............ 1.000000e+00\n",
      "mean............ 3.488003e+02\n",
      "variance........ 1.066185e+05\n",
      "\n",
      "'wait.generations' limit reached.\n",
      "No significant improvement in 25 generations.\n",
      "\n",
      "Solution Lexical Fitness Value:\n",
      "9.996333e-01  1.000000e+00  \n",
      "\n",
      "Parameters at the Solution:\n",
      "\n",
      " X[ 1] :\t1.000000e+00\n",
      "\n",
      "Solution Found Generation 1\n",
      "Number of Generations Run 26\n",
      "\n",
      "Mon Dec 16 11:11:01 2019\n",
      "Total run time : 0 hours 0 minutes and 3 seconds\n"
     ]
    },
    {
     "data": {
      "text/html": [
       "<ol class=list-inline>\n",
       "\t<li>1</li>\n",
       "\t<li>3</li>\n",
       "\t<li>3</li>\n",
       "\t<li>5</li>\n",
       "</ol>\n"
      ],
      "text/latex": [
       "\\begin{enumerate*}\n",
       "\\item 1\n",
       "\\item 3\n",
       "\\item 3\n",
       "\\item 5\n",
       "\\end{enumerate*}\n"
      ],
      "text/markdown": [
       "1. 1\n",
       "2. 3\n",
       "3. 3\n",
       "4. 5\n",
       "\n",
       "\n"
      ],
      "text/plain": [
       "[1] 1 3 3 5"
      ]
     },
     "execution_count": 4,
     "metadata": {
     },
     "output_type": "execute_result"
    },
    {
     "data": {
      "text/html": [
       "<ol class=list-inline>\n",
       "\t<li>2</li>\n",
       "\t<li>2</li>\n",
       "\t<li>4</li>\n",
       "\t<li>4</li>\n",
       "</ol>\n"
      ],
      "text/latex": [
       "\\begin{enumerate*}\n",
       "\\item 2\n",
       "\\item 2\n",
       "\\item 4\n",
       "\\item 4\n",
       "\\end{enumerate*}\n"
      ],
      "text/markdown": [
       "1. 2\n",
       "2. 2\n",
       "3. 4\n",
       "4. 4\n",
       "\n",
       "\n"
      ],
      "text/plain": [
       "[1] 2 2 4 4"
      ]
     },
     "execution_count": 4,
     "metadata": {
     },
     "output_type": "execute_result"
    },
    {
     "name": "stdout",
     "output_type": "stream",
     "text": [
      "\n",
      "***** (V1) food_kilos *****\n",
      "                       Before Matching \t \t After Matching\n",
      "mean treatment........        225 \t \t        225 \n",
      "mean control..........        225 \t \t        225 \n",
      "std mean diff.........          0 \t \t          0 \n",
      "\n",
      "mean raw eQQ diff.....         20 \t \t       22.5 \n",
      "med  raw eQQ diff.....         20 \t \t       22.5 \n",
      "max  raw eQQ diff.....         20 \t \t         25 \n",
      "\n",
      "mean eCDF diff........        0.2 \t \t        0.2 \n",
      "med  eCDF diff........    0.16667 \t \t       0.25 \n",
      "max  eCDF diff........    0.33333 \t \t       0.25 \n",
      "\n",
      "var ratio (Tr/Co).....    0.61728 \t \t    0.61728 \n",
      "T-test p-value........          1 \t \t          1 \n",
      "KS Bootstrap p-value..      0.906 \t \t      0.982 \n",
      "KS Naive p-value......          1 \t \t    0.99963 \n",
      "KS Statistic..........    0.33333 \t \t       0.25 \n",
      "\n"
     ]
    },
    {
     "data": {
      "text/html": [
       "0.906"
      ],
      "text/latex": [
       "0.906"
      ],
      "text/markdown": [
       "0.906"
      ],
      "text/plain": [
       "[1] 0.906"
      ]
     },
     "execution_count": 4,
     "metadata": {
     },
     "output_type": "execute_result"
    },
    {
     "data": {
      "text/html": [
       "0.982"
      ],
      "text/latex": [
       "0.982"
      ],
      "text/markdown": [
       "0.982"
      ],
      "text/plain": [
       "[1] 0.982"
      ]
     },
     "execution_count": 4,
     "metadata": {
     },
     "output_type": "execute_result"
    }
   ],
   "source": [
    "# M = 2 matching\n",
    "genout_m2<- GenMatch(X = food_kilos, Tr = tr, M=2,  pop.size=200, max.generations=10, wait.generations=25)\n",
    "\n",
    "matchout_m2 <- Match(X = food_kilos, Tr = tr, M=2, Weight.matrix=genout_m2)\n",
    "matchout_m2$index.control\n",
    "matchout_m2$index.treated\n",
    "\n",
    "mb.out_m2 <- MatchBalance(tr~food_kilos, match.out = matchout_m2)\n",
    "mb.out_m2$BMsmallest.p.value\n",
    "mb.out_m2$AMsmallest.p.value"
   ]
  },
  {
   "cell_type": "markdown",
   "metadata": {
    "collapsed": false
   },
   "source": [
    "#### What's going on? 1:2 is better than no matching and better than 1:1 [1:1 < NO < 1:2 == 0.88 < 0.92 < 0.97]"
   ]
  },
  {
   "cell_type": "code",
   "execution_count": 12,
   "metadata": {
    "collapsed": false
   },
   "outputs": [
    {
     "data": {
      "image/png": "[encoded data removed]",
      "text/plain": [
       "plot without title"
      ]
     },
     "execution_count": 12,
     "metadata": {
     },
     "output_type": "execute_result"
    }
   ],
   "source": [
    "# plotting graphs displaying the 'raw' data. Filled dot - treated unit, empty dot - control unit\n",
    "# NOTE: find the functions definitions in the Appendix\n",
    "plot_data(food_kilos, tr, m_num = 1) "
   ]
  },
  {
   "cell_type": "code",
   "execution_count": 13,
   "metadata": {
    "collapsed": false
   },
   "outputs": [
    {
     "data": {
      "image/png": "[encoded data removed]",
      "text/plain": [
       "plot without title"
      ]
     },
     "execution_count": 13,
     "metadata": {
     },
     "output_type": "execute_result"
    }
   ],
   "source": [
    "# plotting a graph with treated and 'synthetic' controls, when M = 1\n",
    "synth_cont <- add_m_control(matchout_m1, data, m_num =1)\n",
    "plot_data(food_kilos, tr, synth_cont, m_num = 1)"
   ]
  },
  {
   "cell_type": "code",
   "execution_count": 14,
   "metadata": {
    "collapsed": false
   },
   "outputs": [
    {
     "data": {
      "image/png": "[encoded data removed]",
      "text/plain": [
       "plot without title"
      ]
     },
     "execution_count": 14,
     "metadata": {
     },
     "output_type": "execute_result"
    }
   ],
   "source": [
    "# plotting a graph with treated and 'synthetic' controls, when M = 2\n",
    "synth_cont <- add_m_control(matchout_m2, data, m_num =2)\n",
    "plot_data(food_kilos, tr, synth_cont, m_num = 2)\n"
   ]
  },
  {
   "cell_type": "markdown",
   "metadata": {
    "collapsed": false
   },
   "source": [
    "---"
   ]
  },
  {
   "cell_type": "markdown",
   "metadata": {
    "collapsed": false
   },
   "source": [
    "## Dataset 2"
   ]
  },
  {
   "cell_type": "code",
   "execution_count": 15,
   "metadata": {
    "collapsed": false
   },
   "outputs": [
   ],
   "source": [
    "food_kilos <- c(170, 200, 220, 250, 270)\n",
    "tr <- c(0,1,0, 1, 0)\n",
    "data <- cbind(food_kilos, tr)"
   ]
  },
  {
   "cell_type": "code",
   "execution_count": 16,
   "metadata": {
    "collapsed": false
   },
   "outputs": [
    {
     "name": "stdout",
     "output_type": "stream",
     "text": [
      "\n",
      "\n",
      "Mon Dec 16 11:15:12 2019\n",
      "Domains:\n",
      " 0.000000e+00   <=  X1   <=    1.000000e+03 \n",
      "\n",
      "Data Type: Floating Point\n",
      "Operators (code number, name, population) \n",
      "\t(1) Cloning........................... \t22\n",
      "\t(2) Uniform Mutation.................. \t25\n",
      "\t(3) Boundary Mutation................. \t25\n",
      "\t(4) Non-Uniform Mutation.............. \t25\n",
      "\t(5) Polytope Crossover................ \t25\n",
      "\t(6) Simple Crossover.................. \t26\n",
      "\t(7) Whole Non-Uniform Mutation........ \t25\n",
      "\t(8) Heuristic Crossover............... \t26\n",
      "\t(9) Local-Minimum Crossover........... \t0\n",
      "\n",
      "SOFT Maximum Number of Generations: 10\n",
      "Maximum Nonchanging Generations: 25\n",
      "Population size       : 200\n",
      "Convergence Tolerance: 1.000000e-03\n",
      "\n",
      "Not Using the BFGS Derivative Based Optimizer on the Best Individual Each Generation.\n",
      "Not Checking Gradients before Stopping.\n",
      "Using Out of Bounds Individuals.\n",
      "\n",
      "Maximization Problem.\n",
      "GENERATION: 0 (initializing the population)\n",
      "Lexical Fit..... 0.000000e+00  1.000000e+00  \n",
      "#unique......... 200, #Total UniqueCount: 200\n",
      "var 1:\n",
      "best............ 1.000000e+00\n",
      "mean............ 5.038781e+02\n",
      "variance........ 9.236672e+04\n",
      "\n",
      "GENERATION: 1\n",
      "Lexical Fit..... 0.000000e+00  1.000000e+00  \n",
      "#unique......... 124, #Total UniqueCount: 324\n",
      "var 1:\n",
      "best............ 1.000000e+00\n",
      "mean............ 2.544203e+02\n",
      "variance........ 9.458310e+04\n",
      "\n",
      "GENERATION: 2\n",
      "Lexical Fit..... 0.000000e+00  1.000000e+00  \n",
      "#unique......... 127, #Total UniqueCount: 451\n",
      "var 1:\n",
      "best............ 1.000000e+00\n",
      "mean............ 2.451650e+02\n",
      "variance........ 9.570472e+04\n",
      "\n",
      "GENERATION: 3\n",
      "Lexical Fit..... 0.000000e+00  1.000000e+00  \n",
      "#unique......... 128, #Total UniqueCount: 579\n",
      "var 1:\n",
      "best............ 1.000000e+00\n",
      "mean............ 2.533640e+02\n",
      "variance........ 9.107603e+04\n",
      "\n",
      "GENERATION: 4\n",
      "Lexical Fit..... 0.000000e+00  1.000000e+00  \n",
      "#unique......... 122, #Total UniqueCount: 701\n",
      "var 1:\n",
      "best............ 1.000000e+00\n",
      "mean............ 2.199275e+02\n",
      "variance........ 8.560566e+04\n",
      "\n",
      "GENERATION: 5\n",
      "Lexical Fit..... 0.000000e+00  1.000000e+00  \n",
      "#unique......... 120, #Total UniqueCount: 821\n",
      "var 1:\n",
      "best............ 1.000000e+00\n",
      "mean............ 2.479743e+02\n",
      "variance........ 9.547464e+04\n",
      "\n",
      "GENERATION: 6\n",
      "Lexical Fit..... 0.000000e+00  1.000000e+00  \n",
      "#unique......... 116, #Total UniqueCount: 937\n",
      "var 1:\n",
      "best............ 1.000000e+00\n",
      "mean............ 2.599431e+02\n",
      "variance........ 1.128506e+05\n",
      "\n",
      "GENERATION: 7\n",
      "Lexical Fit..... 0.000000e+00  1.000000e+00  \n",
      "#unique......... 116, #Total UniqueCount: 1053\n",
      "var 1:\n",
      "best............ 1.000000e+00\n",
      "mean............ 2.299264e+02\n",
      "variance........ 8.856794e+04\n",
      "\n",
      "GENERATION: 8\n",
      "Lexical Fit..... 0.000000e+00  1.000000e+00  \n",
      "#unique......... 118, #Total UniqueCount: 1171\n",
      "var 1:\n",
      "best............ 1.000000e+00\n",
      "mean............ 2.430157e+02\n",
      "variance........ 9.483778e+04\n",
      "\n",
      "GENERATION: 9\n",
      "Lexical Fit..... 0.000000e+00  1.000000e+00  \n",
      "#unique......... 115, #Total UniqueCount: 1286\n",
      "var 1:\n",
      "best............ 1.000000e+00\n",
      "mean............ 2.874472e+02\n",
      "variance........ 1.124406e+05\n",
      "\n",
      "GENERATION: 10\n",
      "Lexical Fit..... 0.000000e+00  1.000000e+00  \n",
      "#unique......... 127, #Total UniqueCount: 1413\n",
      "var 1:\n",
      "best............ 1.000000e+00\n",
      "mean............ 2.550448e+02\n",
      "variance........ 9.578215e+04\n",
      "\n",
      "Increasing 'max.generations' limit by 25 generations to 35 because the fitness is still impoving.\n",
      "\n",
      "\n",
      "GENERATION: 11\n",
      "Lexical Fit..... 0.000000e+00  1.000000e+00  \n",
      "#unique......... 119, #Total UniqueCount: 1532\n",
      "var 1:\n",
      "best............ 1.000000e+00\n",
      "mean............ 2.612215e+02\n",
      "variance........ 9.423080e+04\n",
      "\n",
      "GENERATION: 12\n",
      "Lexical Fit..... 0.000000e+00  1.000000e+00  \n",
      "#unique......... 123, #Total UniqueCount: 1655\n",
      "var 1:\n",
      "best............ 1.000000e+00\n",
      "mean............ 2.566248e+02\n",
      "variance........ 9.923122e+04\n",
      "\n",
      "GENERATION: 13\n",
      "Lexical Fit..... 0.000000e+00  1.000000e+00  \n",
      "#unique......... 127, #Total UniqueCount: 1782\n",
      "var 1:\n",
      "best............ 1.000000e+00\n",
      "mean............ 2.430538e+02\n",
      "variance........ 9.573853e+04\n",
      "\n",
      "GENERATION: 14\n",
      "Lexical Fit..... 0.000000e+00  1.000000e+00  \n",
      "#unique......... 119, #Total UniqueCount: 1901\n",
      "var 1:\n",
      "best............ 1.000000e+00\n",
      "mean............ 2.273775e+02\n",
      "variance........ 9.271036e+04\n",
      "\n",
      "GENERATION: 15\n",
      "Lexical Fit..... 0.000000e+00  1.000000e+00  \n",
      "#unique......... 130, #Total UniqueCount: 2031\n",
      "var 1:\n",
      "best............ 1.000000e+00\n",
      "mean............ 2.548997e+02\n",
      "variance........ 9.475625e+04\n",
      "\n",
      "GENERATION: 16\n",
      "Lexical Fit..... 0.000000e+00  1.000000e+00  \n",
      "#unique......... 125, #Total UniqueCount: 2156\n",
      "var 1:\n",
      "best............ 1.000000e+00\n",
      "mean............ 2.368723e+02\n",
      "variance........ 9.378842e+04\n",
      "\n",
      "GENERATION: 17\n",
      "Lexical Fit..... 0.000000e+00  1.000000e+00  \n",
      "#unique......... 123, #Total UniqueCount: 2279\n",
      "var 1:\n",
      "best............ 1.000000e+00\n",
      "mean............ 2.390625e+02\n",
      "variance........ 9.478615e+04\n",
      "\n",
      "GENERATION: 18\n",
      "Lexical Fit..... 0.000000e+00  1.000000e+00  \n",
      "#unique......... 122, #Total UniqueCount: 2401\n",
      "var 1:\n",
      "best............ 1.000000e+00\n",
      "mean............ 2.380841e+02\n",
      "variance........ 9.243340e+04\n",
      "\n",
      "GENERATION: 19\n",
      "Lexical Fit..... 0.000000e+00  1.000000e+00  \n",
      "#unique......... 121, #Total UniqueCount: 2522\n",
      "var 1:\n",
      "best............ 1.000000e+00\n",
      "mean............ 2.495493e+02\n",
      "variance........ 9.763666e+04\n",
      "\n",
      "GENERATION: 20\n",
      "Lexical Fit..... 0.000000e+00  1.000000e+00  \n",
      "#unique......... 127, #Total UniqueCount: 2649\n",
      "var 1:\n",
      "best............ 1.000000e+00\n",
      "mean............ 2.877393e+02\n",
      "variance........ 1.121168e+05\n",
      "\n",
      "GENERATION: 21\n",
      "Lexical Fit..... 0.000000e+00  1.000000e+00  \n",
      "#unique......... 116, #Total UniqueCount: 2765\n",
      "var 1:\n",
      "best............ 1.000000e+00\n",
      "mean............ 2.525813e+02\n",
      "variance........ 1.016743e+05\n",
      "\n",
      "GENERATION: 22\n",
      "Lexical Fit..... 0.000000e+00  1.000000e+00  \n",
      "#unique......... 123, #Total UniqueCount: 2888\n",
      "var 1:\n",
      "best............ 1.000000e+00\n",
      "mean............ 2.237853e+02\n",
      "variance........ 7.966825e+04\n",
      "\n",
      "GENERATION: 23\n",
      "Lexical Fit..... 0.000000e+00  1.000000e+00  \n",
      "#unique......... 124, #Total UniqueCount: 3012\n",
      "var 1:\n",
      "best............ 1.000000e+00\n",
      "mean............ 2.117756e+02\n",
      "variance........ 8.409086e+04\n",
      "\n",
      "GENERATION: 24\n",
      "Lexical Fit..... 0.000000e+00  1.000000e+00  \n",
      "#unique......... 115, #Total UniqueCount: 3127\n",
      "var 1:\n",
      "best............ 1.000000e+00\n",
      "mean............ 2.483449e+02\n",
      "variance........ 1.001292e+05\n",
      "\n",
      "GENERATION: 25\n",
      "Lexical Fit..... 0.000000e+00  1.000000e+00  \n",
      "#unique......... 121, #Total UniqueCount: 3248\n",
      "var 1:\n",
      "best............ 1.000000e+00\n",
      "mean............ 2.329240e+02\n",
      "variance........ 8.992467e+04\n",
      "\n",
      "GENERATION: 26\n",
      "Lexical Fit..... 0.000000e+00  1.000000e+00  \n",
      "#unique......... 121, #Total UniqueCount: 3369\n",
      "var 1:\n",
      "best............ 1.000000e+00\n",
      "mean............ 2.520979e+02\n",
      "variance........ 9.829041e+04\n",
      "\n",
      "'wait.generations' limit reached.\n",
      "No significant improvement in 25 generations.\n",
      "\n",
      "Solution Lexical Fitness Value:\n",
      "0.000000e+00  1.000000e+00  \n",
      "\n",
      "Parameters at the Solution:\n",
      "\n",
      " X[ 1] :\t1.000000e+00\n",
      "\n",
      "Solution Found Generation 1\n",
      "Number of Generations Run 26\n",
      "\n",
      "Mon Dec 16 11:15:13 2019\n",
      "Total run time : 0 hours 0 minutes and 1 seconds\n"
     ]
    },
    {
     "data": {
      "text/html": [
       "<ol class=list-inline>\n",
       "\t<li>3</li>\n",
       "\t<li>5</li>\n",
       "</ol>\n"
      ],
      "text/latex": [
       "\\begin{enumerate*}\n",
       "\\item 3\n",
       "\\item 5\n",
       "\\end{enumerate*}\n"
      ],
      "text/markdown": [
       "1. 3\n",
       "2. 5\n",
       "\n",
       "\n"
      ],
      "text/plain": [
       "[1] 3 5"
      ]
     },
     "execution_count": 16,
     "metadata": {
     },
     "output_type": "execute_result"
    },
    {
     "data": {
      "text/html": [
       "<ol class=list-inline>\n",
       "\t<li>2</li>\n",
       "\t<li>4</li>\n",
       "</ol>\n"
      ],
      "text/latex": [
       "\\begin{enumerate*}\n",
       "\\item 2\n",
       "\\item 4\n",
       "\\end{enumerate*}\n"
      ],
      "text/markdown": [
       "1. 2\n",
       "2. 4\n",
       "\n",
       "\n"
      ],
      "text/plain": [
       "[1] 2 4"
      ]
     },
     "execution_count": 16,
     "metadata": {
     },
     "output_type": "execute_result"
    },
    {
     "name": "stdout",
     "output_type": "stream",
     "text": [
      "\n",
      "***** (V1) food_kilos *****\n",
      "                       Before Matching \t \t After Matching\n",
      "mean treatment........        225 \t \t        225 \n",
      "mean control..........        220 \t \t        245 \n",
      "std mean diff.........     14.142 \t \t    -56.569 \n",
      "\n",
      "mean raw eQQ diff.....         25 \t \t         20 \n",
      "med  raw eQQ diff.....         25 \t \t         20 \n",
      "max  raw eQQ diff.....         30 \t \t         20 \n",
      "\n",
      "mean eCDF diff........        0.2 \t \t       0.25 \n",
      "med  eCDF diff........    0.16667 \t \t       0.25 \n",
      "max  eCDF diff........    0.33333 \t \t        0.5 \n",
      "\n",
      "var ratio (Tr/Co).....        0.5 \t \t          1 \n",
      "T-test p-value........    0.90443 \t \t < 2.22e-16 \n",
      "KS Bootstrap p-value..      0.912 \t \t      0.904 \n",
      "KS Naive p-value......          1 \t \t          1 \n",
      "KS Statistic..........    0.33333 \t \t        0.5 \n",
      "\n"
     ]
    },
    {
     "data": {
      "text/html": [
       "0.904430455586391"
      ],
      "text/latex": [
       "0.904430455586391"
      ],
      "text/markdown": [
       "0.904430455586391"
      ],
      "text/plain": [
       "[1] 0.9044305"
      ]
     },
     "execution_count": 16,
     "metadata": {
     },
     "output_type": "execute_result"
    },
    {
     "data": {
      "text/html": [
       "0"
      ],
      "text/latex": [
       "0"
      ],
      "text/markdown": [
       "0"
      ],
      "text/plain": [
       "[1] 0"
      ]
     },
     "execution_count": 16,
     "metadata": {
     },
     "output_type": "execute_result"
    }
   ],
   "source": [
    "# M=1 matching\n",
    "genout_m1<- GenMatch(X = food_kilos, Tr = tr, M=1,  pop.size=200, max.generations=10, wait.generations=25)\n",
    "matchout_m1 <- Match(X = food_kilos, Tr = tr, M=1, Weight.matrix=genout_m1)\n",
    "matchout_m1$index.control\n",
    "matchout_m1$index.treated\n",
    "\n",
    "mb.out_m1 <- MatchBalance(tr~food_kilos, match.out = matchout_m1, data = data)\n",
    "mb.out_m1$BMsmallest.p.value\n",
    "mb.out_m1$AMsmallest.p.value"
   ]
  },
  {
   "cell_type": "markdown",
   "metadata": {
    "collapsed": false
   },
   "source": [
    "#### What's going on? No matching is better than 1:1 matching [1:1 < NO == 0 < 0.9]"
   ]
  },
  {
   "cell_type": "code",
   "execution_count": 18,
   "metadata": {
    "collapsed": false
   },
   "outputs": [
    {
     "name": "stderr",
     "output_type": "stream",
     "text": [
      "Warning message in GenMatch(X = food_kilos, Tr = tr, M = 2):\n",
      "“The key tuning parameters for optimization were are all left at their default values.  The 'pop.size' option in particular should probably be increased for optimal results.  For details please see the help page and http://sekhon.berkeley.edu/papers/MatchingJSS.pdf”"
     ]
    },
    {
     "name": "stdout",
     "output_type": "stream",
     "text": [
      "\n",
      "\n",
      "Mon Dec 16 11:15:17 2019\n",
      "Domains:\n",
      " 0.000000e+00   <=  X1   <=    1.000000e+03 \n",
      "\n",
      "Data Type: Floating Point\n",
      "Operators (code number, name, population) \n",
      "\t(1) Cloning........................... \t15\n",
      "\t(2) Uniform Mutation.................. \t12\n",
      "\t(3) Boundary Mutation................. \t12\n",
      "\t(4) Non-Uniform Mutation.............. \t12\n",
      "\t(5) Polytope Crossover................ \t12\n",
      "\t(6) Simple Crossover.................. \t12\n",
      "\t(7) Whole Non-Uniform Mutation........ \t12\n",
      "\t(8) Heuristic Crossover............... \t12\n",
      "\t(9) Local-Minimum Crossover........... \t0\n",
      "\n",
      "SOFT Maximum Number of Generations: 100\n",
      "Maximum Nonchanging Generations: 4\n",
      "Population size       : 100\n",
      "Convergence Tolerance: 1.000000e-03\n",
      "\n",
      "Not Using the BFGS Derivative Based Optimizer on the Best Individual Each Generation.\n",
      "Not Checking Gradients before Stopping.\n",
      "Using Out of Bounds Individuals.\n",
      "\n",
      "Maximization Problem.\n",
      "GENERATION: 0 (initializing the population)\n",
      "Lexical Fit..... 8.245203e-01  9.996333e-01  \n",
      "#unique......... 100, #Total UniqueCount: 100\n",
      "var 1:\n",
      "best............ 1.000000e+00\n",
      "mean............ 4.694067e+02\n",
      "variance........ 9.437664e+04\n",
      "\n",
      "GENERATION: 1\n",
      "Lexical Fit..... 8.245203e-01  9.996333e-01  \n",
      "#unique......... 53, #Total UniqueCount: 153\n",
      "var 1:\n",
      "best............ 1.000000e+00\n",
      "mean............ 2.815444e+02\n",
      "variance........ 9.440142e+04\n",
      "\n",
      "GENERATION: 2\n",
      "Lexical Fit..... 8.245203e-01  9.996333e-01  \n",
      "#unique......... 59, #Total UniqueCount: 212\n",
      "var 1:\n",
      "best............ 1.000000e+00\n",
      "mean............ 3.209073e+02\n",
      "variance........ 9.463241e+04\n",
      "\n",
      "GENERATION: 3\n",
      "Lexical Fit..... 8.245203e-01  9.996333e-01  \n",
      "#unique......... 56, #Total UniqueCount: 268\n",
      "var 1:\n",
      "best............ 1.000000e+00\n",
      "mean............ 2.410268e+02\n",
      "variance........ 7.469130e+04\n",
      "\n",
      "GENERATION: 4\n",
      "Lexical Fit..... 8.245203e-01  9.996333e-01  \n",
      "#unique......... 56, #Total UniqueCount: 324\n",
      "var 1:\n",
      "best............ 1.000000e+00\n",
      "mean............ 2.655595e+02\n",
      "variance........ 8.867152e+04\n",
      "\n",
      "GENERATION: 5\n",
      "Lexical Fit..... 8.245203e-01  9.996333e-01  \n",
      "#unique......... 58, #Total UniqueCount: 382\n",
      "var 1:\n",
      "best............ 1.000000e+00\n",
      "mean............ 3.327885e+02\n",
      "variance........ 9.457227e+04\n",
      "\n",
      "'wait.generations' limit reached.\n",
      "No significant improvement in 4 generations.\n",
      "\n",
      "Solution Lexical Fitness Value:\n",
      "8.245203e-01  9.996333e-01  \n",
      "\n",
      "Parameters at the Solution:\n",
      "\n",
      " X[ 1] :\t1.000000e+00\n",
      "\n",
      "Solution Found Generation 1\n",
      "Number of Generations Run 5\n",
      "\n",
      "Mon Dec 16 11:15:17 2019\n",
      "Total run time : 0 hours 0 minutes and 0 seconds\n"
     ]
    },
    {
     "data": {
      "text/html": [
       "<ol class=list-inline>\n",
       "\t<li>1</li>\n",
       "\t<li>3</li>\n",
       "\t<li>3</li>\n",
       "\t<li>5</li>\n",
       "</ol>\n"
      ],
      "text/latex": [
       "\\begin{enumerate*}\n",
       "\\item 1\n",
       "\\item 3\n",
       "\\item 3\n",
       "\\item 5\n",
       "\\end{enumerate*}\n"
      ],
      "text/markdown": [
       "1. 1\n",
       "2. 3\n",
       "3. 3\n",
       "4. 5\n",
       "\n",
       "\n"
      ],
      "text/plain": [
       "[1] 1 3 3 5"
      ]
     },
     "execution_count": 18,
     "metadata": {
     },
     "output_type": "execute_result"
    },
    {
     "data": {
      "text/html": [
       "<ol class=list-inline>\n",
       "\t<li>2</li>\n",
       "\t<li>2</li>\n",
       "\t<li>4</li>\n",
       "\t<li>4</li>\n",
       "</ol>\n"
      ],
      "text/latex": [
       "\\begin{enumerate*}\n",
       "\\item 2\n",
       "\\item 2\n",
       "\\item 4\n",
       "\\item 4\n",
       "\\end{enumerate*}\n"
      ],
      "text/markdown": [
       "1. 2\n",
       "2. 2\n",
       "3. 4\n",
       "4. 4\n",
       "\n",
       "\n"
      ],
      "text/plain": [
       "[1] 2 2 4 4"
      ]
     },
     "execution_count": 18,
     "metadata": {
     },
     "output_type": "execute_result"
    },
    {
     "name": "stdout",
     "output_type": "stream",
     "text": [
      "\n",
      "***** (V1) food_kilos *****\n",
      "                       Before Matching \t \t After Matching\n",
      "mean treatment........        225 \t \t        225 \n",
      "mean control..........        220 \t \t        220 \n",
      "std mean diff.........     14.142 \t \t     14.142 \n",
      "\n",
      "mean raw eQQ diff.....         25 \t \t         25 \n",
      "med  raw eQQ diff.....         25 \t \t         25 \n",
      "max  raw eQQ diff.....         30 \t \t         30 \n",
      "\n",
      "mean eCDF diff........        0.2 \t \t        0.2 \n",
      "med  eCDF diff........    0.16667 \t \t       0.25 \n",
      "max  eCDF diff........    0.33333 \t \t       0.25 \n",
      "\n",
      "var ratio (Tr/Co).....        0.5 \t \t        0.5 \n",
      "T-test p-value........    0.90443 \t \t    0.82452 \n",
      "KS Bootstrap p-value..      0.906 \t \t       0.98 \n",
      "KS Naive p-value......          1 \t \t    0.99963 \n",
      "KS Statistic..........    0.33333 \t \t       0.25 \n",
      "\n"
     ]
    },
    {
     "data": {
      "text/html": [
       "0.904430455586391"
      ],
      "text/latex": [
       "0.904430455586391"
      ],
      "text/markdown": [
       "0.904430455586391"
      ],
      "text/plain": [
       "[1] 0.9044305"
      ]
     },
     "execution_count": 18,
     "metadata": {
     },
     "output_type": "execute_result"
    },
    {
     "data": {
      "text/html": [
       "0.824520343908178"
      ],
      "text/latex": [
       "0.824520343908178"
      ],
      "text/markdown": [
       "0.824520343908178"
      ],
      "text/plain": [
       "[1] 0.8245203"
      ]
     },
     "execution_count": 18,
     "metadata": {
     },
     "output_type": "execute_result"
    }
   ],
   "source": [
    "# M=2 matching\n",
    "genout_m2<- GenMatch(X = food_kilos, Tr = tr, M=2)\n",
    "\n",
    "matchout_m2 <- Match(X = food_kilos, Tr = tr, M=2, Weight.matrix=genout_m2)\n",
    "matchout_m2$index.control\n",
    "matchout_m2$index.treated\n",
    "\n",
    "mb.out_m2 <- MatchBalance(tr~food_kilos, match.out = matchout_m2, data = data)\n",
    "mb.out_m2$BMsmallest.p.value\n",
    "mb.out_m2$AMsmallest.p.value\n"
   ]
  },
  {
   "cell_type": "markdown",
   "metadata": {
    "collapsed": false
   },
   "source": [
    "#### What's going on? NO matching is better than 1:2 AND 1:1  [1:1 < 1:2 < NO == 0 < 0.82 < 0.972]"
   ]
  },
  {
   "cell_type": "code",
   "execution_count": 19,
   "metadata": {
    "collapsed": false
   },
   "outputs": [
    {
     "data": {
      "image/png": "[encoded data removed]",
      "text/plain": [
       "plot without title"
      ]
     },
     "execution_count": 19,
     "metadata": {
     },
     "output_type": "execute_result"
    }
   ],
   "source": [
    "# plotting a graph with raw data - treated and controls\n",
    "plot_data(food_kilos, tr, m_num = 1) "
   ]
  },
  {
   "cell_type": "code",
   "execution_count": 20,
   "metadata": {
    "collapsed": false
   },
   "outputs": [
    {
     "data": {
      "image/png": "[encoded data removed]",
      "text/plain": [
       "plot without title"
      ]
     },
     "execution_count": 20,
     "metadata": {
     },
     "output_type": "execute_result"
    }
   ],
   "source": [
    "# plotting a graph with treated and 'synthetic' controls, when M = 1\n",
    "synth_cont <- add_m_control(matchout_m1, data, m_num =1)\n",
    "plot_data(food_kilos, tr, synth_cont, m_num = 1)"
   ]
  },
  {
   "cell_type": "code",
   "execution_count": 21,
   "metadata": {
    "collapsed": false
   },
   "outputs": [
    {
     "data": {
      "image/png": "[encoded data removed]",
      "text/plain": [
       "plot without title"
      ]
     },
     "execution_count": 21,
     "metadata": {
     },
     "output_type": "execute_result"
    }
   ],
   "source": [
    "# plotting a graph with treated and 'synthetic' controls, when M = 2\n",
    "synth_cont <- add_m_control(matchout_m2, data, m_num =2)\n",
    "plot_data(food_kilos, tr, synth_cont, m_num = 2)"
   ]
  },
  {
   "cell_type": "markdown",
   "metadata": {
    "collapsed": false
   },
   "source": [
    "---"
   ]
  },
  {
   "cell_type": "markdown",
   "metadata": {
    "collapsed": false
   },
   "source": [
    "## Dataset 3"
   ]
  },
  {
   "cell_type": "code",
   "execution_count": 22,
   "metadata": {
    "collapsed": false
   },
   "outputs": [
   ],
   "source": [
    "food_kilos <- c(5, 200, 225, 250, 275)\n",
    "tr <- c(0,1,0, 1, 0)\n",
    "data <- cbind(food_kilos, tr)"
   ]
  },
  {
   "cell_type": "code",
   "execution_count": 23,
   "metadata": {
    "collapsed": false
   },
   "outputs": [
    {
     "name": "stdout",
     "output_type": "stream",
     "text": [
      "\n",
      "\n",
      "Mon Dec 16 11:16:59 2019\n",
      "Domains:\n",
      " 0.000000e+00   <=  X1   <=    1.000000e+03 \n",
      "\n",
      "Data Type: Floating Point\n",
      "Operators (code number, name, population) \n",
      "\t(1) Cloning........................... \t22\n",
      "\t(2) Uniform Mutation.................. \t25\n",
      "\t(3) Boundary Mutation................. \t25\n",
      "\t(4) Non-Uniform Mutation.............. \t25\n",
      "\t(5) Polytope Crossover................ \t25\n",
      "\t(6) Simple Crossover.................. \t26\n",
      "\t(7) Whole Non-Uniform Mutation........ \t25\n",
      "\t(8) Heuristic Crossover............... \t26\n",
      "\t(9) Local-Minimum Crossover........... \t0\n",
      "\n",
      "SOFT Maximum Number of Generations: 10\n",
      "Maximum Nonchanging Generations: 25\n",
      "Population size       : 200\n",
      "Convergence Tolerance: 1.000000e-03\n",
      "\n",
      "Not Using the BFGS Derivative Based Optimizer on the Best Individual Each Generation.\n",
      "Not Checking Gradients before Stopping.\n",
      "Using Out of Bounds Individuals.\n",
      "\n",
      "Maximization Problem.\n",
      "GENERATION: 0 (initializing the population)\n",
      "Lexical Fit..... 9.639452e-01  1.000000e+00  \n",
      "#unique......... 200, #Total UniqueCount: 200\n",
      "var 1:\n",
      "best............ 1.000000e+00\n",
      "mean............ 5.248470e+02\n",
      "variance........ 8.484055e+04\n",
      "\n",
      "GENERATION: 1\n",
      "Lexical Fit..... 9.639452e-01  1.000000e+00  \n",
      "#unique......... 126, #Total UniqueCount: 326\n",
      "var 1:\n",
      "best............ 1.000000e+00\n",
      "mean............ 3.851296e+02\n",
      "variance........ 1.188748e+05\n",
      "\n",
      "GENERATION: 2\n",
      "Lexical Fit..... 9.639452e-01  1.000000e+00  \n",
      "#unique......... 117, #Total UniqueCount: 443\n",
      "var 1:\n",
      "best............ 1.000000e+00\n",
      "mean............ 4.230291e+02\n",
      "variance........ 1.195625e+05\n",
      "\n",
      "GENERATION: 3\n",
      "Lexical Fit..... 9.639452e-01  1.000000e+00  \n",
      "#unique......... 112, #Total UniqueCount: 555\n",
      "var 1:\n",
      "best............ 1.000000e+00\n",
      "mean............ 4.119197e+02\n",
      "variance........ 1.151940e+05\n",
      "\n",
      "GENERATION: 4\n",
      "Lexical Fit..... 9.639452e-01  1.000000e+00  \n",
      "#unique......... 123, #Total UniqueCount: 678\n",
      "var 1:\n",
      "best............ 1.000000e+00\n",
      "mean............ 4.290006e+02\n",
      "variance........ 1.216001e+05\n",
      "\n",
      "GENERATION: 5\n",
      "Lexical Fit..... 9.639452e-01  1.000000e+00  \n",
      "#unique......... 117, #Total UniqueCount: 795\n",
      "var 1:\n",
      "best............ 1.000000e+00\n",
      "mean............ 3.806243e+02\n",
      "variance........ 1.307478e+05\n",
      "\n",
      "GENERATION: 6\n",
      "Lexical Fit..... 9.639452e-01  1.000000e+00  \n",
      "#unique......... 112, #Total UniqueCount: 907\n",
      "var 1:\n",
      "best............ 1.000000e+00\n",
      "mean............ 3.607591e+02\n",
      "variance........ 1.229105e+05\n",
      "\n",
      "GENERATION: 7\n",
      "Lexical Fit..... 9.639452e-01  1.000000e+00  \n",
      "#unique......... 120, #Total UniqueCount: 1027\n",
      "var 1:\n",
      "best............ 1.000000e+00\n",
      "mean............ 4.024303e+02\n",
      "variance........ 1.145195e+05\n",
      "\n",
      "GENERATION: 8\n",
      "Lexical Fit..... 9.639452e-01  1.000000e+00  \n",
      "#unique......... 111, #Total UniqueCount: 1138\n",
      "var 1:\n",
      "best............ 1.000000e+00\n",
      "mean............ 3.975879e+02\n",
      "variance........ 1.158403e+05\n",
      "\n",
      "GENERATION: 9\n",
      "Lexical Fit..... 9.639452e-01  1.000000e+00  \n",
      "#unique......... 126, #Total UniqueCount: 1264\n",
      "var 1:\n",
      "best............ 1.000000e+00\n",
      "mean............ 3.878271e+02\n",
      "variance........ 1.205103e+05\n",
      "\n",
      "GENERATION: 10\n",
      "Lexical Fit..... 9.639452e-01  1.000000e+00  \n",
      "#unique......... 116, #Total UniqueCount: 1380\n",
      "var 1:\n",
      "best............ 1.000000e+00\n",
      "mean............ 4.101357e+02\n",
      "variance........ 1.210655e+05\n",
      "\n",
      "Increasing 'max.generations' limit by 25 generations to 35 because the fitness is still impoving.\n",
      "\n",
      "\n",
      "GENERATION: 11\n",
      "Lexical Fit..... 9.639452e-01  1.000000e+00  \n",
      "#unique......... 115, #Total UniqueCount: 1495\n",
      "var 1:\n",
      "best............ 1.000000e+00\n",
      "mean............ 4.008718e+02\n",
      "variance........ 1.107439e+05\n",
      "\n",
      "GENERATION: 12\n",
      "Lexical Fit..... 9.639452e-01  1.000000e+00  \n",
      "#unique......... 120, #Total UniqueCount: 1615\n",
      "var 1:\n",
      "best............ 1.000000e+00\n",
      "mean............ 4.076833e+02\n",
      "variance........ 1.235467e+05\n",
      "\n",
      "GENERATION: 13\n",
      "Lexical Fit..... 9.639452e-01  1.000000e+00  \n",
      "#unique......... 124, #Total UniqueCount: 1739\n",
      "var 1:\n",
      "best............ 1.000000e+00\n",
      "mean............ 3.803575e+02\n",
      "variance........ 1.213461e+05\n",
      "\n",
      "GENERATION: 14\n",
      "Lexical Fit..... 9.639452e-01  1.000000e+00  \n",
      "#unique......... 117, #Total UniqueCount: 1856\n",
      "var 1:\n",
      "best............ 1.000000e+00\n",
      "mean............ 4.023122e+02\n",
      "variance........ 1.178763e+05\n",
      "\n",
      "GENERATION: 15\n",
      "Lexical Fit..... 9.639452e-01  1.000000e+00  \n",
      "#unique......... 122, #Total UniqueCount: 1978\n",
      "var 1:\n",
      "best............ 1.000000e+00\n",
      "mean............ 3.960917e+02\n",
      "variance........ 1.211680e+05\n",
      "\n",
      "GENERATION: 16\n",
      "Lexical Fit..... 9.639452e-01  1.000000e+00  \n",
      "#unique......... 114, #Total UniqueCount: 2092\n",
      "var 1:\n",
      "best............ 1.000000e+00\n",
      "mean............ 4.071897e+02\n",
      "variance........ 1.176922e+05\n",
      "\n",
      "GENERATION: 17\n",
      "Lexical Fit..... 9.639452e-01  1.000000e+00  \n",
      "#unique......... 128, #Total UniqueCount: 2220\n",
      "var 1:\n",
      "best............ 1.000000e+00\n",
      "mean............ 4.096431e+02\n",
      "variance........ 1.151490e+05\n",
      "\n",
      "GENERATION: 18\n",
      "Lexical Fit..... 9.639452e-01  1.000000e+00  \n",
      "#unique......... 120, #Total UniqueCount: 2340\n",
      "var 1:\n",
      "best............ 1.000000e+00\n",
      "mean............ 3.867579e+02\n",
      "variance........ 1.112228e+05\n",
      "\n",
      "GENERATION: 19\n",
      "Lexical Fit..... 9.639452e-01  1.000000e+00  \n",
      "#unique......... 115, #Total UniqueCount: 2455\n",
      "var 1:\n",
      "best............ 1.000000e+00\n",
      "mean............ 3.684149e+02\n",
      "variance........ 1.136346e+05\n",
      "\n",
      "GENERATION: 20\n",
      "Lexical Fit..... 9.639452e-01  1.000000e+00  \n",
      "#unique......... 113, #Total UniqueCount: 2568\n",
      "var 1:\n",
      "best............ 1.000000e+00\n",
      "mean............ 3.391434e+02\n",
      "variance........ 1.210092e+05\n",
      "\n",
      "GENERATION: 21\n",
      "Lexical Fit..... 9.639452e-01  1.000000e+00  \n",
      "#unique......... 119, #Total UniqueCount: 2687\n",
      "var 1:\n",
      "best............ 1.000000e+00\n",
      "mean............ 3.680007e+02\n",
      "variance........ 1.125547e+05\n",
      "\n",
      "GENERATION: 22\n",
      "Lexical Fit..... 9.639452e-01  1.000000e+00  \n",
      "#unique......... 125, #Total UniqueCount: 2812\n",
      "var 1:\n",
      "best............ 1.000000e+00\n",
      "mean............ 3.866663e+02\n",
      "variance........ 1.195303e+05\n",
      "\n",
      "GENERATION: 23\n",
      "Lexical Fit..... 9.639452e-01  1.000000e+00  \n",
      "#unique......... 115, #Total UniqueCount: 2927\n",
      "var 1:\n",
      "best............ 1.000000e+00\n",
      "mean............ 4.050350e+02\n",
      "variance........ 1.216203e+05\n",
      "\n",
      "GENERATION: 24\n",
      "Lexical Fit..... 9.639452e-01  1.000000e+00  \n",
      "#unique......... 123, #Total UniqueCount: 3050\n",
      "var 1:\n",
      "best............ 1.000000e+00\n",
      "mean............ 4.103193e+02\n",
      "variance........ 1.120091e+05\n",
      "\n",
      "GENERATION: 25\n",
      "Lexical Fit..... 9.639452e-01  1.000000e+00  \n",
      "#unique......... 117, #Total UniqueCount: 3167\n",
      "var 1:\n",
      "best............ 1.000000e+00\n",
      "mean............ 4.398291e+02\n",
      "variance........ 1.158610e+05\n",
      "\n",
      "GENERATION: 26\n",
      "Lexical Fit..... 9.639452e-01  1.000000e+00  \n",
      "#unique......... 112, #Total UniqueCount: 3279\n",
      "var 1:\n",
      "best............ 1.000000e+00\n",
      "mean............ 4.135235e+02\n",
      "variance........ 1.202227e+05\n",
      "\n",
      "'wait.generations' limit reached.\n",
      "No significant improvement in 25 generations.\n",
      "\n",
      "Solution Lexical Fitness Value:\n",
      "9.639452e-01  1.000000e+00  \n",
      "\n",
      "Parameters at the Solution:\n",
      "\n",
      " X[ 1] :\t1.000000e+00\n",
      "\n",
      "Solution Found Generation 1\n",
      "Number of Generations Run 26\n",
      "\n",
      "Mon Dec 16 11:17:02 2019\n",
      "Total run time : 0 hours 0 minutes and 3 seconds\n"
     ]
    },
    {
     "data": {
      "text/html": [
       "<ol class=list-inline>\n",
       "\t<li>3</li>\n",
       "\t<li>5</li>\n",
       "</ol>\n"
      ],
      "text/latex": [
       "\\begin{enumerate*}\n",
       "\\item 3\n",
       "\\item 5\n",
       "\\end{enumerate*}\n"
      ],
      "text/markdown": [
       "1. 3\n",
       "2. 5\n",
       "\n",
       "\n"
      ],
      "text/plain": [
       "[1] 3 5"
      ]
     },
     "execution_count": 23,
     "metadata": {
     },
     "output_type": "execute_result"
    },
    {
     "data": {
      "text/html": [
       "<ol class=list-inline>\n",
       "\t<li>2</li>\n",
       "\t<li>4</li>\n",
       "</ol>\n"
      ],
      "text/latex": [
       "\\begin{enumerate*}\n",
       "\\item 2\n",
       "\\item 4\n",
       "\\end{enumerate*}\n"
      ],
      "text/markdown": [
       "1. 2\n",
       "2. 4\n",
       "\n",
       "\n"
      ],
      "text/plain": [
       "[1] 2 4"
      ]
     },
     "execution_count": 23,
     "metadata": {
     },
     "output_type": "execute_result"
    },
    {
     "name": "stdout",
     "output_type": "stream",
     "text": [
      "\n",
      "***** (V1) food_kilos *****\n",
      "                       Before Matching \t \t After Matching\n",
      "mean treatment........        225 \t \t        225 \n",
      "mean control..........     168.33 \t \t        250 \n",
      "std mean diff.........     160.28 \t \t    -70.711 \n",
      "\n",
      "mean raw eQQ diff.....        110 \t \t         25 \n",
      "med  raw eQQ diff.....        110 \t \t         25 \n",
      "max  raw eQQ diff.....        195 \t \t         25 \n",
      "\n",
      "mean eCDF diff........        0.2 \t \t       0.25 \n",
      "med  eCDF diff........    0.16667 \t \t       0.25 \n",
      "max  eCDF diff........    0.33333 \t \t        0.5 \n",
      "\n",
      "var ratio (Tr/Co).....   0.060582 \t \t          1 \n",
      "T-test p-value........    0.57142 \t \t < 2.22e-16 \n",
      "KS Bootstrap p-value..      0.916 \t \t      0.882 \n",
      "KS Naive p-value......          1 \t \t          1 \n",
      "KS Statistic..........    0.33333 \t \t        0.5 \n",
      "\n"
     ]
    },
    {
     "data": {
      "text/html": [
       "0.571421582500857"
      ],
      "text/latex": [
       "0.571421582500857"
      ],
      "text/markdown": [
       "0.571421582500857"
      ],
      "text/plain": [
       "[1] 0.5714216"
      ]
     },
     "execution_count": 23,
     "metadata": {
     },
     "output_type": "execute_result"
    },
    {
     "data": {
      "text/html": [
       "0"
      ],
      "text/latex": [
       "0"
      ],
      "text/markdown": [
       "0"
      ],
      "text/plain": [
       "[1] 0"
      ]
     },
     "execution_count": 23,
     "metadata": {
     },
     "output_type": "execute_result"
    }
   ],
   "source": [
    "# M = 1 matching\n",
    "genout_m1<- GenMatch(X = food_kilos, Tr = tr, M=1,  pop.size=200, max.generations=10, wait.generations=25, ties = FALSE)\n",
    "matchout_m1 <- Match(X = food_kilos, Tr = tr, M=1, Weight.matrix=genout_m1, ties = FALSE)\n",
    "matchout_m1$index.control\n",
    "matchout_m1$index.treated\n",
    "\n",
    "mb.out_m1 <- MatchBalance(tr~food_kilos, match.out = matchout_m1)\n",
    "mb.out_m1$BMsmallest.p.value\n",
    "mb.out_m1$AMsmallest.p.value"
   ]
  },
  {
   "cell_type": "code",
   "execution_count": 24,
   "metadata": {
    "collapsed": false
   },
   "outputs": [
    {
     "name": "stdout",
     "output_type": "stream",
     "text": [
      "\n",
      "\n",
      "Mon Dec 16 11:17:02 2019\n",
      "Domains:\n",
      " 0.000000e+00   <=  X1   <=    1.000000e+03 \n",
      "\n",
      "Data Type: Floating Point\n",
      "Operators (code number, name, population) \n",
      "\t(1) Cloning........................... \t22\n",
      "\t(2) Uniform Mutation.................. \t25\n",
      "\t(3) Boundary Mutation................. \t25\n",
      "\t(4) Non-Uniform Mutation.............. \t25\n",
      "\t(5) Polytope Crossover................ \t25\n",
      "\t(6) Simple Crossover.................. \t26\n",
      "\t(7) Whole Non-Uniform Mutation........ \t25\n",
      "\t(8) Heuristic Crossover............... \t26\n",
      "\t(9) Local-Minimum Crossover........... \t0\n",
      "\n",
      "SOFT Maximum Number of Generations: 10\n",
      "Maximum Nonchanging Generations: 25\n",
      "Population size       : 200\n",
      "Convergence Tolerance: 1.000000e-03\n",
      "\n",
      "Not Using the BFGS Derivative Based Optimizer on the Best Individual Each Generation.\n",
      "Not Checking Gradients before Stopping.\n",
      "Using Out of Bounds Individuals.\n",
      "\n",
      "Maximization Problem.\n",
      "GENERATION: 0 (initializing the population)\n",
      "Lexical Fit..... 5.000000e-01  6.993742e-01  \n",
      "#unique......... 200, #Total UniqueCount: 200\n",
      "var 1:\n",
      "best............ 1.000000e+00\n",
      "mean............ 4.710425e+02\n",
      "variance........ 9.107407e+04\n",
      "\n",
      "GENERATION: 1\n",
      "Lexical Fit..... 5.000000e-01  6.993742e-01  \n",
      "#unique......... 112, #Total UniqueCount: 312\n",
      "var 1:\n",
      "best............ 1.000000e+00\n",
      "mean............ 3.290804e+02\n",
      "variance........ 9.424034e+04\n",
      "\n",
      "GENERATION: 2\n",
      "Lexical Fit..... 5.000000e-01  6.993742e-01  \n",
      "#unique......... 120, #Total UniqueCount: 432\n",
      "var 1:\n",
      "best............ 1.000000e+00\n",
      "mean............ 2.866705e+02\n",
      "variance........ 8.155481e+04\n",
      "\n",
      "GENERATION: 3\n",
      "Lexical Fit..... 5.000000e-01  6.993742e-01  \n",
      "#unique......... 116, #Total UniqueCount: 548\n",
      "var 1:\n",
      "best............ 1.000000e+00\n",
      "mean............ 3.012694e+02\n",
      "variance........ 8.372702e+04\n",
      "\n",
      "GENERATION: 4\n",
      "Lexical Fit..... 5.000000e-01  6.993742e-01  \n",
      "#unique......... 120, #Total UniqueCount: 668\n",
      "var 1:\n",
      "best............ 1.000000e+00\n",
      "mean............ 2.906251e+02\n",
      "variance........ 9.267623e+04\n",
      "\n",
      "GENERATION: 5\n",
      "Lexical Fit..... 5.000000e-01  6.993742e-01  \n",
      "#unique......... 124, #Total UniqueCount: 792\n",
      "var 1:\n",
      "best............ 1.000000e+00\n",
      "mean............ 2.597486e+02\n",
      "variance........ 8.374862e+04\n",
      "\n",
      "GENERATION: 6\n",
      "Lexical Fit..... 5.000000e-01  6.993742e-01  \n",
      "#unique......... 119, #Total UniqueCount: 911\n",
      "var 1:\n",
      "best............ 1.000000e+00\n",
      "mean............ 2.585721e+02\n",
      "variance........ 7.698150e+04\n",
      "\n",
      "GENERATION: 7\n",
      "Lexical Fit..... 5.000000e-01  6.993742e-01  \n",
      "#unique......... 121, #Total UniqueCount: 1032\n",
      "var 1:\n",
      "best............ 1.000000e+00\n",
      "mean............ 2.959292e+02\n",
      "variance........ 8.953257e+04\n",
      "\n",
      "GENERATION: 8\n",
      "Lexical Fit..... 5.000000e-01  6.993742e-01  \n",
      "#unique......... 122, #Total UniqueCount: 1154\n",
      "var 1:\n",
      "best............ 1.000000e+00\n",
      "mean............ 2.752116e+02\n",
      "variance........ 8.270259e+04\n",
      "\n",
      "GENERATION: 9\n",
      "Lexical Fit..... 5.000000e-01  6.993742e-01  \n",
      "#unique......... 122, #Total UniqueCount: 1276\n",
      "var 1:\n",
      "best............ 1.000000e+00\n",
      "mean............ 2.943746e+02\n",
      "variance........ 9.085500e+04\n",
      "\n",
      "GENERATION: 10\n",
      "Lexical Fit..... 5.000000e-01  6.993742e-01  \n",
      "#unique......... 118, #Total UniqueCount: 1394\n",
      "var 1:\n",
      "best............ 1.000000e+00\n",
      "mean............ 2.807916e+02\n",
      "variance........ 8.490510e+04\n",
      "\n",
      "Increasing 'max.generations' limit by 25 generations to 35 because the fitness is still impoving.\n",
      "\n",
      "\n",
      "GENERATION: 11\n",
      "Lexical Fit..... 5.000000e-01  6.993742e-01  \n",
      "#unique......... 118, #Total UniqueCount: 1512\n",
      "var 1:\n",
      "best............ 1.000000e+00\n",
      "mean............ 3.018131e+02\n",
      "variance........ 9.303175e+04\n",
      "\n",
      "GENERATION: 12\n",
      "Lexical Fit..... 5.000000e-01  6.993742e-01  \n",
      "#unique......... 119, #Total UniqueCount: 1631\n",
      "var 1:\n",
      "best............ 1.000000e+00\n",
      "mean............ 2.763279e+02\n",
      "variance........ 7.799650e+04\n",
      "\n",
      "GENERATION: 13\n",
      "Lexical Fit..... 5.000000e-01  6.993742e-01  \n",
      "#unique......... 124, #Total UniqueCount: 1755\n",
      "var 1:\n",
      "best............ 1.000000e+00\n",
      "mean............ 2.695274e+02\n",
      "variance........ 8.366369e+04\n",
      "\n",
      "GENERATION: 14\n",
      "Lexical Fit..... 5.000000e-01  6.993742e-01  \n",
      "#unique......... 119, #Total UniqueCount: 1874\n",
      "var 1:\n",
      "best............ 1.000000e+00\n",
      "mean............ 2.745591e+02\n",
      "variance........ 9.648408e+04\n",
      "\n",
      "GENERATION: 15\n",
      "Lexical Fit..... 5.000000e-01  6.993742e-01  \n",
      "#unique......... 122, #Total UniqueCount: 1996\n",
      "var 1:\n",
      "best............ 1.000000e+00\n",
      "mean............ 3.242249e+02\n",
      "variance........ 9.748598e+04\n",
      "\n",
      "GENERATION: 16\n",
      "Lexical Fit..... 5.000000e-01  6.993742e-01  \n",
      "#unique......... 126, #Total UniqueCount: 2122\n",
      "var 1:\n",
      "best............ 1.000000e+00\n",
      "mean............ 2.665018e+02\n",
      "variance........ 8.147466e+04\n",
      "\n",
      "GENERATION: 17\n",
      "Lexical Fit..... 5.000000e-01  6.993742e-01  \n",
      "#unique......... 115, #Total UniqueCount: 2237\n",
      "var 1:\n",
      "best............ 1.000000e+00\n",
      "mean............ 3.160525e+02\n",
      "variance........ 8.725827e+04\n",
      "\n",
      "GENERATION: 18\n",
      "Lexical Fit..... 5.000000e-01  6.993742e-01  \n",
      "#unique......... 124, #Total UniqueCount: 2361\n",
      "var 1:\n",
      "best............ 1.000000e+00\n",
      "mean............ 2.498021e+02\n",
      "variance........ 8.200086e+04\n",
      "\n",
      "GENERATION: 19\n",
      "Lexical Fit..... 5.000000e-01  6.993742e-01  \n",
      "#unique......... 119, #Total UniqueCount: 2480\n",
      "var 1:\n",
      "best............ 1.000000e+00\n",
      "mean............ 2.810696e+02\n",
      "variance........ 7.872185e+04\n",
      "\n",
      "GENERATION: 20\n",
      "Lexical Fit..... 5.000000e-01  6.993742e-01  \n",
      "#unique......... 117, #Total UniqueCount: 2597\n",
      "var 1:\n",
      "best............ 1.000000e+00\n",
      "mean............ 2.649438e+02\n",
      "variance........ 8.104496e+04\n",
      "\n",
      "GENERATION: 21\n",
      "Lexical Fit..... 5.000000e-01  6.993742e-01  \n",
      "#unique......... 116, #Total UniqueCount: 2713\n",
      "var 1:\n",
      "best............ 1.000000e+00\n",
      "mean............ 3.058131e+02\n",
      "variance........ 8.802374e+04\n",
      "\n",
      "GENERATION: 22\n",
      "Lexical Fit..... 5.000000e-01  6.993742e-01  \n",
      "#unique......... 115, #Total UniqueCount: 2828\n",
      "var 1:\n",
      "best............ 1.000000e+00\n",
      "mean............ 2.724965e+02\n",
      "variance........ 8.700370e+04\n",
      "\n",
      "GENERATION: 23\n",
      "Lexical Fit..... 5.000000e-01  6.993742e-01  \n",
      "#unique......... 123, #Total UniqueCount: 2951\n",
      "var 1:\n",
      "best............ 1.000000e+00\n",
      "mean............ 3.057287e+02\n",
      "variance........ 8.872400e+04\n",
      "\n",
      "GENERATION: 24\n",
      "Lexical Fit..... 5.000000e-01  6.993742e-01  \n",
      "#unique......... 125, #Total UniqueCount: 3076\n",
      "var 1:\n",
      "best............ 1.000000e+00\n",
      "mean............ 2.850799e+02\n",
      "variance........ 8.703203e+04\n",
      "\n",
      "GENERATION: 25\n",
      "Lexical Fit..... 5.000000e-01  6.993742e-01  \n",
      "#unique......... 124, #Total UniqueCount: 3200\n",
      "var 1:\n",
      "best............ 1.000000e+00\n",
      "mean............ 3.080662e+02\n",
      "variance........ 9.212773e+04\n",
      "\n",
      "GENERATION: 26\n",
      "Lexical Fit..... 5.000000e-01  6.993742e-01  \n",
      "#unique......... 118, #Total UniqueCount: 3318\n",
      "var 1:\n",
      "best............ 1.000000e+00\n",
      "mean............ 2.952534e+02\n",
      "variance........ 8.853938e+04\n",
      "\n",
      "'wait.generations' limit reached.\n",
      "No significant improvement in 25 generations.\n",
      "\n",
      "Solution Lexical Fitness Value:\n",
      "5.000000e-01  6.993742e-01  \n",
      "\n",
      "Parameters at the Solution:\n",
      "\n",
      " X[ 1] :\t1.000000e+00\n",
      "\n",
      "Solution Found Generation 1\n",
      "Number of Generations Run 26\n",
      "\n",
      "Mon Dec 16 11:17:05 2019\n",
      "Total run time : 0 hours 0 minutes and 3 seconds\n"
     ]
    },
    {
     "data": {
      "text/html": [
       "<ol class=list-inline>\n",
       "\t<li>3</li>\n",
       "\t<li>5</li>\n",
       "\t<li>3</li>\n",
       "\t<li>5</li>\n",
       "</ol>\n"
      ],
      "text/latex": [
       "\\begin{enumerate*}\n",
       "\\item 3\n",
       "\\item 5\n",
       "\\item 3\n",
       "\\item 5\n",
       "\\end{enumerate*}\n"
      ],
      "text/markdown": [
       "1. 3\n",
       "2. 5\n",
       "3. 3\n",
       "4. 5\n",
       "\n",
       "\n"
      ],
      "text/plain": [
       "[1] 3 5 3 5"
      ]
     },
     "execution_count": 24,
     "metadata": {
     },
     "output_type": "execute_result"
    },
    {
     "data": {
      "text/html": [
       "<ol class=list-inline>\n",
       "\t<li>2</li>\n",
       "\t<li>2</li>\n",
       "\t<li>4</li>\n",
       "\t<li>4</li>\n",
       "</ol>\n"
      ],
      "text/latex": [
       "\\begin{enumerate*}\n",
       "\\item 2\n",
       "\\item 2\n",
       "\\item 4\n",
       "\\item 4\n",
       "\\end{enumerate*}\n"
      ],
      "text/markdown": [
       "1. 2\n",
       "2. 2\n",
       "3. 4\n",
       "4. 4\n",
       "\n",
       "\n"
      ],
      "text/plain": [
       "[1] 2 2 4 4"
      ]
     },
     "execution_count": 24,
     "metadata": {
     },
     "output_type": "execute_result"
    },
    {
     "name": "stdout",
     "output_type": "stream",
     "text": [
      "\n",
      "***** (V1) food_kilos *****\n",
      "                       Before Matching \t \t After Matching\n",
      "mean treatment........        225 \t \t        225 \n",
      "mean control..........     168.33 \t \t        250 \n",
      "std mean diff.........     160.28 \t \t    -70.711 \n",
      "\n",
      "mean raw eQQ diff.....        110 \t \t         25 \n",
      "med  raw eQQ diff.....        110 \t \t         25 \n",
      "max  raw eQQ diff.....        195 \t \t         25 \n",
      "\n",
      "mean eCDF diff........        0.2 \t \t       0.25 \n",
      "med  eCDF diff........    0.16667 \t \t       0.25 \n",
      "max  eCDF diff........    0.33333 \t \t        0.5 \n",
      "\n",
      "var ratio (Tr/Co).....   0.060582 \t \t          1 \n",
      "T-test p-value........    0.57142 \t \t        0.5 \n",
      "KS Bootstrap p-value..      0.914 \t \t      0.468 \n",
      "KS Naive p-value......          1 \t \t    0.69937 \n",
      "KS Statistic..........    0.33333 \t \t        0.5 \n",
      "\n"
     ]
    },
    {
     "data": {
      "text/html": [
       "0.571421582500857"
      ],
      "text/latex": [
       "0.571421582500857"
      ],
      "text/markdown": [
       "0.571421582500857"
      ],
      "text/plain": [
       "[1] 0.5714216"
      ]
     },
     "execution_count": 24,
     "metadata": {
     },
     "output_type": "execute_result"
    },
    {
     "data": {
      "text/html": [
       "0.468"
      ],
      "text/latex": [
       "0.468"
      ],
      "text/markdown": [
       "0.468"
      ],
      "text/plain": [
       "[1] 0.468"
      ]
     },
     "execution_count": 24,
     "metadata": {
     },
     "output_type": "execute_result"
    }
   ],
   "source": [
    "# M = 2 matching\n",
    "genout_m2<- GenMatch(X = food_kilos, Tr = tr, M=2,  pop.size=200, max.generations=10, wait.generations=25)\n",
    "matchout_m2 <- Match(X = food_kilos, Tr = tr, M=2, Weight.matrix=genout_m2)\n",
    "matchout_m2$index.control\n",
    "matchout_m2$index.treated\n",
    "\n",
    "mb.out_m2 <- MatchBalance(tr~food_kilos, match.out = matchout_m2)\n",
    "mb.out_m2$BMsmallest.p.value\n",
    "mb.out_m2$AMsmallest.p.value"
   ]
  },
  {
   "cell_type": "markdown",
   "metadata": {
    "collapsed": false
   },
   "source": [
    "#### What's going on? 1:1 is better than both no matching and 1:2 matching [1:2 < NO < 1:1  == 0.49 < 0.57 < 0.74]"
   ]
  },
  {
   "cell_type": "code",
   "execution_count": 26,
   "metadata": {
    "collapsed": false
   },
   "outputs": [
    {
     "data": {
      "image/png": "[encoded data removed]",
      "text/plain": [
       "plot without title"
      ]
     },
     "execution_count": 26,
     "metadata": {
     },
     "output_type": "execute_result"
    }
   ],
   "source": [
    "# plotting a graph with raw data - treated and controls\n",
    "plot_data(food_kilos, tr, m_num = 1) \n"
   ]
  },
  {
   "cell_type": "code",
   "execution_count": 27,
   "metadata": {
    "collapsed": false
   },
   "outputs": [
    {
     "data": {
      "image/png": "[encoded data removed]",
      "text/plain": [
       "plot without title"
      ]
     },
     "execution_count": 27,
     "metadata": {
     },
     "output_type": "execute_result"
    }
   ],
   "source": [
    "# plotting a graph with treated and 'synthetic' controls, when M = 1\n",
    "synth_cont <- add_m_control(matchout_m1, data, m_num =1)\n",
    "plot_data(food_kilos, tr, synth_cont, m_num = 1)"
   ]
  },
  {
   "cell_type": "code",
   "execution_count": 28,
   "metadata": {
    "collapsed": false
   },
   "outputs": [
    {
     "data": {
      "image/png": "[encoded data removed]",
      "text/plain": [
       "plot without title"
      ]
     },
     "execution_count": 28,
     "metadata": {
     },
     "output_type": "execute_result"
    }
   ],
   "source": [
    "# plotting a graph with treated and 'synthetic' controls, when M = 2\n",
    "synth_cont <- add_m_control(matchout_m2, data, m_num =2)\n",
    "plot_data(food_kilos, tr, synth_cont, m_num = 2)"
   ]
  },
  {
   "cell_type": "markdown",
   "metadata": {
    "collapsed": false
   },
   "source": [
    "---"
   ]
  },
  {
   "cell_type": "markdown",
   "metadata": {
    "collapsed": false
   },
   "source": [
    "### Dataset 4A (with ties)"
   ]
  },
  {
   "cell_type": "code",
   "execution_count": 6,
   "metadata": {
    "collapsed": false
   },
   "outputs": [
   ],
   "source": [
    "food_kilos <- c(180, 200, 220, 250, 280)\n",
    "tr <- c(0,1,0, 1, 0)\n",
    "data <- cbind(food_kilos, tr)"
   ]
  },
  {
   "cell_type": "code",
   "execution_count": 7,
   "metadata": {
    "collapsed": false
   },
   "outputs": [
    {
     "name": "stderr",
     "output_type": "stream",
     "text": [
      "Loading required namespace: rgenoud\n"
     ]
    },
    {
     "name": "stdout",
     "output_type": "stream",
     "text": [
      "\n",
      "\n",
      "Tue Dec 17 02:52:51 2019\n",
      "Domains:\n",
      " 0.000000e+00   <=  X1   <=    1.000000e+03 \n",
      "\n",
      "Data Type: Floating Point\n",
      "Operators (code number, name, population) \n",
      "\t(1) Cloning........................... \t22\n",
      "\t(2) Uniform Mutation.................. \t25\n",
      "\t(3) Boundary Mutation................. \t25\n",
      "\t(4) Non-Uniform Mutation.............. \t25\n",
      "\t(5) Polytope Crossover................ \t25\n",
      "\t(6) Simple Crossover.................. \t26\n",
      "\t(7) Whole Non-Uniform Mutation........ \t25\n",
      "\t(8) Heuristic Crossover............... \t26\n",
      "\t(9) Local-Minimum Crossover........... \t0\n",
      "\n",
      "SOFT Maximum Number of Generations: 10\n",
      "Maximum Nonchanging Generations: 25\n",
      "Population size       : 200\n",
      "Convergence Tolerance: 1.000000e-03\n",
      "\n",
      "Not Using the BFGS Derivative Based Optimizer on the Best Individual Each Generation.\n",
      "Not Checking Gradients before Stopping.\n",
      "Using Out of Bounds Individuals.\n",
      "\n",
      "Maximization Problem.\n",
      "GENERATION: 0 (initializing the population)\n",
      "Lexical Fit..... 9.996333e-01  1.000000e+00  \n",
      "#unique......... 200, #Total UniqueCount: 200\n",
      "var 1:\n",
      "best............ 1.000000e+00\n",
      "mean............ 5.194636e+02\n",
      "variance........ 8.444990e+04\n",
      "\n",
      "GENERATION: 1\n",
      "Lexical Fit..... 9.996333e-01  1.000000e+00  \n",
      "#unique......... 114, #Total UniqueCount: 314\n",
      "var 1:\n",
      "best............ 1.000000e+00\n",
      "mean............ 3.218474e+02\n",
      "variance........ 1.023359e+05\n",
      "\n",
      "GENERATION: 2\n",
      "Lexical Fit..... 9.996333e-01  1.000000e+00  \n",
      "#unique......... 125, #Total UniqueCount: 439\n",
      "var 1:\n",
      "best............ 1.000000e+00\n",
      "mean............ 3.060099e+02\n",
      "variance........ 1.042799e+05\n",
      "\n",
      "GENERATION: 3\n",
      "Lexical Fit..... 9.996333e-01  1.000000e+00  \n",
      "#unique......... 122, #Total UniqueCount: 561\n",
      "var 1:\n",
      "best............ 1.000000e+00\n",
      "mean............ 3.741134e+02\n",
      "variance........ 1.073625e+05\n",
      "\n",
      "GENERATION: 4\n",
      "Lexical Fit..... 9.996333e-01  1.000000e+00  \n",
      "#unique......... 117, #Total UniqueCount: 678\n",
      "var 1:\n",
      "best............ 1.000000e+00\n",
      "mean............ 3.040068e+02\n",
      "variance........ 9.927209e+04\n",
      "\n",
      "GENERATION: 5\n",
      "Lexical Fit..... 9.996333e-01  1.000000e+00  \n",
      "#unique......... 112, #Total UniqueCount: 790\n",
      "var 1:\n",
      "best............ 1.000000e+00\n",
      "mean............ 2.892047e+02\n",
      "variance........ 1.104395e+05\n",
      "\n",
      "GENERATION: 6\n",
      "Lexical Fit..... 9.996333e-01  1.000000e+00  \n",
      "#unique......... 122, #Total UniqueCount: 912\n",
      "var 1:\n",
      "best............ 1.000000e+00\n",
      "mean............ 2.973305e+02\n",
      "variance........ 1.037714e+05\n",
      "\n",
      "GENERATION: 7\n",
      "Lexical Fit..... 9.996333e-01  1.000000e+00  \n",
      "#unique......... 119, #Total UniqueCount: 1031\n",
      "var 1:\n",
      "best............ 1.000000e+00\n",
      "mean............ 2.793140e+02\n",
      "variance........ 9.562160e+04\n",
      "\n",
      "GENERATION: 8\n",
      "Lexical Fit..... 9.996333e-01  1.000000e+00  \n",
      "#unique......... 120, #Total UniqueCount: 1151\n",
      "var 1:\n",
      "best............ 1.000000e+00\n",
      "mean............ 2.923303e+02\n",
      "variance........ 1.032324e+05\n",
      "\n",
      "GENERATION: 9\n",
      "Lexical Fit..... 9.996333e-01  1.000000e+00  \n",
      "#unique......... 122, #Total UniqueCount: 1273\n",
      "var 1:\n",
      "best............ 1.000000e+00\n",
      "mean............ 3.118651e+02\n",
      "variance........ 1.082574e+05\n",
      "\n",
      "GENERATION: 10\n",
      "Lexical Fit..... 9.996333e-01  1.000000e+00  \n",
      "#unique......... 122, #Total UniqueCount: 1395\n",
      "var 1:\n",
      "best............ 1.000000e+00\n",
      "mean............ 2.761715e+02\n",
      "variance........ 1.072400e+05\n",
      "\n",
      "Increasing 'max.generations' limit by 25 generations to 35 because the fitness is still impoving.\n",
      "\n",
      "\n",
      "GENERATION: 11\n",
      "Lexical Fit..... 9.996333e-01  1.000000e+00  \n",
      "#unique......... 120, #Total UniqueCount: 1515\n",
      "var 1:\n",
      "best............ 1.000000e+00\n",
      "mean............ 3.100579e+02\n",
      "variance........ 9.973700e+04\n",
      "\n",
      "GENERATION: 12\n",
      "Lexical Fit..... 9.996333e-01  1.000000e+00  \n",
      "#unique......... 117, #Total UniqueCount: 1632\n",
      "var 1:\n",
      "best............ 1.000000e+00\n",
      "mean............ 3.228460e+02\n",
      "variance........ 9.917361e+04\n",
      "\n",
      "GENERATION: 13\n",
      "Lexical Fit..... 9.996333e-01  1.000000e+00  \n",
      "#unique......... 113, #Total UniqueCount: 1745\n",
      "var 1:\n",
      "best............ 1.000000e+00\n",
      "mean............ 2.827289e+02\n",
      "variance........ 9.764667e+04\n",
      "\n",
      "GENERATION: 14\n",
      "Lexical Fit..... 9.996333e-01  1.000000e+00  \n",
      "#unique......... 124, #Total UniqueCount: 1869\n",
      "var 1:\n",
      "best............ 1.000000e+00\n",
      "mean............ 3.340046e+02\n",
      "variance........ 1.011418e+05\n",
      "\n",
      "GENERATION: 15\n",
      "Lexical Fit..... 9.996333e-01  1.000000e+00  \n",
      "#unique......... 121, #Total UniqueCount: 1990\n",
      "var 1:\n",
      "best............ 1.000000e+00\n",
      "mean............ 3.113179e+02\n",
      "variance........ 1.009587e+05\n",
      "\n",
      "GENERATION: 16\n",
      "Lexical Fit..... 9.996333e-01  1.000000e+00  \n",
      "#unique......... 115, #Total UniqueCount: 2105\n",
      "var 1:\n",
      "best............ 1.000000e+00\n",
      "mean............ 3.313671e+02\n",
      "variance........ 9.755451e+04\n",
      "\n",
      "GENERATION: 17\n",
      "Lexical Fit..... 9.996333e-01  1.000000e+00  \n",
      "#unique......... 126, #Total UniqueCount: 2231\n",
      "var 1:\n",
      "best............ 1.000000e+00\n",
      "mean............ 3.179707e+02\n",
      "variance........ 1.062336e+05\n",
      "\n",
      "GENERATION: 18\n",
      "Lexical Fit..... 9.996333e-01  1.000000e+00  \n",
      "#unique......... 128, #Total UniqueCount: 2359\n",
      "var 1:\n",
      "best............ 1.000000e+00\n",
      "mean............ 3.235783e+02\n",
      "variance........ 1.005420e+05\n",
      "\n",
      "GENERATION: 19\n",
      "Lexical Fit..... 9.996333e-01  1.000000e+00  \n",
      "#unique......... 124, #Total UniqueCount: 2483\n",
      "var 1:\n",
      "best............ 1.000000e+00\n",
      "mean............ 3.348145e+02\n",
      "variance........ 1.095041e+05\n",
      "\n",
      "GENERATION: 20\n",
      "Lexical Fit..... 9.996333e-01  1.000000e+00  \n",
      "#unique......... 126, #Total UniqueCount: 2609\n",
      "var 1:\n",
      "best............ 1.000000e+00\n",
      "mean............ 3.048184e+02\n",
      "variance........ 9.345425e+04\n",
      "\n",
      "GENERATION: 21\n",
      "Lexical Fit..... 9.996333e-01  1.000000e+00  \n",
      "#unique......... 124, #Total UniqueCount: 2733\n",
      "var 1:\n",
      "best............ 1.000000e+00\n",
      "mean............ 3.351634e+02\n",
      "variance........ 1.020968e+05\n",
      "\n",
      "GENERATION: 22\n",
      "Lexical Fit..... 9.996333e-01  1.000000e+00  \n",
      "#unique......... 126, #Total UniqueCount: 2859\n",
      "var 1:\n",
      "best............ 1.000000e+00\n",
      "mean............ 3.129834e+02\n",
      "variance........ 9.986982e+04\n",
      "\n",
      "GENERATION: 23\n",
      "Lexical Fit..... 9.996333e-01  1.000000e+00  \n",
      "#unique......... 117, #Total UniqueCount: 2976\n",
      "var 1:\n",
      "best............ 1.000000e+00\n",
      "mean............ 2.896744e+02\n",
      "variance........ 9.308365e+04\n",
      "\n",
      "GENERATION: 24\n",
      "Lexical Fit..... 9.996333e-01  1.000000e+00  \n",
      "#unique......... 114, #Total UniqueCount: 3090\n",
      "var 1:\n",
      "best............ 1.000000e+00\n",
      "mean............ 3.347128e+02\n",
      "variance........ 9.978842e+04\n",
      "\n",
      "GENERATION: 25\n",
      "Lexical Fit..... 9.996333e-01  1.000000e+00  \n",
      "#unique......... 119, #Total UniqueCount: 3209\n",
      "var 1:\n",
      "best............ 1.000000e+00\n",
      "mean............ 3.224758e+02\n",
      "variance........ 1.061387e+05\n",
      "\n",
      "GENERATION: 26\n",
      "Lexical Fit..... 9.996333e-01  1.000000e+00  \n",
      "#unique......... 120, #Total UniqueCount: 3329\n",
      "var 1:\n",
      "best............ 1.000000e+00\n",
      "mean............ 3.038945e+02\n",
      "variance........ 1.073533e+05\n",
      "\n",
      "'wait.generations' limit reached.\n",
      "No significant improvement in 25 generations.\n",
      "\n",
      "Solution Lexical Fitness Value:\n",
      "9.996333e-01  1.000000e+00  \n",
      "\n",
      "Parameters at the Solution:\n",
      "\n",
      " X[ 1] :\t1.000000e+00\n",
      "\n",
      "Solution Found Generation 1\n",
      "Number of Generations Run 26\n",
      "\n",
      "Tue Dec 17 02:52:54 2019\n",
      "Total run time : 0 hours 0 minutes and 3 seconds\n"
     ]
    },
    {
     "data": {
      "text/html": [
       "<ol class=list-inline>\n",
       "\t<li>1</li>\n",
       "\t<li>3</li>\n",
       "\t<li>3</li>\n",
       "\t<li>5</li>\n",
       "</ol>\n"
      ],
      "text/latex": [
       "\\begin{enumerate*}\n",
       "\\item 1\n",
       "\\item 3\n",
       "\\item 3\n",
       "\\item 5\n",
       "\\end{enumerate*}\n"
      ],
      "text/markdown": [
       "1. 1\n",
       "2. 3\n",
       "3. 3\n",
       "4. 5\n",
       "\n",
       "\n"
      ],
      "text/plain": [
       "[1] 1 3 3 5"
      ]
     },
     "execution_count": 7,
     "metadata": {
     },
     "output_type": "execute_result"
    },
    {
     "data": {
      "text/html": [
       "<ol class=list-inline>\n",
       "\t<li>2</li>\n",
       "\t<li>2</li>\n",
       "\t<li>4</li>\n",
       "\t<li>4</li>\n",
       "</ol>\n"
      ],
      "text/latex": [
       "\\begin{enumerate*}\n",
       "\\item 2\n",
       "\\item 2\n",
       "\\item 4\n",
       "\\item 4\n",
       "\\end{enumerate*}\n"
      ],
      "text/markdown": [
       "1. 2\n",
       "2. 2\n",
       "3. 4\n",
       "4. 4\n",
       "\n",
       "\n"
      ],
      "text/plain": [
       "[1] 2 2 4 4"
      ]
     },
     "execution_count": 7,
     "metadata": {
     },
     "output_type": "execute_result"
    },
    {
     "name": "stdout",
     "output_type": "stream",
     "text": [
      "\n",
      "***** (V1) food_kilos *****\n",
      "                       Before Matching \t \t After Matching\n",
      "mean treatment........        225 \t \t        225 \n",
      "mean control..........     226.67 \t \t        225 \n",
      "std mean diff.........     -4.714 \t \t          0 \n",
      "\n",
      "mean raw eQQ diff.....         25 \t \t         25 \n",
      "med  raw eQQ diff.....         25 \t \t         25 \n",
      "max  raw eQQ diff.....         30 \t \t         30 \n",
      "\n",
      "mean eCDF diff........        0.2 \t \t        0.2 \n",
      "med  eCDF diff........    0.16667 \t \t       0.25 \n",
      "max  eCDF diff........    0.33333 \t \t       0.25 \n",
      "\n",
      "var ratio (Tr/Co).....    0.49342 \t \t     0.4902 \n",
      "T-test p-value........    0.96815 \t \t          1 \n",
      "KS Bootstrap p-value..       0.92 \t \t      0.986 \n",
      "KS Naive p-value......          1 \t \t    0.99963 \n",
      "KS Statistic..........    0.33333 \t \t       0.25 \n",
      "\n"
     ]
    },
    {
     "data": {
      "text/html": [
       "0.92"
      ],
      "text/latex": [
       "0.92"
      ],
      "text/markdown": [
       "0.92"
      ],
      "text/plain": [
       "[1] 0.92"
      ]
     },
     "execution_count": 7,
     "metadata": {
     },
     "output_type": "execute_result"
    },
    {
     "data": {
      "text/html": [
       "0.986"
      ],
      "text/latex": [
       "0.986"
      ],
      "text/markdown": [
       "0.986"
      ],
      "text/plain": [
       "[1] 0.986"
      ]
     },
     "execution_count": 7,
     "metadata": {
     },
     "output_type": "execute_result"
    }
   ],
   "source": [
    "# M = 1 matching\n",
    "genout_m1<- GenMatch(X = food_kilos, Tr = tr, M=1, pop.size=200, max.generations=10, wait.generations=25) \n",
    "matchout_m1 <- Match(X = food_kilos, Tr = tr, M=1, Weight.matrix=genout_m1) \n",
    "matchout_m1$index.control  \n",
    "matchout_m1$index.treated \n",
    "\n",
    "mb.out_m1 <- MatchBalance(tr~food_kilos, match.out = matchout_m1, data = data)\n",
    "mb.out_m1$BMsmallest.p.value \n",
    "mb.out_m1$AMsmallest.p.value "
   ]
  },
  {
   "cell_type": "markdown",
   "metadata": {
    "collapsed": false
   },
   "source": [
    "#### What's going on? 1:1 matching is better than no matching: [NO < 1:1 == 0.918  < 0.97]"
   ]
  },
  {
   "cell_type": "code",
   "execution_count": 8,
   "metadata": {
    "collapsed": false
   },
   "outputs": [
    {
     "name": "stdout",
     "output_type": "stream",
     "text": [
      "\n",
      "\n",
      "Tue Dec 17 02:52:58 2019\n",
      "Domains:\n",
      " 0.000000e+00   <=  X1   <=    1.000000e+03 \n",
      "\n",
      "Data Type: Floating Point\n",
      "Operators (code number, name, population) \n",
      "\t(1) Cloning........................... \t22\n",
      "\t(2) Uniform Mutation.................. \t25\n",
      "\t(3) Boundary Mutation................. \t25\n",
      "\t(4) Non-Uniform Mutation.............. \t25\n",
      "\t(5) Polytope Crossover................ \t25\n",
      "\t(6) Simple Crossover.................. \t26\n",
      "\t(7) Whole Non-Uniform Mutation........ \t25\n",
      "\t(8) Heuristic Crossover............... \t26\n",
      "\t(9) Local-Minimum Crossover........... \t0\n",
      "\n",
      "SOFT Maximum Number of Generations: 10\n",
      "Maximum Nonchanging Generations: 25\n",
      "Population size       : 200\n",
      "Convergence Tolerance: 1.000000e-03\n",
      "\n",
      "Not Using the BFGS Derivative Based Optimizer on the Best Individual Each Generation.\n",
      "Not Checking Gradients before Stopping.\n",
      "Using Out of Bounds Individuals.\n",
      "\n",
      "Maximization Problem.\n",
      "GENERATION: 0 (initializing the population)\n",
      "Lexical Fit..... 9.996333e-01  1.000000e+00  \n",
      "#unique......... 200, #Total UniqueCount: 200\n",
      "var 1:\n",
      "best............ 1.000000e+00\n",
      "mean............ 5.237940e+02\n",
      "variance........ 8.071099e+04\n",
      "\n",
      "GENERATION: 1\n",
      "Lexical Fit..... 9.996333e-01  1.000000e+00  \n",
      "#unique......... 125, #Total UniqueCount: 325\n",
      "var 1:\n",
      "best............ 1.000000e+00\n",
      "mean............ 2.997876e+02\n",
      "variance........ 8.196292e+04\n",
      "\n",
      "GENERATION: 2\n",
      "Lexical Fit..... 9.996333e-01  1.000000e+00  \n",
      "#unique......... 129, #Total UniqueCount: 454\n",
      "var 1:\n",
      "best............ 1.000000e+00\n",
      "mean............ 2.659288e+02\n",
      "variance........ 7.203942e+04\n",
      "\n",
      "GENERATION: 3\n",
      "Lexical Fit..... 9.996333e-01  1.000000e+00  \n",
      "#unique......... 119, #Total UniqueCount: 573\n",
      "var 1:\n",
      "best............ 1.000000e+00\n",
      "mean............ 2.597159e+02\n",
      "variance........ 7.840635e+04\n",
      "\n",
      "GENERATION: 4\n",
      "Lexical Fit..... 9.996333e-01  1.000000e+00  \n",
      "#unique......... 116, #Total UniqueCount: 689\n",
      "var 1:\n",
      "best............ 1.000000e+00\n",
      "mean............ 2.736334e+02\n",
      "variance........ 8.433380e+04\n",
      "\n",
      "GENERATION: 5\n",
      "Lexical Fit..... 9.996333e-01  1.000000e+00  \n",
      "#unique......... 121, #Total UniqueCount: 810\n",
      "var 1:\n",
      "best............ 1.000000e+00\n",
      "mean............ 2.478700e+02\n",
      "variance........ 8.226624e+04\n",
      "\n",
      "GENERATION: 6\n",
      "Lexical Fit..... 9.996333e-01  1.000000e+00  \n",
      "#unique......... 117, #Total UniqueCount: 927\n",
      "var 1:\n",
      "best............ 1.000000e+00\n",
      "mean............ 2.481418e+02\n",
      "variance........ 7.935786e+04\n",
      "\n",
      "GENERATION: 7\n",
      "Lexical Fit..... 9.996333e-01  1.000000e+00  \n",
      "#unique......... 114, #Total UniqueCount: 1041\n",
      "var 1:\n",
      "best............ 1.000000e+00\n",
      "mean............ 2.439882e+02\n",
      "variance........ 7.651739e+04\n",
      "\n",
      "GENERATION: 8\n",
      "Lexical Fit..... 9.996333e-01  1.000000e+00  \n",
      "#unique......... 124, #Total UniqueCount: 1165\n",
      "var 1:\n",
      "best............ 1.000000e+00\n",
      "mean............ 2.967199e+02\n",
      "variance........ 8.888007e+04\n",
      "\n",
      "GENERATION: 9\n",
      "Lexical Fit..... 9.996333e-01  1.000000e+00  \n",
      "#unique......... 127, #Total UniqueCount: 1292\n",
      "var 1:\n",
      "best............ 1.000000e+00\n",
      "mean............ 2.477428e+02\n",
      "variance........ 8.032322e+04\n",
      "\n",
      "GENERATION: 10\n",
      "Lexical Fit..... 9.996333e-01  1.000000e+00  \n",
      "#unique......... 131, #Total UniqueCount: 1423\n",
      "var 1:\n",
      "best............ 1.000000e+00\n",
      "mean............ 2.480632e+02\n",
      "variance........ 8.570652e+04\n",
      "\n",
      "Increasing 'max.generations' limit by 25 generations to 35 because the fitness is still impoving.\n",
      "\n",
      "\n",
      "GENERATION: 11\n",
      "Lexical Fit..... 9.996333e-01  1.000000e+00  \n",
      "#unique......... 119, #Total UniqueCount: 1542\n",
      "var 1:\n",
      "best............ 1.000000e+00\n",
      "mean............ 2.685542e+02\n",
      "variance........ 8.488801e+04\n",
      "\n",
      "GENERATION: 12\n",
      "Lexical Fit..... 9.996333e-01  1.000000e+00  \n",
      "#unique......... 123, #Total UniqueCount: 1665\n",
      "var 1:\n",
      "best............ 1.000000e+00\n",
      "mean............ 2.412538e+02\n",
      "variance........ 8.098429e+04\n",
      "\n",
      "GENERATION: 13\n",
      "Lexical Fit..... 9.996333e-01  1.000000e+00  \n",
      "#unique......... 114, #Total UniqueCount: 1779\n",
      "var 1:\n",
      "best............ 1.000000e+00\n",
      "mean............ 2.526699e+02\n",
      "variance........ 7.551038e+04\n",
      "\n",
      "GENERATION: 14\n",
      "Lexical Fit..... 9.996333e-01  1.000000e+00  \n",
      "#unique......... 120, #Total UniqueCount: 1899\n",
      "var 1:\n",
      "best............ 1.000000e+00\n",
      "mean............ 2.561848e+02\n",
      "variance........ 7.596566e+04\n",
      "\n",
      "GENERATION: 15\n",
      "Lexical Fit..... 9.996333e-01  1.000000e+00  \n",
      "#unique......... 123, #Total UniqueCount: 2022\n",
      "var 1:\n",
      "best............ 1.000000e+00\n",
      "mean............ 2.540376e+02\n",
      "variance........ 8.061530e+04\n",
      "\n",
      "GENERATION: 16\n",
      "Lexical Fit..... 9.996333e-01  1.000000e+00  \n",
      "#unique......... 127, #Total UniqueCount: 2149\n",
      "var 1:\n",
      "best............ 1.000000e+00\n",
      "mean............ 2.826691e+02\n",
      "variance........ 8.393288e+04\n",
      "\n",
      "GENERATION: 17\n",
      "Lexical Fit..... 9.996333e-01  1.000000e+00  \n",
      "#unique......... 123, #Total UniqueCount: 2272\n",
      "var 1:\n",
      "best............ 1.000000e+00\n",
      "mean............ 2.593540e+02\n",
      "variance........ 8.158104e+04\n",
      "\n",
      "GENERATION: 18\n",
      "Lexical Fit..... 9.996333e-01  1.000000e+00  \n",
      "#unique......... 122, #Total UniqueCount: 2394\n",
      "var 1:\n",
      "best............ 1.000000e+00\n",
      "mean............ 2.458692e+02\n",
      "variance........ 7.848337e+04\n",
      "\n",
      "GENERATION: 19\n",
      "Lexical Fit..... 9.996333e-01  1.000000e+00  \n",
      "#unique......... 126, #Total UniqueCount: 2520\n",
      "var 1:\n",
      "best............ 1.000000e+00\n",
      "mean............ 2.902102e+02\n",
      "variance........ 7.886970e+04\n",
      "\n",
      "GENERATION: 20\n",
      "Lexical Fit..... 9.996333e-01  1.000000e+00  \n",
      "#unique......... 121, #Total UniqueCount: 2641\n",
      "var 1:\n",
      "best............ 1.000000e+00\n",
      "mean............ 2.695101e+02\n",
      "variance........ 7.945747e+04\n",
      "\n",
      "GENERATION: 21\n",
      "Lexical Fit..... 9.996333e-01  1.000000e+00  \n",
      "#unique......... 122, #Total UniqueCount: 2763\n",
      "var 1:\n",
      "best............ 1.000000e+00\n",
      "mean............ 2.794471e+02\n",
      "variance........ 8.655499e+04\n",
      "\n",
      "GENERATION: 22\n",
      "Lexical Fit..... 9.996333e-01  1.000000e+00  \n",
      "#unique......... 116, #Total UniqueCount: 2879\n",
      "var 1:\n",
      "best............ 1.000000e+00\n",
      "mean............ 2.499875e+02\n",
      "variance........ 9.243954e+04\n",
      "\n",
      "GENERATION: 23\n",
      "Lexical Fit..... 9.996333e-01  1.000000e+00  \n",
      "#unique......... 118, #Total UniqueCount: 2997\n",
      "var 1:\n",
      "best............ 1.000000e+00\n",
      "mean............ 2.636478e+02\n",
      "variance........ 7.726165e+04\n",
      "\n",
      "GENERATION: 24\n",
      "Lexical Fit..... 9.996333e-01  1.000000e+00  \n",
      "#unique......... 122, #Total UniqueCount: 3119\n",
      "var 1:\n",
      "best............ 1.000000e+00\n",
      "mean............ 2.693897e+02\n",
      "variance........ 7.877154e+04\n",
      "\n",
      "GENERATION: 25\n",
      "Lexical Fit..... 9.996333e-01  1.000000e+00  \n",
      "#unique......... 124, #Total UniqueCount: 3243\n",
      "var 1:\n",
      "best............ 1.000000e+00\n",
      "mean............ 2.637687e+02\n",
      "variance........ 8.112095e+04\n",
      "\n",
      "GENERATION: 26\n",
      "Lexical Fit..... 9.996333e-01  1.000000e+00  \n",
      "#unique......... 123, #Total UniqueCount: 3366\n",
      "var 1:\n",
      "best............ 1.000000e+00\n",
      "mean............ 2.504928e+02\n",
      "variance........ 8.336785e+04\n",
      "\n",
      "'wait.generations' limit reached.\n",
      "No significant improvement in 25 generations.\n",
      "\n",
      "Solution Lexical Fitness Value:\n",
      "9.996333e-01  1.000000e+00  \n",
      "\n",
      "Parameters at the Solution:\n",
      "\n",
      " X[ 1] :\t1.000000e+00\n",
      "\n",
      "Solution Found Generation 1\n",
      "Number of Generations Run 26\n",
      "\n",
      "Tue Dec 17 02:53:02 2019\n",
      "Total run time : 0 hours 0 minutes and 4 seconds\n"
     ]
    },
    {
     "data": {
      "text/html": [
       "<ol class=list-inline>\n",
       "\t<li>1</li>\n",
       "\t<li>3</li>\n",
       "\t<li>3</li>\n",
       "\t<li>5</li>\n",
       "</ol>\n"
      ],
      "text/latex": [
       "\\begin{enumerate*}\n",
       "\\item 1\n",
       "\\item 3\n",
       "\\item 3\n",
       "\\item 5\n",
       "\\end{enumerate*}\n"
      ],
      "text/markdown": [
       "1. 1\n",
       "2. 3\n",
       "3. 3\n",
       "4. 5\n",
       "\n",
       "\n"
      ],
      "text/plain": [
       "[1] 1 3 3 5"
      ]
     },
     "execution_count": 8,
     "metadata": {
     },
     "output_type": "execute_result"
    },
    {
     "data": {
      "text/html": [
       "<ol class=list-inline>\n",
       "\t<li>2</li>\n",
       "\t<li>2</li>\n",
       "\t<li>4</li>\n",
       "\t<li>4</li>\n",
       "</ol>\n"
      ],
      "text/latex": [
       "\\begin{enumerate*}\n",
       "\\item 2\n",
       "\\item 2\n",
       "\\item 4\n",
       "\\item 4\n",
       "\\end{enumerate*}\n"
      ],
      "text/markdown": [
       "1. 2\n",
       "2. 2\n",
       "3. 4\n",
       "4. 4\n",
       "\n",
       "\n"
      ],
      "text/plain": [
       "[1] 2 2 4 4"
      ]
     },
     "execution_count": 8,
     "metadata": {
     },
     "output_type": "execute_result"
    },
    {
     "name": "stdout",
     "output_type": "stream",
     "text": [
      "\n",
      "***** (V1) food_kilos *****\n",
      "                       Before Matching \t \t After Matching\n",
      "mean treatment........        225 \t \t        225 \n",
      "mean control..........     226.67 \t \t        225 \n",
      "std mean diff.........     -4.714 \t \t          0 \n",
      "\n",
      "mean raw eQQ diff.....         25 \t \t         25 \n",
      "med  raw eQQ diff.....         25 \t \t         25 \n",
      "max  raw eQQ diff.....         30 \t \t         30 \n",
      "\n",
      "mean eCDF diff........        0.2 \t \t        0.2 \n",
      "med  eCDF diff........    0.16667 \t \t       0.25 \n",
      "max  eCDF diff........    0.33333 \t \t       0.25 \n",
      "\n",
      "var ratio (Tr/Co).....    0.49342 \t \t     0.4902 \n",
      "T-test p-value........    0.96815 \t \t          1 \n",
      "KS Bootstrap p-value..      0.918 \t \t       0.97 \n",
      "KS Naive p-value......          1 \t \t    0.99963 \n",
      "KS Statistic..........    0.33333 \t \t       0.25 \n",
      "\n"
     ]
    },
    {
     "data": {
      "text/html": [
       "0.918"
      ],
      "text/latex": [
       "0.918"
      ],
      "text/markdown": [
       "0.918"
      ],
      "text/plain": [
       "[1] 0.918"
      ]
     },
     "execution_count": 8,
     "metadata": {
     },
     "output_type": "execute_result"
    },
    {
     "data": {
      "text/html": [
       "0.97"
      ],
      "text/latex": [
       "0.97"
      ],
      "text/markdown": [
       "0.97"
      ],
      "text/plain": [
       "[1] 0.97"
      ]
     },
     "execution_count": 8,
     "metadata": {
     },
     "output_type": "execute_result"
    }
   ],
   "source": [
    "# M = 2 matching\n",
    "genout_m2<- GenMatch(X = food_kilos, Tr = tr, M=2,  pop.size=200, max.generations=10, wait.generations=25)\n",
    "matchout_m2 <- Match(X = food_kilos, Tr = tr, M=2, Weight.matrix=genout_m2)\n",
    "matchout_m2$index.control\n",
    "matchout_m2$index.treated\n",
    "\n",
    "mb.out_m2 <- MatchBalance(tr~food_kilos, match.out = matchout_m2, data = data)\n",
    "mb.out_m2$BMsmallest.p.value\n",
    "mb.out_m2$AMsmallest.p.value"
   ]
  },
  {
   "cell_type": "markdown",
   "metadata": {
    "collapsed": false
   },
   "source": [
    "#### What's going on? 1:2 matching is as good as 1:1 matching and they are better than NO matching [NO < 1:1 = 1:2 == 0.916 < 0.978 = 0.97]"
   ]
  },
  {
   "cell_type": "code",
   "execution_count": 35,
   "metadata": {
    "collapsed": false
   },
   "outputs": [
    {
     "data": {
      "image/png": "[encoded data removed]",
      "text/plain": [
       "plot without title"
      ]
     },
     "execution_count": 35,
     "metadata": {
     },
     "output_type": "execute_result"
    }
   ],
   "source": [
    "# plotting a graph with raw data - treated and controls\n",
    "plot_data(food_kilos, tr, m_num = 1) "
   ]
  },
  {
   "cell_type": "code",
   "execution_count": 9,
   "metadata": {
    "collapsed": false
   },
   "outputs": [
    {
     "data": {
      "image/png": "[encoded data removed]",
      "text/plain": [
       "plot without title"
      ]
     },
     "execution_count": 9,
     "metadata": {
     },
     "output_type": "execute_result"
    }
   ],
   "source": [
    "# plotting a graph with treated and 'synthetic' controls, when M = 1\n",
    "synth_cont <- add_m_control(matchout_m1, data, m_num =2) # m_num = 2, because matching woth ties is equivalent to M=2\n",
    "plot_data(food_kilos, tr, synth_cont, m_num = 2)\n",
    "points(x = c(200, 250), y = c(0, 0), col=\"blue\",xpd=NA)"
   ]
  },
  {
   "cell_type": "code",
   "execution_count": 34,
   "metadata": {
    "collapsed": false
   },
   "outputs": [
    {
     "data": {
      "image/png": "[encoded data removed]",
      "text/plain": [
       "plot without title"
      ]
     },
     "execution_count": 34,
     "metadata": {
     },
     "output_type": "execute_result"
    }
   ],
   "source": [
    "# plotting a graph with treated and 'synthetic' controls, when M = 2\n",
    "synth_cont <- add_m_control(matchout_m2, data, m_num =2)\n",
    "plot_data(food_kilos, tr, synth_cont, m_num = 2)"
   ]
  },
  {
   "cell_type": "markdown",
   "metadata": {
    "collapsed": false
   },
   "source": [
    "---"
   ]
  },
  {
   "cell_type": "markdown",
   "metadata": {
    "collapsed": false
   },
   "source": [
    "### Dataset 5 "
   ]
  },
  {
   "cell_type": "code",
   "execution_count": 47,
   "metadata": {
    "collapsed": false
   },
   "outputs": [
   ],
   "source": [
    "food_kilos <- c(200, 200, 200, 200, 200) \n",
    "tr <- c(0,1,0, 1, 0)\n",
    "data <- cbind(food_kilos, tr)"
   ]
  },
  {
   "cell_type": "code",
   "execution_count": 49,
   "metadata": {
    "collapsed": false
   },
   "outputs": [
    {
     "name": "stdout",
     "output_type": "stream",
     "text": [
      "\n",
      "\n",
      "Mon Dec 16 11:30:31 2019\n",
      "Domains:\n",
      " 0.000000e+00   <=  X1   <=    1.000000e+03 \n",
      "\n",
      "Data Type: Floating Point\n",
      "Operators (code number, name, population) \n",
      "\t(1) Cloning........................... \t22\n",
      "\t(2) Uniform Mutation.................. \t25\n",
      "\t(3) Boundary Mutation................. \t25\n",
      "\t(4) Non-Uniform Mutation.............. \t25\n",
      "\t(5) Polytope Crossover................ \t25\n",
      "\t(6) Simple Crossover.................. \t26\n",
      "\t(7) Whole Non-Uniform Mutation........ \t25\n",
      "\t(8) Heuristic Crossover............... \t26\n",
      "\t(9) Local-Minimum Crossover........... \t0\n",
      "\n",
      "SOFT Maximum Number of Generations: 10\n",
      "Maximum Nonchanging Generations: 25\n",
      "Population size       : 200\n",
      "Convergence Tolerance: 1.000000e-03\n",
      "\n",
      "Not Using the BFGS Derivative Based Optimizer on the Best Individual Each Generation.\n",
      "Not Checking Gradients before Stopping.\n",
      "Using Out of Bounds Individuals.\n",
      "\n",
      "Maximization Problem.\n",
      "GENERATION: 0 (initializing the population)\n",
      "Lexical Fit..... 1.000000e+00  1.000000e+00  \n",
      "#unique......... 200, #Total UniqueCount: 200\n",
      "var 1:\n",
      "best............ 1.000000e+00\n",
      "mean............ 5.061237e+02\n",
      "variance........ 7.981630e+04\n",
      "\n",
      "GENERATION: 1\n",
      "Lexical Fit..... 1.000000e+00  1.000000e+00  \n",
      "#unique......... 120, #Total UniqueCount: 320\n",
      "var 1:\n",
      "best............ 1.000000e+00\n",
      "mean............ 3.755609e+02\n",
      "variance........ 1.036567e+05\n",
      "\n",
      "GENERATION: 2\n",
      "Lexical Fit..... 1.000000e+00  1.000000e+00  \n",
      "#unique......... 125, #Total UniqueCount: 445\n",
      "var 1:\n",
      "best............ 1.000000e+00\n",
      "mean............ 3.840901e+02\n",
      "variance........ 1.126319e+05\n",
      "\n",
      "GENERATION: 3\n",
      "Lexical Fit..... 1.000000e+00  1.000000e+00  \n",
      "#unique......... 111, #Total UniqueCount: 556\n",
      "var 1:\n",
      "best............ 1.000000e+00\n",
      "mean............ 3.338586e+02\n",
      "variance........ 1.051304e+05\n",
      "\n",
      "GENERATION: 4\n",
      "Lexical Fit..... 1.000000e+00  1.000000e+00  \n",
      "#unique......... 126, #Total UniqueCount: 682\n",
      "var 1:\n",
      "best............ 1.000000e+00\n",
      "mean............ 3.822882e+02\n",
      "variance........ 1.022750e+05\n",
      "\n",
      "GENERATION: 5\n",
      "Lexical Fit..... 1.000000e+00  1.000000e+00  \n",
      "#unique......... 126, #Total UniqueCount: 808\n",
      "var 1:\n",
      "best............ 1.000000e+00\n",
      "mean............ 3.864406e+02\n",
      "variance........ 1.132243e+05\n",
      "\n",
      "GENERATION: 6\n",
      "Lexical Fit..... 1.000000e+00  1.000000e+00  \n",
      "#unique......... 118, #Total UniqueCount: 926\n",
      "var 1:\n",
      "best............ 1.000000e+00\n",
      "mean............ 3.704703e+02\n",
      "variance........ 1.022793e+05\n",
      "\n",
      "GENERATION: 7\n",
      "Lexical Fit..... 1.000000e+00  1.000000e+00  \n",
      "#unique......... 108, #Total UniqueCount: 1034\n",
      "var 1:\n",
      "best............ 1.000000e+00\n",
      "mean............ 3.793998e+02\n",
      "variance........ 1.010734e+05\n",
      "\n",
      "GENERATION: 8\n",
      "Lexical Fit..... 1.000000e+00  1.000000e+00  \n",
      "#unique......... 124, #Total UniqueCount: 1158\n",
      "var 1:\n",
      "best............ 1.000000e+00\n",
      "mean............ 3.317008e+02\n",
      "variance........ 1.021625e+05\n",
      "\n",
      "GENERATION: 9\n",
      "Lexical Fit..... 1.000000e+00  1.000000e+00  \n",
      "#unique......... 118, #Total UniqueCount: 1276\n",
      "var 1:\n",
      "best............ 1.000000e+00\n",
      "mean............ 3.516671e+02\n",
      "variance........ 1.086084e+05\n",
      "\n",
      "GENERATION: 10\n",
      "Lexical Fit..... 1.000000e+00  1.000000e+00  \n",
      "#unique......... 126, #Total UniqueCount: 1402\n",
      "var 1:\n",
      "best............ 1.000000e+00\n",
      "mean............ 3.827431e+02\n",
      "variance........ 1.089852e+05\n",
      "\n",
      "Increasing 'max.generations' limit by 25 generations to 35 because the fitness is still impoving.\n",
      "\n",
      "\n",
      "GENERATION: 11\n",
      "Lexical Fit..... 1.000000e+00  1.000000e+00  \n",
      "#unique......... 129, #Total UniqueCount: 1531\n",
      "var 1:\n",
      "best............ 1.000000e+00\n",
      "mean............ 3.723512e+02\n",
      "variance........ 1.062550e+05\n",
      "\n",
      "GENERATION: 12\n",
      "Lexical Fit..... 1.000000e+00  1.000000e+00  \n",
      "#unique......... 119, #Total UniqueCount: 1650\n",
      "var 1:\n",
      "best............ 1.000000e+00\n",
      "mean............ 3.160894e+02\n",
      "variance........ 1.048021e+05\n",
      "\n",
      "GENERATION: 13\n",
      "Lexical Fit..... 1.000000e+00  1.000000e+00  \n",
      "#unique......... 123, #Total UniqueCount: 1773\n",
      "var 1:\n",
      "best............ 1.000000e+00\n",
      "mean............ 3.681053e+02\n",
      "variance........ 1.016269e+05\n",
      "\n",
      "GENERATION: 14\n",
      "Lexical Fit..... 1.000000e+00  1.000000e+00  \n",
      "#unique......... 115, #Total UniqueCount: 1888\n",
      "var 1:\n",
      "best............ 1.000000e+00\n",
      "mean............ 3.503564e+02\n",
      "variance........ 1.103348e+05\n",
      "\n",
      "GENERATION: 15\n",
      "Lexical Fit..... 1.000000e+00  1.000000e+00  \n",
      "#unique......... 112, #Total UniqueCount: 2000\n",
      "var 1:\n",
      "best............ 1.000000e+00\n",
      "mean............ 3.412612e+02\n",
      "variance........ 9.560856e+04\n",
      "\n",
      "GENERATION: 16\n",
      "Lexical Fit..... 1.000000e+00  1.000000e+00  \n",
      "#unique......... 116, #Total UniqueCount: 2116\n",
      "var 1:\n",
      "best............ 1.000000e+00\n",
      "mean............ 3.829912e+02\n",
      "variance........ 1.066517e+05\n",
      "\n",
      "GENERATION: 17\n",
      "Lexical Fit..... 1.000000e+00  1.000000e+00  \n",
      "#unique......... 125, #Total UniqueCount: 2241\n",
      "var 1:\n",
      "best............ 1.000000e+00\n",
      "mean............ 3.571559e+02\n",
      "variance........ 1.010736e+05\n",
      "\n",
      "GENERATION: 18\n",
      "Lexical Fit..... 1.000000e+00  1.000000e+00  \n",
      "#unique......... 122, #Total UniqueCount: 2363\n",
      "var 1:\n",
      "best............ 1.000000e+00\n",
      "mean............ 3.628552e+02\n",
      "variance........ 1.033198e+05\n",
      "\n",
      "GENERATION: 19\n",
      "Lexical Fit..... 1.000000e+00  1.000000e+00  \n",
      "#unique......... 122, #Total UniqueCount: 2485\n",
      "var 1:\n",
      "best............ 1.000000e+00\n",
      "mean............ 3.759399e+02\n",
      "variance........ 1.078587e+05\n",
      "\n",
      "GENERATION: 20\n",
      "Lexical Fit..... 1.000000e+00  1.000000e+00  \n",
      "#unique......... 121, #Total UniqueCount: 2606\n",
      "var 1:\n",
      "best............ 1.000000e+00\n",
      "mean............ 3.552467e+02\n",
      "variance........ 9.767526e+04\n",
      "\n",
      "GENERATION: 21\n",
      "Lexical Fit..... 1.000000e+00  1.000000e+00  \n",
      "#unique......... 134, #Total UniqueCount: 2740\n",
      "var 1:\n",
      "best............ 1.000000e+00\n",
      "mean............ 3.511701e+02\n",
      "variance........ 1.040009e+05\n",
      "\n",
      "GENERATION: 22\n",
      "Lexical Fit..... 1.000000e+00  1.000000e+00  \n",
      "#unique......... 115, #Total UniqueCount: 2855\n",
      "var 1:\n",
      "best............ 1.000000e+00\n",
      "mean............ 3.217538e+02\n",
      "variance........ 9.427363e+04\n",
      "\n",
      "GENERATION: 23\n",
      "Lexical Fit..... 1.000000e+00  1.000000e+00  \n",
      "#unique......... 110, #Total UniqueCount: 2965\n",
      "var 1:\n",
      "best............ 1.000000e+00\n",
      "mean............ 3.594592e+02\n",
      "variance........ 1.048531e+05\n",
      "\n",
      "GENERATION: 24\n",
      "Lexical Fit..... 1.000000e+00  1.000000e+00  \n",
      "#unique......... 117, #Total UniqueCount: 3082\n",
      "var 1:\n",
      "best............ 1.000000e+00\n",
      "mean............ 3.488665e+02\n",
      "variance........ 1.102043e+05\n",
      "\n",
      "GENERATION: 25\n",
      "Lexical Fit..... 1.000000e+00  1.000000e+00  \n",
      "#unique......... 110, #Total UniqueCount: 3192\n",
      "var 1:\n",
      "best............ 1.000000e+00\n",
      "mean............ 3.068579e+02\n",
      "variance........ 1.024839e+05\n",
      "\n",
      "GENERATION: 26\n",
      "Lexical Fit..... 1.000000e+00  1.000000e+00  \n",
      "#unique......... 127, #Total UniqueCount: 3319\n",
      "var 1:\n",
      "best............ 1.000000e+00\n",
      "mean............ 3.874613e+02\n",
      "variance........ 1.112448e+05\n",
      "\n",
      "'wait.generations' limit reached.\n",
      "No significant improvement in 25 generations.\n",
      "\n",
      "Solution Lexical Fitness Value:\n",
      "1.000000e+00  1.000000e+00  \n",
      "\n",
      "Parameters at the Solution:\n",
      "\n",
      " X[ 1] :\t1.000000e+00\n",
      "\n",
      "Solution Found Generation 1\n",
      "Number of Generations Run 26\n",
      "\n",
      "Mon Dec 16 11:30:32 2019\n",
      "Total run time : 0 hours 0 minutes and 1 seconds\n"
     ]
    },
    {
     "data": {
      "text/html": [
       "<ol class=list-inline>\n",
       "\t<li>5</li>\n",
       "\t<li>5</li>\n",
       "</ol>\n"
      ],
      "text/latex": [
       "\\begin{enumerate*}\n",
       "\\item 5\n",
       "\\item 5\n",
       "\\end{enumerate*}\n"
      ],
      "text/markdown": [
       "1. 5\n",
       "2. 5\n",
       "\n",
       "\n"
      ],
      "text/plain": [
       "[1] 5 5"
      ]
     },
     "execution_count": 49,
     "metadata": {
     },
     "output_type": "execute_result"
    },
    {
     "data": {
      "text/html": [
       "<ol class=list-inline>\n",
       "\t<li>2</li>\n",
       "\t<li>4</li>\n",
       "</ol>\n"
      ],
      "text/latex": [
       "\\begin{enumerate*}\n",
       "\\item 2\n",
       "\\item 4\n",
       "\\end{enumerate*}\n"
      ],
      "text/markdown": [
       "1. 2\n",
       "2. 4\n",
       "\n",
       "\n"
      ],
      "text/plain": [
       "[1] 2 4"
      ]
     },
     "execution_count": 49,
     "metadata": {
     },
     "output_type": "execute_result"
    },
    {
     "name": "stdout",
     "output_type": "stream",
     "text": [
      "\n",
      "***** (V1) food_kilos *****\n",
      "                       Before Matching \t \t After Matching\n",
      "mean treatment........        200 \t \t        200 \n",
      "mean control..........        200 \t \t        200 \n",
      "std mean diff.........          0 \t \t          0 \n",
      "\n",
      "mean raw eQQ diff.....          0 \t \t          0 \n",
      "med  raw eQQ diff.....          0 \t \t          0 \n",
      "max  raw eQQ diff.....          0 \t \t          0 \n",
      "\n",
      "mean eCDF diff........          0 \t \t          0 \n",
      "med  eCDF diff........          0 \t \t          0 \n",
      "max  eCDF diff........          0 \t \t          0 \n",
      "\n",
      "var ratio (Tr/Co).....        NaN \t \t        NaN \n",
      "T-test p-value........          1 \t \t          1 \n",
      "\n"
     ]
    },
    {
     "data": {
      "text/html": [
       "1"
      ],
      "text/latex": [
       "1"
      ],
      "text/markdown": [
       "1"
      ],
      "text/plain": [
       "[1] 1"
      ]
     },
     "execution_count": 49,
     "metadata": {
     },
     "output_type": "execute_result"
    },
    {
     "data": {
      "text/html": [
       "1"
      ],
      "text/latex": [
       "1"
      ],
      "text/markdown": [
       "1"
      ],
      "text/plain": [
       "[1] 1"
      ]
     },
     "execution_count": 49,
     "metadata": {
     },
     "output_type": "execute_result"
    }
   ],
   "source": [
    "# M=1 matching\n",
    "genout_m1<- GenMatch(X = food_kilos, Tr = tr, M=1,  pop.size=200, max.generations=10, wait.generations=25, ties = F)\n",
    "matchout_m1 <- Match(X = food_kilos, Tr = tr, M=1, Weight.matrix=genout_m1, ties = F)\n",
    "matchout_m1$index.control\n",
    "matchout_m1$index.treated\n",
    "\n",
    "mb.out_m1 <- MatchBalance(tr~food_kilos, match.out = matchout_m1, data = data)\n",
    "mb.out_m1$BMsmallest.p.value\n",
    "mb.out_m1$AMsmallest.p.value"
   ]
  },
  {
   "cell_type": "markdown",
   "metadata": {
    "collapsed": false
   },
   "source": [
    "#### What's going on? 1:1 matching is as good as no matching [1:1 = NO == 1 = 1]\n",
    " - the homogeneity of the data and lack of any variance in control and treated units distributions."
   ]
  },
  {
   "cell_type": "code",
   "execution_count": 50,
   "metadata": {
    "collapsed": false
   },
   "outputs": [
    {
     "name": "stdout",
     "output_type": "stream",
     "text": [
      "\n",
      "\n",
      "Mon Dec 16 11:30:38 2019\n",
      "Domains:\n",
      " 0.000000e+00   <=  X1   <=    1.000000e+03 \n",
      "\n",
      "Data Type: Floating Point\n",
      "Operators (code number, name, population) \n",
      "\t(1) Cloning........................... \t22\n",
      "\t(2) Uniform Mutation.................. \t25\n",
      "\t(3) Boundary Mutation................. \t25\n",
      "\t(4) Non-Uniform Mutation.............. \t25\n",
      "\t(5) Polytope Crossover................ \t25\n",
      "\t(6) Simple Crossover.................. \t26\n",
      "\t(7) Whole Non-Uniform Mutation........ \t25\n",
      "\t(8) Heuristic Crossover............... \t26\n",
      "\t(9) Local-Minimum Crossover........... \t0\n",
      "\n",
      "SOFT Maximum Number of Generations: 10\n",
      "Maximum Nonchanging Generations: 25\n",
      "Population size       : 200\n",
      "Convergence Tolerance: 1.000000e-03\n",
      "\n",
      "Not Using the BFGS Derivative Based Optimizer on the Best Individual Each Generation.\n",
      "Not Checking Gradients before Stopping.\n",
      "Using Out of Bounds Individuals.\n",
      "\n",
      "Maximization Problem.\n",
      "GENERATION: 0 (initializing the population)\n",
      "Lexical Fit..... 1.000000e+00  1.000000e+00  \n",
      "#unique......... 200, #Total UniqueCount: 200\n",
      "var 1:\n",
      "best............ 1.000000e+00\n",
      "mean............ 5.065415e+02\n",
      "variance........ 8.401515e+04\n",
      "\n",
      "GENERATION: 1\n",
      "Lexical Fit..... 1.000000e+00  1.000000e+00  \n",
      "#unique......... 125, #Total UniqueCount: 325\n",
      "var 1:\n",
      "best............ 1.000000e+00\n",
      "mean............ 2.129223e+02\n",
      "variance........ 6.154909e+04\n",
      "\n",
      "GENERATION: 2\n",
      "Lexical Fit..... 1.000000e+00  1.000000e+00  \n",
      "#unique......... 131, #Total UniqueCount: 456\n",
      "var 1:\n",
      "best............ 1.000000e+00\n",
      "mean............ 2.138965e+02\n",
      "variance........ 6.472047e+04\n",
      "\n",
      "GENERATION: 3\n",
      "Lexical Fit..... 1.000000e+00  1.000000e+00  \n",
      "#unique......... 123, #Total UniqueCount: 579\n",
      "var 1:\n",
      "best............ 1.000000e+00\n",
      "mean............ 2.174950e+02\n",
      "variance........ 6.444461e+04\n",
      "\n",
      "GENERATION: 4\n",
      "Lexical Fit..... 1.000000e+00  1.000000e+00  \n",
      "#unique......... 123, #Total UniqueCount: 702\n",
      "var 1:\n",
      "best............ 1.000000e+00\n",
      "mean............ 2.536247e+02\n",
      "variance........ 6.579977e+04\n",
      "\n",
      "GENERATION: 5\n",
      "Lexical Fit..... 1.000000e+00  1.000000e+00  \n",
      "#unique......... 124, #Total UniqueCount: 826\n",
      "var 1:\n",
      "best............ 1.000000e+00\n",
      "mean............ 2.041752e+02\n",
      "variance........ 5.394115e+04\n",
      "\n",
      "GENERATION: 6\n",
      "Lexical Fit..... 1.000000e+00  1.000000e+00  \n",
      "#unique......... 120, #Total UniqueCount: 946\n",
      "var 1:\n",
      "best............ 1.000000e+00\n",
      "mean............ 2.201627e+02\n",
      "variance........ 5.499200e+04\n",
      "\n",
      "GENERATION: 7\n",
      "Lexical Fit..... 1.000000e+00  1.000000e+00  \n",
      "#unique......... 127, #Total UniqueCount: 1073\n",
      "var 1:\n",
      "best............ 1.000000e+00\n",
      "mean............ 2.066059e+02\n",
      "variance........ 6.155555e+04\n",
      "\n",
      "GENERATION: 8\n",
      "Lexical Fit..... 1.000000e+00  1.000000e+00  \n",
      "#unique......... 123, #Total UniqueCount: 1196\n",
      "var 1:\n",
      "best............ 1.000000e+00\n",
      "mean............ 2.360316e+02\n",
      "variance........ 7.167470e+04\n",
      "\n",
      "GENERATION: 9\n",
      "Lexical Fit..... 1.000000e+00  1.000000e+00  \n",
      "#unique......... 124, #Total UniqueCount: 1320\n",
      "var 1:\n",
      "best............ 1.000000e+00\n",
      "mean............ 1.853844e+02\n",
      "variance........ 5.768448e+04\n",
      "\n",
      "GENERATION: 10\n",
      "Lexical Fit..... 1.000000e+00  1.000000e+00  \n",
      "#unique......... 127, #Total UniqueCount: 1447\n",
      "var 1:\n",
      "best............ 1.000000e+00\n",
      "mean............ 2.079014e+02\n",
      "variance........ 5.008432e+04\n",
      "\n",
      "Increasing 'max.generations' limit by 25 generations to 35 because the fitness is still impoving.\n",
      "\n",
      "\n",
      "GENERATION: 11\n",
      "Lexical Fit..... 1.000000e+00  1.000000e+00  \n",
      "#unique......... 120, #Total UniqueCount: 1567\n",
      "var 1:\n",
      "best............ 1.000000e+00\n",
      "mean............ 1.933893e+02\n",
      "variance........ 5.457467e+04\n",
      "\n",
      "GENERATION: 12\n",
      "Lexical Fit..... 1.000000e+00  1.000000e+00  \n",
      "#unique......... 129, #Total UniqueCount: 1696\n",
      "var 1:\n",
      "best............ 1.000000e+00\n",
      "mean............ 1.829776e+02\n",
      "variance........ 5.948332e+04\n",
      "\n",
      "GENERATION: 13\n",
      "Lexical Fit..... 1.000000e+00  1.000000e+00  \n",
      "#unique......... 116, #Total UniqueCount: 1812\n",
      "var 1:\n",
      "best............ 1.000000e+00\n",
      "mean............ 1.934289e+02\n",
      "variance........ 5.590056e+04\n",
      "\n",
      "GENERATION: 14\n",
      "Lexical Fit..... 1.000000e+00  1.000000e+00  \n",
      "#unique......... 112, #Total UniqueCount: 1924\n",
      "var 1:\n",
      "best............ 1.000000e+00\n",
      "mean............ 2.069725e+02\n",
      "variance........ 6.343586e+04\n",
      "\n",
      "GENERATION: 15\n",
      "Lexical Fit..... 1.000000e+00  1.000000e+00  \n",
      "#unique......... 119, #Total UniqueCount: 2043\n",
      "var 1:\n",
      "best............ 1.000000e+00\n",
      "mean............ 2.358040e+02\n",
      "variance........ 5.784439e+04\n",
      "\n",
      "GENERATION: 16\n",
      "Lexical Fit..... 1.000000e+00  1.000000e+00  \n",
      "#unique......... 118, #Total UniqueCount: 2161\n",
      "var 1:\n",
      "best............ 1.000000e+00\n",
      "mean............ 2.200337e+02\n",
      "variance........ 6.146100e+04\n",
      "\n",
      "GENERATION: 17\n",
      "Lexical Fit..... 1.000000e+00  1.000000e+00  \n",
      "#unique......... 119, #Total UniqueCount: 2280\n",
      "var 1:\n",
      "best............ 1.000000e+00\n",
      "mean............ 2.206970e+02\n",
      "variance........ 6.135026e+04\n",
      "\n",
      "GENERATION: 18\n",
      "Lexical Fit..... 1.000000e+00  1.000000e+00  \n",
      "#unique......... 134, #Total UniqueCount: 2414\n",
      "var 1:\n",
      "best............ 1.000000e+00\n",
      "mean............ 2.374662e+02\n",
      "variance........ 6.655583e+04\n",
      "\n",
      "GENERATION: 19\n",
      "Lexical Fit..... 1.000000e+00  1.000000e+00  \n",
      "#unique......... 120, #Total UniqueCount: 2534\n",
      "var 1:\n",
      "best............ 1.000000e+00\n",
      "mean............ 2.110071e+02\n",
      "variance........ 5.939945e+04\n",
      "\n",
      "GENERATION: 20\n",
      "Lexical Fit..... 1.000000e+00  1.000000e+00  \n",
      "#unique......... 119, #Total UniqueCount: 2653\n",
      "var 1:\n",
      "best............ 1.000000e+00\n",
      "mean............ 2.135434e+02\n",
      "variance........ 6.938295e+04\n",
      "\n",
      "GENERATION: 21\n",
      "Lexical Fit..... 1.000000e+00  1.000000e+00  \n",
      "#unique......... 124, #Total UniqueCount: 2777\n",
      "var 1:\n",
      "best............ 1.000000e+00\n",
      "mean............ 1.825953e+02\n",
      "variance........ 4.654702e+04\n",
      "\n",
      "GENERATION: 22\n",
      "Lexical Fit..... 1.000000e+00  1.000000e+00  \n",
      "#unique......... 119, #Total UniqueCount: 2896\n",
      "var 1:\n",
      "best............ 1.000000e+00\n",
      "mean............ 2.155022e+02\n",
      "variance........ 7.334850e+04\n",
      "\n",
      "GENERATION: 23\n",
      "Lexical Fit..... 1.000000e+00  1.000000e+00  \n",
      "#unique......... 116, #Total UniqueCount: 3012\n",
      "var 1:\n",
      "best............ 1.000000e+00\n",
      "mean............ 2.246122e+02\n",
      "variance........ 6.145555e+04\n",
      "\n",
      "GENERATION: 24\n",
      "Lexical Fit..... 1.000000e+00  1.000000e+00  \n",
      "#unique......... 120, #Total UniqueCount: 3132\n",
      "var 1:\n",
      "best............ 1.000000e+00\n",
      "mean............ 2.095723e+02\n",
      "variance........ 5.996048e+04\n",
      "\n",
      "GENERATION: 25\n",
      "Lexical Fit..... 1.000000e+00  1.000000e+00  \n",
      "#unique......... 124, #Total UniqueCount: 3256\n",
      "var 1:\n",
      "best............ 1.000000e+00\n",
      "mean............ 2.258830e+02\n",
      "variance........ 6.336817e+04\n",
      "\n",
      "GENERATION: 26\n",
      "Lexical Fit..... 1.000000e+00  1.000000e+00  \n",
      "#unique......... 117, #Total UniqueCount: 3373\n",
      "var 1:\n",
      "best............ 1.000000e+00\n",
      "mean............ 2.262595e+02\n",
      "variance........ 5.869080e+04\n",
      "\n",
      "'wait.generations' limit reached.\n",
      "No significant improvement in 25 generations.\n",
      "\n",
      "Solution Lexical Fitness Value:\n",
      "1.000000e+00  1.000000e+00  \n",
      "\n",
      "Parameters at the Solution:\n",
      "\n",
      " X[ 1] :\t1.000000e+00\n",
      "\n",
      "Solution Found Generation 1\n",
      "Number of Generations Run 26\n",
      "\n",
      "Mon Dec 16 11:30:39 2019\n",
      "Total run time : 0 hours 0 minutes and 1 seconds\n"
     ]
    },
    {
     "data": {
      "text/html": [
       "<ol class=list-inline>\n",
       "\t<li>3</li>\n",
       "\t<li>5</li>\n",
       "\t<li>1</li>\n",
       "\t<li>5</li>\n",
       "</ol>\n"
      ],
      "text/latex": [
       "\\begin{enumerate*}\n",
       "\\item 3\n",
       "\\item 5\n",
       "\\item 1\n",
       "\\item 5\n",
       "\\end{enumerate*}\n"
      ],
      "text/markdown": [
       "1. 3\n",
       "2. 5\n",
       "3. 1\n",
       "4. 5\n",
       "\n",
       "\n"
      ],
      "text/plain": [
       "[1] 3 5 1 5"
      ]
     },
     "execution_count": 50,
     "metadata": {
     },
     "output_type": "execute_result"
    },
    {
     "data": {
      "text/html": [
       "<ol class=list-inline>\n",
       "\t<li>2</li>\n",
       "\t<li>2</li>\n",
       "\t<li>4</li>\n",
       "\t<li>4</li>\n",
       "</ol>\n"
      ],
      "text/latex": [
       "\\begin{enumerate*}\n",
       "\\item 2\n",
       "\\item 2\n",
       "\\item 4\n",
       "\\item 4\n",
       "\\end{enumerate*}\n"
      ],
      "text/markdown": [
       "1. 2\n",
       "2. 2\n",
       "3. 4\n",
       "4. 4\n",
       "\n",
       "\n"
      ],
      "text/plain": [
       "[1] 2 2 4 4"
      ]
     },
     "execution_count": 50,
     "metadata": {
     },
     "output_type": "execute_result"
    },
    {
     "name": "stdout",
     "output_type": "stream",
     "text": [
      "\n",
      "***** (V1) food_kilos *****\n",
      "                       Before Matching \t \t After Matching\n",
      "mean treatment........        200 \t \t        200 \n",
      "mean control..........        200 \t \t        200 \n",
      "std mean diff.........          0 \t \t          0 \n",
      "\n",
      "mean raw eQQ diff.....          0 \t \t          0 \n",
      "med  raw eQQ diff.....          0 \t \t          0 \n",
      "max  raw eQQ diff.....          0 \t \t          0 \n",
      "\n",
      "mean eCDF diff........          0 \t \t          0 \n",
      "med  eCDF diff........          0 \t \t          0 \n",
      "max  eCDF diff........          0 \t \t          0 \n",
      "\n",
      "var ratio (Tr/Co).....        NaN \t \t        NaN \n",
      "T-test p-value........          1 \t \t          1 \n",
      "\n"
     ]
    },
    {
     "data": {
      "text/html": [
       "1"
      ],
      "text/latex": [
       "1"
      ],
      "text/markdown": [
       "1"
      ],
      "text/plain": [
       "[1] 1"
      ]
     },
     "execution_count": 50,
     "metadata": {
     },
     "output_type": "execute_result"
    },
    {
     "data": {
      "text/html": [
       "1"
      ],
      "text/latex": [
       "1"
      ],
      "text/markdown": [
       "1"
      ],
      "text/plain": [
       "[1] 1"
      ]
     },
     "execution_count": 50,
     "metadata": {
     },
     "output_type": "execute_result"
    }
   ],
   "source": [
    "# M=2 matching\n",
    "genout_m2<- GenMatch(X = food_kilos, Tr = tr, M=2,  pop.size=200, max.generations=10, wait.generations=25, ties = F)\n",
    "\n",
    "matchout_m2 <- Match(X = food_kilos, Tr = tr, M=2, Weight.matrix=genout_m2, ties = F)\n",
    "matchout_m2$index.control\n",
    "matchout_m2$index.treated\n",
    "\n",
    "mb.out_m2 <- MatchBalance(tr~food_kilos, match.out = matchout_m2, data = data)\n",
    "mb.out_m2$BMsmallest.p.value\n",
    "mb.out_m2$AMsmallest.p.value"
   ]
  },
  {
   "cell_type": "markdown",
   "metadata": {
    "collapsed": false
   },
   "source": [
    "#### What is going on? 1:1, 1:2 and no matching are all equally ecxcellent!  [1:1 = NO = 1:2 == 1 = 1 = 1]"
   ]
  },
  {
   "cell_type": "code",
   "execution_count": 51,
   "metadata": {
    "collapsed": false
   },
   "outputs": [
    {
     "data": {
      "image/png": "[encoded data removed]",
      "text/plain": [
       "plot without title"
      ]
     },
     "execution_count": 51,
     "metadata": {
     },
     "output_type": "execute_result"
    }
   ],
   "source": [
    "# plotting a graph with raw data - treated and controls\n",
    "plot_data(food_kilos, tr, m_num = 1) "
   ]
  },
  {
   "cell_type": "code",
   "execution_count": 52,
   "metadata": {
    "collapsed": false
   },
   "outputs": [
    {
     "data": {
      "image/png": "[encoded data removed]",
      "text/plain": [
       "plot without title"
      ]
     },
     "execution_count": 52,
     "metadata": {
     },
     "output_type": "execute_result"
    }
   ],
   "source": [
    "# plotting a graph with treated and 'synthetic' controls, when M = 1\n",
    "synth_cont <- add_m_control(matchout_m1, data, m_num =1)\n",
    "plot_data(food_kilos, tr, synth_cont, m_num = 1)"
   ]
  },
  {
   "cell_type": "code",
   "execution_count": 53,
   "metadata": {
    "collapsed": false
   },
   "outputs": [
    {
     "data": {
      "image/png": "[encoded data removed]",
      "text/plain": [
       "plot without title"
      ]
     },
     "execution_count": 53,
     "metadata": {
     },
     "output_type": "execute_result"
    }
   ],
   "source": [
    "# plotting a graph with treated and 'synthetic' controls, when M = 2\n",
    "synth_cont <- add_m_control(matchout_m2, data, m_num =2)\n",
    "plot_data(food_kilos, tr, synth_cont, m_num = 2)"
   ]
  },
  {
   "cell_type": "markdown",
   "metadata": {
    "collapsed": false
   },
   "source": [
    "---"
   ]
  },
  {
   "cell_type": "markdown",
   "metadata": {
    "collapsed": false
   },
   "source": [
    "## Appendix"
   ]
  },
  {
   "cell_type": "markdown",
   "metadata": {
    "collapsed": false
   },
   "source": [
    "### Function used for plotting control, treated, and 'synthetic' control values "
   ]
  },
  {
   "cell_type": "code",
   "execution_count": 3,
   "metadata": {
    "collapsed": false
   },
   "outputs": [
   ],
   "source": [
    "# Adding the \"synthetic\" control from multiple matching\n",
    "add_m_control <- function(matchout, data, m_num) { # gets as input the output from Match / GenMatch\n",
    "    # Create two vectors to store in values \n",
    "    treated <- c() # vector to collect one time instances of treated units that got matched\n",
    "    syn_c_matches <- c() # vector to collect final composite \"synthetic\" match for treated units\n",
    "    # Get the values for the matches\n",
    "    m <- matchout$matches # get the treated units, control matches, and weights: a vector\n",
    "    t <- matchout$index.treated # get the treated units indeces: a vector\n",
    "    c <- matchout$index.control # and the matched control units: a vector\n",
    "    w <- matchout$weights # and the weight given to each match: a vector\n",
    " \n",
    "    for (i in seq(from = 1, to =length(t), by = m_num)) { # loop through all the matched treated units\n",
    "        c_match <- data[c[i]] # get match corresponding to treated unit\n",
    "        w_match <- w[i] # get corresponding weight\n",
    "        w_c_match <- c_match*w_match # calculate the weighted value of the multiple match control unit \n",
    "        if (m_num != 1){\n",
    "            c_match2 <- data[c[i+1]] # get corresponding match\n",
    "            w_match2 <- w[i+1] # get corresponding weight\n",
    "            w_c_match2 <- c_match2*w_match2 # calculate the weighted value of the multiple match control unit \n",
    "            syn_c_match <- w_c_match + w_c_match2 # add it to the final composite (\"syn\") control match \n",
    "        }\n",
    "        if (m_num == 1) {\n",
    "            syn_c_match <- w_c_match\n",
    "        }\n",
    "        syn_c_matches <- append(syn_c_matches, syn_c_match)\n",
    "    }   \n",
    "return (syn_c_matches) # return the final \"synthetic\" matches for treated\n",
    "}"
   ]
  },
  {
   "cell_type": "code",
   "execution_count": 4,
   "metadata": {
    "collapsed": false
   },
   "outputs": [
   ],
   "source": [
    "# Create a function called plotting the axes\n",
    "plot_data <- function(data, assignment, add_data=NULL, m_num = NULL) {\n",
    "\n",
    "    # Get values from generated / passed data\n",
    "    pt_max <- max(data) # find the biggest value\n",
    "    controls_i <- which(assignment[] == 0) # identify indexes of controls\n",
    "    controls <- data[controls_i]\n",
    "    treated_i <- which(assignment[] == 1) # identify indexes of treated\n",
    "    treated <- data[treated_i]\n",
    "\n",
    "    # Define plot data\n",
    "    xlim <- c(0,pt_max*1.2) # set axis to be slightly bigger than the length of the data \n",
    "    ylim <- c(0,100) # ...   \n",
    "\n",
    "    px_control <- controls # define x-values for control pts\n",
    "    py_control <- rep(0, length(px_control)) # define y-values for control pts (0)\n",
    "    px_treated <- treated # define x-values for treated pts\n",
    "    py_treated <- rep(0, length(px_treated)) # define y-values for treated pts (0)\n",
    "    \n",
    "    px_syn <- add_data # define x-values for composite \"synthesized\" control match\n",
    "    py_syn <- rep(0, length(px_syn)) # define y-values for treated pts (0)\n",
    "\n",
    "    # Create basic plot outline\n",
    "    par(xaxs='i',yaxs='i',mar=c(5,1,1,1))\n",
    "    plot(NA,xlim=xlim,ylim=ylim,axes=F,ann=F)\n",
    "    axis(1)\n",
    "\n",
    "    # Plot elements\n",
    "    points(px_control,py_control,xpd=NA)\n",
    "    points(px_treated,py_treated,pch=16,xpd=NA)  # what does xpd mean?\n",
    "    if (m_num != 1){\n",
    "            points(px_syn, py_syn,col=\"red\",xpd=NA)\n",
    "    }else {\n",
    "        points(px_syn, py_syn,col=\"blue\",xpd=NA)\n",
    "    }\n",
    "\n",
    "}"
   ]
  }
 ],
 "metadata": {
  "kernelspec": {
   "display_name": "R (R-Project)",
   "language": "r",
   "metadata": {
    "cocalc": {
     "description": "R statistical programming language",
     "priority": 10,
     "url": "https://www.r-project.org/"
    }
   },
   "name": "ir"
  },
  "language_info": {
   "codemirror_mode": "r",
   "file_extension": ".r",
   "mimetype": "text/x-r-source",
   "name": "R",
   "pygments_lexer": "r",
   "version": "3.6.1"
  }
 },
 "nbformat": 4,
 "nbformat_minor": 0
}